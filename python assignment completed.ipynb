{
 "cells": [
  {
   "cell_type": "code",
   "execution_count": 1,
   "id": "7891fff1",
   "metadata": {},
   "outputs": [
    {
     "name": "stdout",
     "output_type": "stream",
     "text": [
      "Twinkle, twinkle, little star,\n",
      "\tHow I wonder what you are!\n",
      "\t\tUp above the world so high,\n",
      "\t\tLike a diamond in the sky.\n",
      "Twinkle, twinkle, little star,\n",
      "\tHow I wonder what you are \n"
     ]
    }
   ],
   "source": [
    "#1. print the following string in a specific format\n",
    "poem1 =\"Twinkle, twinkle, little star,\\n\\tHow I wonder what you are!\\n\\t\\tUp above the world so high,\\n\\t\\tLike a diamond in the sky.\\nTwinkle, twinkle, little star,\\n\\tHow I wonder what you are \"\n",
    "print(poem1)"
   ]
  },
  {
   "cell_type": "code",
   "execution_count": 2,
   "id": "37ecef05",
   "metadata": {},
   "outputs": [
    {
     "name": "stdout",
     "output_type": "stream",
     "text": [
      "python verison\n",
      "3.9.13 (main, Aug 25 2022, 23:51:50) [MSC v.1916 64 bit (AMD64)]\n",
      "version info.\n",
      "sys.version_info(major=3, minor=9, micro=13, releaselevel='final', serial=0)\n"
     ]
    }
   ],
   "source": [
    "#2. get the Python version you are using\n",
    "import sys\n",
    "print (\"python verison\")\n",
    "print (sys.version)\n",
    "print (\"version info.\")\n",
    "print (sys.version_info)"
   ]
  },
  {
   "cell_type": "code",
   "execution_count": 3,
   "id": "5e7adf52",
   "metadata": {},
   "outputs": [
    {
     "name": "stdout",
     "output_type": "stream",
     "text": [
      "11/06/2022, 22:19:44\n"
     ]
    }
   ],
   "source": [
    "#3. display the current date and time\n",
    "import datetime\n",
    "x = datetime.datetime.now()\n",
    "y = datetime.date.today()\n",
    "print(x.strftime(\"%m/%d/%Y, %H:%M:%S\"))\n",
    "# print (x)\n",
    "# print (y)"
   ]
  },
  {
   "cell_type": "code",
   "execution_count": 4,
   "id": "efb7fff4",
   "metadata": {},
   "outputs": [
    {
     "name": "stdout",
     "output_type": "stream",
     "text": [
      "Enter the radious of the circle5\n",
      "The area of the circle is 78.57142857142857\n"
     ]
    }
   ],
   "source": [
    "#4. which accepts the radius of a circle from the user and compute the area\n",
    "radious = float(input(\"Enter the radious of the circle\"))\n",
    "print (\"The area of the circle is\", 22/7 * (radious*radious))"
   ]
  },
  {
   "cell_type": "code",
   "execution_count": 5,
   "id": "ce5f8519",
   "metadata": {},
   "outputs": [
    {
     "name": "stdout",
     "output_type": "stream",
     "text": [
      "Enter your first name:\n",
      "shubham\n",
      "Enter your last name:\n",
      "kosta\n",
      "kosta shubham\n"
     ]
    }
   ],
   "source": [
    "#5. which accepts the user's first and last name and print them in reverse order with a space between them\n",
    "firstname = input(\"Enter your first name:\\n\")\n",
    "lastname = input(\"Enter your last name:\\n\")\n",
    "\n",
    "print (lastname,firstname)"
   ]
  },
  {
   "cell_type": "code",
   "execution_count": 7,
   "id": "e6a15961",
   "metadata": {},
   "outputs": [
    {
     "name": "stdout",
     "output_type": "stream",
     "text": [
      "('3', '5', '7', '23')\n",
      "['3', '5', '7', '23']\n"
     ]
    }
   ],
   "source": [
    "#6. which accepts a sequence of comma-separated numbers from user and generate a list and a tuple with those numbers\n",
    "mynum = \"3\",\"5\",\"7\",\"23\"\n",
    "print (tuple(mynum))\n",
    "print (list(mynum))"
   ]
  },
  {
   "cell_type": "code",
   "execution_count": 8,
   "id": "81d3c229",
   "metadata": {},
   "outputs": [
    {
     "name": "stdout",
     "output_type": "stream",
     "text": [
      "Enter your file nameshubham.py\n",
      "The extension of your file is ' py '\n"
     ]
    }
   ],
   "source": [
    "#7. accept a filename from the user and print the extension of that\n",
    "filename = str(input(\"Enter your file name\"))\n",
    "ext = filename.split(\".\")[-1]\n",
    "print (\"The extension of your file is\",\"'\",ext,\"'\")"
   ]
  },
  {
   "cell_type": "code",
   "execution_count": 11,
   "id": "49a9a674",
   "metadata": {},
   "outputs": [
    {
     "name": "stdout",
     "output_type": "stream",
     "text": [
      "Red Black\n"
     ]
    }
   ],
   "source": [
    "#8. display the first and last colors from the following list\n",
    "color_list = [\"Red\",\"Green\",\"White\" ,\"Black\"]\n",
    "print(\"%s %s\" % (color_list[0],color_list[-1]))"
   ]
  },
  {
   "cell_type": "code",
   "execution_count": 12,
   "id": "63b23d9e",
   "metadata": {},
   "outputs": [
    {
     "name": "stdout",
     "output_type": "stream",
     "text": [
      "The examination will start from : 11 / 12 / 2014\n"
     ]
    }
   ],
   "source": [
    "#9. display the examination schedule\n",
    "exam_st_date = (11, 12, 2014)\n",
    "print(\"The examination will start from : %i / %i / %i\"%exam_st_date)"
   ]
  },
  {
   "cell_type": "code",
   "execution_count": 13,
   "id": "57a66748",
   "metadata": {},
   "outputs": [
    {
     "name": "stdout",
     "output_type": "stream",
     "text": [
      "Input an integer : 6\n",
      "738\n"
     ]
    }
   ],
   "source": [
    "#10. accepts an integer (n) and computes the value of n+nn+nnn\n",
    "a = int(input(\"Input an integer : \"))\n",
    "n1 = int( \"%s\" % a )\n",
    "n2 = int( \"%s%s\" % (a,a) )\n",
    "n3 = int( \"%s%s%s\" % (a,a,a) )\n",
    "print (n1+n2+n3)"
   ]
  },
  {
   "cell_type": "code",
   "execution_count": 14,
   "id": "4f73e82c",
   "metadata": {},
   "outputs": [
    {
     "name": "stdout",
     "output_type": "stream",
     "text": [
      "Return the absolute value of the argument.\n"
     ]
    }
   ],
   "source": [
    "# 11. print the documents (syntax, description etc.) of Python built-in function(s).\n",
    "print(abs.__doc__)\n"
   ]
  },
  {
   "cell_type": "code",
   "execution_count": 15,
   "id": "8306f12c",
   "metadata": {},
   "outputs": [
    {
     "name": "stdout",
     "output_type": "stream",
     "text": [
      "Enter the year2022\n",
      "Enter the month10\n",
      "    October 2022\n",
      "Mo Tu We Th Fr Sa Su\n",
      "                1  2\n",
      " 3  4  5  6  7  8  9\n",
      "10 11 12 13 14 15 16\n",
      "17 18 19 20 21 22 23\n",
      "24 25 26 27 28 29 30\n",
      "31\n",
      "\n"
     ]
    }
   ],
   "source": [
    "# 12. print the calendar of a given month and year.\n",
    "# Note : Use 'calendar' module\n",
    "import calendar\n",
    "y = int(input(\"Enter the year\"))\n",
    "m = int(input(\"Enter the month\"))\n",
    "print(calendar.month(y,m))"
   ]
  },
  {
   "cell_type": "code",
   "execution_count": 16,
   "id": "d5c19d4d",
   "metadata": {},
   "outputs": [
    {
     "name": "stdout",
     "output_type": "stream",
     "text": [
      "a string that you \"don't\" have to escape\n",
      "This\n",
      "is a ....... multi-line\n",
      "heredoc string --------> example\n"
     ]
    }
   ],
   "source": [
    "# 13. print the following.\n",
    "print('''a string that you \"don't\" have to escape\n",
    "This\n",
    "is a ....... multi-line\n",
    "heredoc string --------> example''')"
   ]
  },
  {
   "cell_type": "code",
   "execution_count": 18,
   "id": "93515817",
   "metadata": {},
   "outputs": [
    {
     "name": "stdout",
     "output_type": "stream",
     "text": [
      "10250\n"
     ]
    }
   ],
   "source": [
    "# 14. calculate number of days between two dates.\n",
    "# Sample dates : (2014, 7, 2), (2014, 7, 11)\n",
    "from datetime import date\n",
    "birthdate = date(1994, 10, 14)\n",
    "currentdate = date(2022, 11, 6)\n",
    "diffOfdate = currentdate - birthdate\n",
    "print(diffOfdate.days)"
   ]
  },
  {
   "cell_type": "code",
   "execution_count": 20,
   "id": "d34da603",
   "metadata": {},
   "outputs": [
    {
     "name": "stdout",
     "output_type": "stream",
     "text": [
      "The volume of the sphere is:  904.7786842338603\n"
     ]
    }
   ],
   "source": [
    "# 15. get the volume of a sphere with radius 6\n",
    "pi = 3.1415926535897931\n",
    "radious = 6.0\n",
    "volume = 4/3*(pi*(radious**3))\n",
    "print('The volume of the sphere is: ', volume)"
   ]
  },
  {
   "cell_type": "code",
   "execution_count": 27,
   "id": "e83905c6",
   "metadata": {},
   "outputs": [
    {
     "data": {
      "text/plain": [
       "2"
      ]
     },
     "execution_count": 27,
     "metadata": {},
     "output_type": "execute_result"
    }
   ],
   "source": [
    "# 16. get the difference between a given number and 17, if the number is greater than 17 return double the absolute difference\n",
    "def difference(n):\n",
    "    if n <= 17:\n",
    "        return 17 - n\n",
    "    else:\n",
    "        return (n - 17) * 2\n",
    "difference(18)"
   ]
  },
  {
   "cell_type": "code",
   "execution_count": 28,
   "id": "b2f3f8dc",
   "metadata": {},
   "outputs": [
    {
     "name": "stdout",
     "output_type": "stream",
     "text": [
      "Enter the number:\n",
      "901\n",
      "True\n"
     ]
    }
   ],
   "source": [
    "# 17. test whether a number is within 100 of 1000 or 2000\n",
    "number = int(input(\"Enter the number:\\n\"))\n",
    "if number>=900 and number<=1100 or number>=1900 and number<=2100:\n",
    "    print (True)\n",
    "else:\n",
    "    print(False)"
   ]
  },
  {
   "cell_type": "code",
   "execution_count": 32,
   "id": "f485dd3d",
   "metadata": {},
   "outputs": [
    {
     "name": "stdout",
     "output_type": "stream",
     "text": [
      "Enter the value of x:\n",
      "12\n",
      "Enter the value of y:\n",
      "15\n",
      "Enter the value of z:\n",
      "18\n",
      "Values are different so sum is 42\n"
     ]
    }
   ],
   "source": [
    "# 18. calculate the sum of three given numbers, if the values are equal then return three times of their sum\n",
    "x = int(input(\"Enter the value of x:\\n\"))\n",
    "y = int(input(\"Enter the value of y:\\n\"))\n",
    "z = int(input(\"Enter the value of z:\\n\"))\n",
    "if x==y==y:\n",
    "    print (x+y+z)\n",
    "else:\n",
    "    print(\"Values are different so sum is\", x+y+y)\n",
    "    "
   ]
  },
  {
   "cell_type": "code",
   "execution_count": 35,
   "id": "5e3ef583",
   "metadata": {},
   "outputs": [
    {
     "name": "stdout",
     "output_type": "stream",
     "text": [
      "Is-shubham-good\n"
     ]
    }
   ],
   "source": [
    "# 19.  get a new string from a given string where \"Is\" has been added to the front. If the given string already begins with \"Is\" then return the string unchanged\n",
    "string = \"-shubham-good\"\n",
    "if string[0:2]==\"Is\":\n",
    "    print(\"string unchanged\")\n",
    "elif string[0:2]!=\"Is\":\n",
    "    print(\"Is\" + string)"
   ]
  },
  {
   "cell_type": "code",
   "execution_count": 2,
   "id": "75a5fe01",
   "metadata": {},
   "outputs": [
    {
     "name": "stdout",
     "output_type": "stream",
     "text": [
      "shubhamshubhamshubhamshubhamshubham\n"
     ]
    }
   ],
   "source": [
    "# 20. get a string which is n (non-negative integer) copies of a given string\n",
    "def larger_string(str, n):\n",
    "   result = \"\"\n",
    "   for i in range(n):\n",
    "      result = result + str\n",
    "   return result\n",
    "\n",
    "print(larger_string('shubham', 5))"
   ]
  },
  {
   "cell_type": "code",
   "execution_count": 3,
   "id": "5002ca2d",
   "metadata": {},
   "outputs": [
    {
     "name": "stdout",
     "output_type": "stream",
     "text": [
      "enter number:\n",
      "48\n",
      "You have entered even number\n"
     ]
    }
   ],
   "source": [
    "# 21. odd and even number identify\n",
    "a = int(input(\"enter number:\\n\"))\n",
    "if a==0:\n",
    "    print(\"You have entered number neither odd nor even so your number is zero\")\n",
    "elif a==1:\n",
    "    print(\"You have entered odd number\")\n",
    "elif a%2==1:\n",
    "    print (\"You have entered odd number\")\n",
    "elif a%2==0:\n",
    "    print(\"You have entered even number\")"
   ]
  },
  {
   "cell_type": "code",
   "execution_count": 5,
   "id": "e409d443",
   "metadata": {},
   "outputs": [
    {
     "name": "stdout",
     "output_type": "stream",
     "text": [
      "4\n"
     ]
    }
   ],
   "source": [
    "# 22. count 4 in the list.\n",
    "numbers = []\n",
    "a = list[numbers]\n",
    "def findout(nums):\n",
    "    count = 0\n",
    "    for num in nums:\n",
    "        if num == 4:\n",
    "          count = count + 1\n",
    "    return count \n",
    "\n",
    "print(findout([1, 4, 6, 7, 4, 5, 4, 9, 4, 7, 9, 3]))"
   ]
  },
  {
   "cell_type": "code",
   "execution_count": 6,
   "id": "84e3baee",
   "metadata": {},
   "outputs": [
    {
     "ename": "SyntaxError",
     "evalue": "invalid syntax (4057998203.py, line 1)",
     "output_type": "error",
     "traceback": [
      "\u001b[1;36m  Input \u001b[1;32mIn [6]\u001b[1;36m\u001b[0m\n\u001b[1;33m    ************************ not solved ******************************\u001b[0m\n\u001b[1;37m    ^\u001b[0m\n\u001b[1;31mSyntaxError\u001b[0m\u001b[1;31m:\u001b[0m invalid syntax\n"
     ]
    }
   ],
   "source": [
    " ************************ not solved ******************************\n",
    "# # 23. number of copies\n",
    "# my_str = str(input(\"Enter string here:\\n\"))\n",
    "# n = int(input(\"Enter number of copies\\n\"))\n",
    "# na = 1\n",
    "# for i in range(1, na + 1):\n",
    "#     while na == n:\n",
    "#         # if len(my_str[:2]):\n",
    "#         print(my_str[:2])\n",
    "\n",
    "\n",
    "\n",
    "# ************************ "
   ]
  },
  {
   "cell_type": "code",
   "execution_count": 7,
   "id": "0fd890ba",
   "metadata": {},
   "outputs": [
    {
     "name": "stdout",
     "output_type": "stream",
     "text": [
      "Enter string here:\n",
      "shubham\n",
      "Yes vowel is present in the string\n",
      "Yes vowel is present in the string\n",
      "Yes vowel is present in the string\n",
      "Yes vowel is present in the string\n",
      "Yes vowel is present in the string\n",
      "Yes vowel is present in the string\n",
      "Yes vowel is present in the string\n"
     ]
    }
   ],
   "source": [
    "#  24. passed letter is vowel or not??\n",
    "my_str = str(input(\"Enter string here:\\n\"))\n",
    "vowels = \"aeiou\"\n",
    "for vowels in my_str:\n",
    "    print (\"Yes vowel is present in the string\")"
   ]
  },
  {
   "cell_type": "code",
   "execution_count": 8,
   "id": "d42d851c",
   "metadata": {},
   "outputs": [
    {
     "name": "stdout",
     "output_type": "stream",
     "text": [
      "enter number:\n",
      "5\n",
      "4\n",
      "[4]\n",
      "5\n",
      "[4, 5]\n",
      "6\n",
      "[4, 5, 6]\n",
      "8\n",
      "[4, 5, 6, 8]\n",
      "7\n",
      "[4, 5, 6, 8, 7]\n",
      "[4, 5, 6, 8, 7]\n",
      "Enter number which you want to find:\n",
      "6\n",
      "exist 6\n"
     ]
    }
   ],
   "source": [
    "#  25. Python program to check whether a specified value is contained in a group of values\n",
    "n = int(input(\"enter number:\\n\"))\n",
    "create_list = []\n",
    "while n != 0:\n",
    "    create_list.append(int(input()))\n",
    "    print (create_list)\n",
    "    n = n-1\n",
    "\n",
    "print(create_list)\n",
    "\n",
    "findnum = int(input(\"Enter number which you want to find:\\n\"))\n",
    "if findnum in create_list:\n",
    "    print(\"exist\", findnum)\n",
    "else:\n",
    "    print(\"not exist\", findnum)"
   ]
  },
  {
   "cell_type": "code",
   "execution_count": 9,
   "id": "39acfa5d",
   "metadata": {},
   "outputs": [
    {
     "name": "stdout",
     "output_type": "stream",
     "text": [
      "enter number:\n",
      "5\n",
      "4\n",
      "[4]\n",
      "5\n",
      "[4, 5]\n",
      "58\n",
      "[4, 5, 58]\n",
      "5\n",
      "[4, 5, 58, 5]\n",
      "58\n",
      "[4, 5, 58, 5, 58]\n",
      "@@@@\n",
      "@@@@@\n",
      "@@@@@@@@@@@@@@@@@@@@@@@@@@@@@@@@@@@@@@@@@@@@@@@@@@@@@@@@@@\n",
      "@@@@@\n",
      "@@@@@@@@@@@@@@@@@@@@@@@@@@@@@@@@@@@@@@@@@@@@@@@@@@@@@@@@@@\n"
     ]
    }
   ],
   "source": [
    "# 26.  histogram from a given list of integers\n",
    "n = int(input(\"enter number:\\n\"))\n",
    "create_list = []\n",
    "while n != 0:\n",
    "    create_list.append(int(input()))\n",
    "    print (create_list)\n",
    "    n = n-1\n",
    "                                      #[2,3,4]\n",
    "for t in create_list:\n",
    "    output = \"\"\n",
    "    times = t\n",
    "    while (times > 0):\n",
    "        output += \"@\"\n",
    "        times = times - 1\n",
    "    print (output)                  #@@\n",
    "                                    #@@@\n",
    "                                    #@@@@\n"
   ]
  },
  {
   "cell_type": "code",
   "execution_count": 10,
   "id": "216ee556",
   "metadata": {},
   "outputs": [
    {
     "name": "stdout",
     "output_type": "stream",
     "text": [
      "enter number:\n",
      "2\n",
      "5\n",
      "['5']\n",
      "9\n",
      "['5', '9']\n",
      "59\n"
     ]
    }
   ],
   "source": [
    "# 27. Write a Python program to concatenate all elements in a list into a string and return it.\n",
    "\n",
    "n = int(input(\"enter number:\\n\"))\n",
    "list = []\n",
    "while n != 0:\n",
    "    list.append((input()))\n",
    "    print (list)\n",
    "    n = n-1\n",
    "    write = \"\"\n",
    "    for num in list:\n",
    "        write += str(num)\n",
    "print (write)"
   ]
  },
  {
   "cell_type": "code",
   "execution_count": 11,
   "id": "cf95886d",
   "metadata": {},
   "outputs": [
    {
     "name": "stdout",
     "output_type": "stream",
     "text": [
      "386\n",
      "462\n",
      "418\n",
      "344\n",
      "236\n",
      "566\n",
      "978\n",
      "328\n",
      "162\n",
      "758\n",
      "918\n"
     ]
    }
   ],
   "source": [
    "# 28. Write a Python program to print all even numbers from a given numbers list in the same order and stop the printing if any numbers that come after 237 in the sequence. Go to the editor\n",
    "# Sample numbers list :\n",
    "numbers = [    \n",
    "    386, 462, 47, 418, 907, 344, 236, 375, 823, 566, 597, 978, 328, 615, 953, 345, \n",
    "    399, 162, 758, 219, 918, 237, 412, 566, 826, 248, 866, 950, 626, 949, 687, 217, \n",
    "    815, 67, 104, 58, 512, 24, 892, 894, 767, 553, 81, 379, 843, 831, 445, 742, 717, \n",
    "    958,743, 527\n",
    "    ]\n",
    "\n",
    "for x in numbers:\n",
    "    if x == 237:\n",
    "        break\n",
    "    elif x%2==0:\n",
    "        print (x)"
   ]
  },
  {
   "cell_type": "code",
   "execution_count": 12,
   "id": "68f2d854",
   "metadata": {},
   "outputs": [
    {
     "name": "stdout",
     "output_type": "stream",
     "text": [
      "{'Black', 'White'}\n",
      "{'Green'}\n"
     ]
    }
   ],
   "source": [
    "# 29. Write a Python program to print out a set containing all the colors from color_list_1 which are not present in color_list_2.\n",
    "color_list_1 = set([\"White\", \"Black\", \"Red\"])\n",
    "color_list_2 = set([\"Red\", \"Green\"])\n",
    "\n",
    "                                                       #for color in color_list_2:\n",
    "                                                       #if color in color_list_1:\n",
    "                                                       #print (color)\n",
    "\n",
    "print(color_list_1.difference(color_list_2))\n",
    "print(color_list_2.difference(color_list_1))"
   ]
  },
  {
   "cell_type": "code",
   "execution_count": 13,
   "id": "aafc6c23",
   "metadata": {},
   "outputs": [
    {
     "name": "stdout",
     "output_type": "stream",
     "text": [
      "Enter the base of triangle:\n",
      "6\n",
      "Enter the height of triangle:\n",
      "12\n",
      "36.0\n"
     ]
    }
   ],
   "source": [
    "# 30.  Area of a triangle\n",
    "\n",
    "base = int(input(\"Enter the base of triangle:\\n\"))\n",
    "height = int(input(\"Enter the height of triangle:\\n\"))\n",
    "area = 0.5*base*height\n",
    "print (area)"
   ]
  },
  {
   "cell_type": "code",
   "execution_count": 14,
   "id": "d46b6a8d",
   "metadata": {},
   "outputs": [],
   "source": [
    "# 31. ************************ not solved ******************************"
   ]
  },
  {
   "cell_type": "code",
   "execution_count": 15,
   "id": "951585fb",
   "metadata": {},
   "outputs": [
    {
     "name": "stdout",
     "output_type": "stream",
     "text": [
      "Enter 1st number:\n",
      "5\n",
      "Enter 2nd number:\n",
      "2\n",
      "Enter 3rd number:\n",
      "3\n",
      "The sum of a, b and c is 10\n"
     ]
    }
   ],
   "source": [
    "# 32. Write a Python program to sum of three given integers. However, if two values are equal sum will be zero\n",
    "a = int(input(\"Enter 1st number:\\n\"))\n",
    "b = int(input(\"Enter 2nd number:\\n\"))\n",
    "c = int(input(\"Enter 3rd number:\\n\"))\n",
    "sum = a+b+c\n",
    "if a==b:\n",
    "    print(\"0\")\n",
    "elif b==c:\n",
    "    print(\"0\")\n",
    "elif c==a:\n",
    "    print(\"0\")\n",
    "else:\n",
    "    print(\"The sum of a, b and c is\",sum)"
   ]
  },
  {
   "cell_type": "code",
   "execution_count": 16,
   "id": "ee372ea4",
   "metadata": {},
   "outputs": [],
   "source": [
    "# 33. ************************ not solved ******************************"
   ]
  },
  {
   "cell_type": "code",
   "execution_count": 19,
   "id": "2234078a",
   "metadata": {},
   "outputs": [
    {
     "name": "stdout",
     "output_type": "stream",
     "text": [
      "Enter 1st number:\n",
      "10\n",
      "Enter 2nd number:\n",
      "7\n",
      "20\n"
     ]
    },
    {
     "ename": "KeyboardInterrupt",
     "evalue": "Interrupted by user",
     "output_type": "error",
     "traceback": [
      "\u001b[1;31m---------------------------------------------------------------------------\u001b[0m",
      "\u001b[1;31mKeyboardInterrupt\u001b[0m                         Traceback (most recent call last)",
      "Input \u001b[1;32mIn [19]\u001b[0m, in \u001b[0;36m<cell line: 20>\u001b[1;34m()\u001b[0m\n\u001b[0;32m     17\u001b[0m     \u001b[38;5;28;01melse\u001b[39;00m:\n\u001b[0;32m     18\u001b[0m         \u001b[38;5;28;01mreturn\u001b[39;00m cal\n\u001b[1;32m---> 20\u001b[0m a \u001b[38;5;241m=\u001b[39m \u001b[38;5;28mint\u001b[39m(\u001b[38;5;28;43minput\u001b[39;49m\u001b[43m(\u001b[49m\u001b[38;5;124;43m\"\u001b[39;49m\u001b[38;5;124;43mEnter 1st number:\u001b[39;49m\u001b[38;5;130;43;01m\\n\u001b[39;49;00m\u001b[38;5;124;43m\"\u001b[39;49m\u001b[43m)\u001b[49m)\n\u001b[0;32m     21\u001b[0m b \u001b[38;5;241m=\u001b[39m \u001b[38;5;28mint\u001b[39m(\u001b[38;5;28minput\u001b[39m(\u001b[38;5;124m\"\u001b[39m\u001b[38;5;124mEnter 2nd number:\u001b[39m\u001b[38;5;130;01m\\n\u001b[39;00m\u001b[38;5;124m\"\u001b[39m))\n\u001b[0;32m     22\u001b[0m \u001b[38;5;28mprint\u001b[39m(\u001b[38;5;28msum\u001b[39m(a, b))\n",
      "File \u001b[1;32m~\\Anaconda3\\lib\\site-packages\\ipykernel\\kernelbase.py:1075\u001b[0m, in \u001b[0;36mKernel.raw_input\u001b[1;34m(self, prompt)\u001b[0m\n\u001b[0;32m   1071\u001b[0m \u001b[38;5;28;01mif\u001b[39;00m \u001b[38;5;129;01mnot\u001b[39;00m \u001b[38;5;28mself\u001b[39m\u001b[38;5;241m.\u001b[39m_allow_stdin:\n\u001b[0;32m   1072\u001b[0m     \u001b[38;5;28;01mraise\u001b[39;00m StdinNotImplementedError(\n\u001b[0;32m   1073\u001b[0m         \u001b[38;5;124m\"\u001b[39m\u001b[38;5;124mraw_input was called, but this frontend does not support input requests.\u001b[39m\u001b[38;5;124m\"\u001b[39m\n\u001b[0;32m   1074\u001b[0m     )\n\u001b[1;32m-> 1075\u001b[0m \u001b[38;5;28;01mreturn\u001b[39;00m \u001b[38;5;28;43mself\u001b[39;49m\u001b[38;5;241;43m.\u001b[39;49m\u001b[43m_input_request\u001b[49m\u001b[43m(\u001b[49m\n\u001b[0;32m   1076\u001b[0m \u001b[43m    \u001b[49m\u001b[38;5;28;43mstr\u001b[39;49m\u001b[43m(\u001b[49m\u001b[43mprompt\u001b[49m\u001b[43m)\u001b[49m\u001b[43m,\u001b[49m\n\u001b[0;32m   1077\u001b[0m \u001b[43m    \u001b[49m\u001b[38;5;28;43mself\u001b[39;49m\u001b[38;5;241;43m.\u001b[39;49m\u001b[43m_parent_ident\u001b[49m\u001b[43m[\u001b[49m\u001b[38;5;124;43m\"\u001b[39;49m\u001b[38;5;124;43mshell\u001b[39;49m\u001b[38;5;124;43m\"\u001b[39;49m\u001b[43m]\u001b[49m\u001b[43m,\u001b[49m\n\u001b[0;32m   1078\u001b[0m \u001b[43m    \u001b[49m\u001b[38;5;28;43mself\u001b[39;49m\u001b[38;5;241;43m.\u001b[39;49m\u001b[43mget_parent\u001b[49m\u001b[43m(\u001b[49m\u001b[38;5;124;43m\"\u001b[39;49m\u001b[38;5;124;43mshell\u001b[39;49m\u001b[38;5;124;43m\"\u001b[39;49m\u001b[43m)\u001b[49m\u001b[43m,\u001b[49m\n\u001b[0;32m   1079\u001b[0m \u001b[43m    \u001b[49m\u001b[43mpassword\u001b[49m\u001b[38;5;241;43m=\u001b[39;49m\u001b[38;5;28;43;01mFalse\u001b[39;49;00m\u001b[43m,\u001b[49m\n\u001b[0;32m   1080\u001b[0m \u001b[43m\u001b[49m\u001b[43m)\u001b[49m\n",
      "File \u001b[1;32m~\\Anaconda3\\lib\\site-packages\\ipykernel\\kernelbase.py:1120\u001b[0m, in \u001b[0;36mKernel._input_request\u001b[1;34m(self, prompt, ident, parent, password)\u001b[0m\n\u001b[0;32m   1117\u001b[0m             \u001b[38;5;28;01mbreak\u001b[39;00m\n\u001b[0;32m   1118\u001b[0m \u001b[38;5;28;01mexcept\u001b[39;00m \u001b[38;5;167;01mKeyboardInterrupt\u001b[39;00m:\n\u001b[0;32m   1119\u001b[0m     \u001b[38;5;66;03m# re-raise KeyboardInterrupt, to truncate traceback\u001b[39;00m\n\u001b[1;32m-> 1120\u001b[0m     \u001b[38;5;28;01mraise\u001b[39;00m \u001b[38;5;167;01mKeyboardInterrupt\u001b[39;00m(\u001b[38;5;124m\"\u001b[39m\u001b[38;5;124mInterrupted by user\u001b[39m\u001b[38;5;124m\"\u001b[39m) \u001b[38;5;28;01mfrom\u001b[39;00m \u001b[38;5;28mNone\u001b[39m\n\u001b[0;32m   1121\u001b[0m \u001b[38;5;28;01mexcept\u001b[39;00m \u001b[38;5;167;01mException\u001b[39;00m:\n\u001b[0;32m   1122\u001b[0m     \u001b[38;5;28mself\u001b[39m\u001b[38;5;241m.\u001b[39mlog\u001b[38;5;241m.\u001b[39mwarning(\u001b[38;5;124m\"\u001b[39m\u001b[38;5;124mInvalid Message:\u001b[39m\u001b[38;5;124m\"\u001b[39m, exc_info\u001b[38;5;241m=\u001b[39m\u001b[38;5;28;01mTrue\u001b[39;00m)\n",
      "\u001b[1;31mKeyboardInterrupt\u001b[0m: Interrupted by user"
     ]
    }
   ],
   "source": [
    "# 34. Write a Python program to sum of two given integers. However, if the sum is between 15 to 20 it will return 20\n",
    "\n",
    "a = int(input(\"Enter 1st number:\\n\"))\n",
    "b = int(input(\"Enter 2nd number:\\n\"))\n",
    "c = a + b\n",
    "\n",
    "if c>= 15 and c<=20:\n",
    "    print(20)\n",
    "else:\n",
    "    print (c)\n",
    "\n",
    "\n",
    "def sum(a, b):\n",
    "    cal = a + b\n",
    "    if cal in range (15, 20):\n",
    "        return 20\n",
    "    else:\n",
    "        return cal\n",
    "\n",
    "a = int(input(\"Enter 1st number:\\n\"))\n",
    "b = int(input(\"Enter 2nd number:\\n\"))\n",
    "print(sum(a, b))"
   ]
  },
  {
   "cell_type": "code",
   "execution_count": 20,
   "id": "ef01f87c",
   "metadata": {},
   "outputs": [
    {
     "name": "stdout",
     "output_type": "stream",
     "text": [
      "Enter 1st number:\n",
      "5\n",
      "Enter 2nd number:\n",
      "10\n",
      "True\n"
     ]
    }
   ],
   "source": [
    "# 35. Write a Python program that will return true if the two given integer values are equal or their sum or difference is 5\n",
    "def sum(a, b):\n",
    "    # c = a + b\n",
    "    if a==b or abs(a-b)==5 or a+b==5:\n",
    "        return True\n",
    "    else:\n",
    "        return False\n",
    "    \n",
    "a = int(input(\"Enter 1st number:\\n\"))\n",
    "b = int(input(\"Enter 2nd number:\\n\"))\n",
    "print(sum(5, 10))"
   ]
  },
  {
   "cell_type": "code",
   "execution_count": 21,
   "id": "88d50196",
   "metadata": {},
   "outputs": [
    {
     "name": "stdout",
     "output_type": "stream",
     "text": [
      "Your number is not integer\n"
     ]
    }
   ],
   "source": [
    "# 36.  Write a Python program to add two objects if both objects are an integer type\n",
    "\n",
    "def num(a, b):\n",
    "    if not (isinstance(a, int)) and (isinstance(b, int)):\n",
    "        return \"Your number is not integer\"\n",
    "    return a + b\n",
    "\n",
    "                                            # a = input(\"Enter 1st number:\\n\")\n",
    "                                            # b = input(\"Enter 2nd number:\\n\")\n",
    "print(num(\"5\", 10))"
   ]
  },
  {
   "cell_type": "code",
   "execution_count": 22,
   "id": "7072983d",
   "metadata": {},
   "outputs": [
    {
     "name": "stdout",
     "output_type": "stream",
     "text": [
      "my name: shubham\n",
      "age: 28\n",
      "address: mohali\n"
     ]
    }
   ],
   "source": [
    "# 37.  Write a Python program to display your details like name, age, address in three different lines\n",
    "\n",
    "from email.headerregistry import Address\n",
    "\n",
    "def my_details(name, age, address):\n",
    "    print(f\"my name: {name}\\nage: {age}\\naddress: {address}\")\n",
    "\n",
    "my_details(\"shubham\", 28, \"mohali\")"
   ]
  },
  {
   "cell_type": "code",
   "execution_count": 24,
   "id": "599f5cb5",
   "metadata": {},
   "outputs": [
    {
     "name": "stdout",
     "output_type": "stream",
     "text": [
      "Enter the value of X:\n",
      "5\n",
      "Enter the value of Y:\n",
      "8\n",
      "169\n"
     ]
    }
   ],
   "source": [
    "# 38. solve (x + y) * (x + y)\n",
    "x = int(input(\"Enter the value of X:\\n\"))\n",
    "y = int(input(\"Enter the value of Y:\\n\"))\n",
    "\n",
    "print ((x+y)*((x+y)))"
   ]
  },
  {
   "cell_type": "code",
   "execution_count": 25,
   "id": "1dc82a97",
   "metadata": {},
   "outputs": [
    {
     "name": "stdout",
     "output_type": "stream",
     "text": [
      "Enter the principal amount here:\n",
      "1500\n",
      "Enter the interest rate here:\n",
      "5\n",
      "Enter the time in years here:\n",
      "5\n",
      "1914.4223437500004\n"
     ]
    }
   ],
   "source": [
    "# 39. compute the future value of a specified principal amount, rate of interest, and a number of years\n",
    "principal = int(input(\"Enter the principal amount here:\\n\"))\n",
    "irate = float(input(\"Enter the interest rate here:\\n\"))\n",
    "time = int(input(\"Enter the time in years here:\\n\"))\n",
    "\n",
    "future_amount = (principal * (1 + (irate/100))**time)\n",
    "print (future_amount)"
   ]
  },
  {
   "cell_type": "code",
   "execution_count": 27,
   "id": "4be5ba14",
   "metadata": {},
   "outputs": [
    {
     "name": "stdout",
     "output_type": "stream",
     "text": [
      "Enter the value of x1:\n",
      "3.114\n",
      "Enter the value of x2:\n",
      "5.484\n",
      "Enter the value of y1:\n",
      "9.1848\n",
      "Enter the value of y2:\n",
      "7.51\n",
      "2.902043252606687\n"
     ]
    }
   ],
   "source": [
    "# 40. compute the distance between the points (x1, y1) and (x2, y2)\n",
    "import math\n",
    "x1 = float(input(\"Enter the value of x1:\\n\"))\n",
    "x2 = float(input(\"Enter the value of x2:\\n\"))\n",
    "y1 = float(input(\"Enter the value of y1:\\n\"))\n",
    "y2 = float(input(\"Enter the value of y2:\\n\"))\n",
    "p1 = [x1, y1]\n",
    "p2 = [x2, y2]\n",
    "distance = math.sqrt((x1-x2)**2 + (y1-y2)**2)\n",
    "print (distance)"
   ]
  },
  {
   "cell_type": "code",
   "execution_count": 28,
   "id": "bb9b11ca",
   "metadata": {},
   "outputs": [
    {
     "name": "stdout",
     "output_type": "stream",
     "text": [
      "True\n",
      "True\n"
     ]
    }
   ],
   "source": [
    "# 41. check whether a file exists\n",
    "import os.path\n",
    "print(os.path.exists(\"new.py\"))\n",
    "print(os.path.isfile(\"replace.ipynb\"))"
   ]
  },
  {
   "cell_type": "code",
   "execution_count": 30,
   "id": "38ae4341",
   "metadata": {},
   "outputs": [
    {
     "name": "stdout",
     "output_type": "stream",
     "text": [
      "64\n"
     ]
    }
   ],
   "source": [
    "# 42.  determine if a Python shell is executing in 32bit or 64bit mode on OS\n",
    "\n",
    "import struct\n",
    "print(struct.calcsize(\"P\") * 8) #P represent for the \"pointer\", 64bit= 8, 32bit= 4 bit"
   ]
  },
  {
   "cell_type": "code",
   "execution_count": 31,
   "id": "567f25e4",
   "metadata": {},
   "outputs": [
    {
     "name": "stdout",
     "output_type": "stream",
     "text": [
      "Your operating system is:- nt\n",
      "Your platform:- Windows\n",
      "version of your platform:- 10\n"
     ]
    }
   ],
   "source": [
    "# # 43. Get OS name, platform and release information\n",
    "import os\n",
    "import platform\n",
    "print(\"Your operating system is:-\", os.name)\n",
    "print(\"Your platform:-\", platform.system())\n",
    "print(\"version of your platform:-\", platform.release())"
   ]
  },
  {
   "cell_type": "code",
   "execution_count": 32,
   "id": "3e665731",
   "metadata": {},
   "outputs": [
    {
     "name": "stdout",
     "output_type": "stream",
     "text": [
      "['C:\\\\Users\\\\HalwaShubham.SEASIAINFOTECH\\\\Anaconda3', 'C:\\\\Users\\\\HalwaShubham.SEASIAINFOTECH\\\\Anaconda3\\\\lib\\\\site-packages']\n"
     ]
    }
   ],
   "source": [
    "# 44. locate Python site-packages\n",
    "import site; \n",
    "print(site.getsitepackages())\n"
   ]
  },
  {
   "cell_type": "code",
   "execution_count": 35,
   "id": "0c561982",
   "metadata": {},
   "outputs": [
    {
     "ename": "FileNotFoundError",
     "evalue": "[WinError 2] The system cannot find the file specified",
     "output_type": "error",
     "traceback": [
      "\u001b[1;31m---------------------------------------------------------------------------\u001b[0m",
      "\u001b[1;31mFileNotFoundError\u001b[0m                         Traceback (most recent call last)",
      "Input \u001b[1;32mIn [35]\u001b[0m, in \u001b[0;36m<cell line: 3>\u001b[1;34m()\u001b[0m\n\u001b[0;32m      1\u001b[0m \u001b[38;5;66;03m# 45. Call an external command\u001b[39;00m\n\u001b[0;32m      2\u001b[0m \u001b[38;5;28;01mfrom\u001b[39;00m \u001b[38;5;21;01msubprocess\u001b[39;00m \u001b[38;5;28;01mimport\u001b[39;00m call\n\u001b[1;32m----> 3\u001b[0m \u001b[43mcall\u001b[49m\u001b[43m(\u001b[49m\u001b[43m[\u001b[49m\u001b[38;5;124;43m\"\u001b[39;49m\u001b[38;5;124;43mdir\u001b[39;49m\u001b[38;5;124;43m\"\u001b[39;49m\u001b[43m]\u001b[49m\u001b[43m)\u001b[49m\n",
      "File \u001b[1;32m~\\Anaconda3\\lib\\subprocess.py:349\u001b[0m, in \u001b[0;36mcall\u001b[1;34m(timeout, *popenargs, **kwargs)\u001b[0m\n\u001b[0;32m    341\u001b[0m \u001b[38;5;28;01mdef\u001b[39;00m \u001b[38;5;21mcall\u001b[39m(\u001b[38;5;241m*\u001b[39mpopenargs, timeout\u001b[38;5;241m=\u001b[39m\u001b[38;5;28;01mNone\u001b[39;00m, \u001b[38;5;241m*\u001b[39m\u001b[38;5;241m*\u001b[39mkwargs):\n\u001b[0;32m    342\u001b[0m     \u001b[38;5;124;03m\"\"\"Run command with arguments.  Wait for command to complete or\u001b[39;00m\n\u001b[0;32m    343\u001b[0m \u001b[38;5;124;03m    timeout, then return the returncode attribute.\u001b[39;00m\n\u001b[0;32m    344\u001b[0m \n\u001b[1;32m   (...)\u001b[0m\n\u001b[0;32m    347\u001b[0m \u001b[38;5;124;03m    retcode = call([\"ls\", \"-l\"])\u001b[39;00m\n\u001b[0;32m    348\u001b[0m \u001b[38;5;124;03m    \"\"\"\u001b[39;00m\n\u001b[1;32m--> 349\u001b[0m     \u001b[38;5;28;01mwith\u001b[39;00m Popen(\u001b[38;5;241m*\u001b[39mpopenargs, \u001b[38;5;241m*\u001b[39m\u001b[38;5;241m*\u001b[39mkwargs) \u001b[38;5;28;01mas\u001b[39;00m p:\n\u001b[0;32m    350\u001b[0m         \u001b[38;5;28;01mtry\u001b[39;00m:\n\u001b[0;32m    351\u001b[0m             \u001b[38;5;28;01mreturn\u001b[39;00m p\u001b[38;5;241m.\u001b[39mwait(timeout\u001b[38;5;241m=\u001b[39mtimeout)\n",
      "File \u001b[1;32m~\\Anaconda3\\lib\\subprocess.py:951\u001b[0m, in \u001b[0;36mPopen.__init__\u001b[1;34m(self, args, bufsize, executable, stdin, stdout, stderr, preexec_fn, close_fds, shell, cwd, env, universal_newlines, startupinfo, creationflags, restore_signals, start_new_session, pass_fds, user, group, extra_groups, encoding, errors, text, umask)\u001b[0m\n\u001b[0;32m    947\u001b[0m         \u001b[38;5;28;01mif\u001b[39;00m \u001b[38;5;28mself\u001b[39m\u001b[38;5;241m.\u001b[39mtext_mode:\n\u001b[0;32m    948\u001b[0m             \u001b[38;5;28mself\u001b[39m\u001b[38;5;241m.\u001b[39mstderr \u001b[38;5;241m=\u001b[39m io\u001b[38;5;241m.\u001b[39mTextIOWrapper(\u001b[38;5;28mself\u001b[39m\u001b[38;5;241m.\u001b[39mstderr,\n\u001b[0;32m    949\u001b[0m                     encoding\u001b[38;5;241m=\u001b[39mencoding, errors\u001b[38;5;241m=\u001b[39merrors)\n\u001b[1;32m--> 951\u001b[0m     \u001b[38;5;28;43mself\u001b[39;49m\u001b[38;5;241;43m.\u001b[39;49m\u001b[43m_execute_child\u001b[49m\u001b[43m(\u001b[49m\u001b[43margs\u001b[49m\u001b[43m,\u001b[49m\u001b[43m \u001b[49m\u001b[43mexecutable\u001b[49m\u001b[43m,\u001b[49m\u001b[43m \u001b[49m\u001b[43mpreexec_fn\u001b[49m\u001b[43m,\u001b[49m\u001b[43m \u001b[49m\u001b[43mclose_fds\u001b[49m\u001b[43m,\u001b[49m\n\u001b[0;32m    952\u001b[0m \u001b[43m                        \u001b[49m\u001b[43mpass_fds\u001b[49m\u001b[43m,\u001b[49m\u001b[43m \u001b[49m\u001b[43mcwd\u001b[49m\u001b[43m,\u001b[49m\u001b[43m \u001b[49m\u001b[43menv\u001b[49m\u001b[43m,\u001b[49m\n\u001b[0;32m    953\u001b[0m \u001b[43m                        \u001b[49m\u001b[43mstartupinfo\u001b[49m\u001b[43m,\u001b[49m\u001b[43m \u001b[49m\u001b[43mcreationflags\u001b[49m\u001b[43m,\u001b[49m\u001b[43m \u001b[49m\u001b[43mshell\u001b[49m\u001b[43m,\u001b[49m\n\u001b[0;32m    954\u001b[0m \u001b[43m                        \u001b[49m\u001b[43mp2cread\u001b[49m\u001b[43m,\u001b[49m\u001b[43m \u001b[49m\u001b[43mp2cwrite\u001b[49m\u001b[43m,\u001b[49m\n\u001b[0;32m    955\u001b[0m \u001b[43m                        \u001b[49m\u001b[43mc2pread\u001b[49m\u001b[43m,\u001b[49m\u001b[43m \u001b[49m\u001b[43mc2pwrite\u001b[49m\u001b[43m,\u001b[49m\n\u001b[0;32m    956\u001b[0m \u001b[43m                        \u001b[49m\u001b[43merrread\u001b[49m\u001b[43m,\u001b[49m\u001b[43m \u001b[49m\u001b[43merrwrite\u001b[49m\u001b[43m,\u001b[49m\n\u001b[0;32m    957\u001b[0m \u001b[43m                        \u001b[49m\u001b[43mrestore_signals\u001b[49m\u001b[43m,\u001b[49m\n\u001b[0;32m    958\u001b[0m \u001b[43m                        \u001b[49m\u001b[43mgid\u001b[49m\u001b[43m,\u001b[49m\u001b[43m \u001b[49m\u001b[43mgids\u001b[49m\u001b[43m,\u001b[49m\u001b[43m \u001b[49m\u001b[43muid\u001b[49m\u001b[43m,\u001b[49m\u001b[43m \u001b[49m\u001b[43mumask\u001b[49m\u001b[43m,\u001b[49m\n\u001b[0;32m    959\u001b[0m \u001b[43m                        \u001b[49m\u001b[43mstart_new_session\u001b[49m\u001b[43m)\u001b[49m\n\u001b[0;32m    960\u001b[0m \u001b[38;5;28;01mexcept\u001b[39;00m:\n\u001b[0;32m    961\u001b[0m     \u001b[38;5;66;03m# Cleanup if the child failed starting.\u001b[39;00m\n\u001b[0;32m    962\u001b[0m     \u001b[38;5;28;01mfor\u001b[39;00m f \u001b[38;5;129;01min\u001b[39;00m \u001b[38;5;28mfilter\u001b[39m(\u001b[38;5;28;01mNone\u001b[39;00m, (\u001b[38;5;28mself\u001b[39m\u001b[38;5;241m.\u001b[39mstdin, \u001b[38;5;28mself\u001b[39m\u001b[38;5;241m.\u001b[39mstdout, \u001b[38;5;28mself\u001b[39m\u001b[38;5;241m.\u001b[39mstderr)):\n",
      "File \u001b[1;32m~\\Anaconda3\\lib\\subprocess.py:1420\u001b[0m, in \u001b[0;36mPopen._execute_child\u001b[1;34m(self, args, executable, preexec_fn, close_fds, pass_fds, cwd, env, startupinfo, creationflags, shell, p2cread, p2cwrite, c2pread, c2pwrite, errread, errwrite, unused_restore_signals, unused_gid, unused_gids, unused_uid, unused_umask, unused_start_new_session)\u001b[0m\n\u001b[0;32m   1418\u001b[0m \u001b[38;5;66;03m# Start the process\u001b[39;00m\n\u001b[0;32m   1419\u001b[0m \u001b[38;5;28;01mtry\u001b[39;00m:\n\u001b[1;32m-> 1420\u001b[0m     hp, ht, pid, tid \u001b[38;5;241m=\u001b[39m \u001b[43m_winapi\u001b[49m\u001b[38;5;241;43m.\u001b[39;49m\u001b[43mCreateProcess\u001b[49m\u001b[43m(\u001b[49m\u001b[43mexecutable\u001b[49m\u001b[43m,\u001b[49m\u001b[43m \u001b[49m\u001b[43margs\u001b[49m\u001b[43m,\u001b[49m\n\u001b[0;32m   1421\u001b[0m \u001b[43m                             \u001b[49m\u001b[38;5;66;43;03m# no special security\u001b[39;49;00m\n\u001b[0;32m   1422\u001b[0m \u001b[43m                             \u001b[49m\u001b[38;5;28;43;01mNone\u001b[39;49;00m\u001b[43m,\u001b[49m\u001b[43m \u001b[49m\u001b[38;5;28;43;01mNone\u001b[39;49;00m\u001b[43m,\u001b[49m\n\u001b[0;32m   1423\u001b[0m \u001b[43m                             \u001b[49m\u001b[38;5;28;43mint\u001b[39;49m\u001b[43m(\u001b[49m\u001b[38;5;129;43;01mnot\u001b[39;49;00m\u001b[43m \u001b[49m\u001b[43mclose_fds\u001b[49m\u001b[43m)\u001b[49m\u001b[43m,\u001b[49m\n\u001b[0;32m   1424\u001b[0m \u001b[43m                             \u001b[49m\u001b[43mcreationflags\u001b[49m\u001b[43m,\u001b[49m\n\u001b[0;32m   1425\u001b[0m \u001b[43m                             \u001b[49m\u001b[43menv\u001b[49m\u001b[43m,\u001b[49m\n\u001b[0;32m   1426\u001b[0m \u001b[43m                             \u001b[49m\u001b[43mcwd\u001b[49m\u001b[43m,\u001b[49m\n\u001b[0;32m   1427\u001b[0m \u001b[43m                             \u001b[49m\u001b[43mstartupinfo\u001b[49m\u001b[43m)\u001b[49m\n\u001b[0;32m   1428\u001b[0m \u001b[38;5;28;01mfinally\u001b[39;00m:\n\u001b[0;32m   1429\u001b[0m     \u001b[38;5;66;03m# Child is launched. Close the parent's copy of those pipe\u001b[39;00m\n\u001b[0;32m   1430\u001b[0m     \u001b[38;5;66;03m# handles that only the child should have open.  You need\u001b[39;00m\n\u001b[1;32m   (...)\u001b[0m\n\u001b[0;32m   1433\u001b[0m     \u001b[38;5;66;03m# pipe will not close when the child process exits and the\u001b[39;00m\n\u001b[0;32m   1434\u001b[0m     \u001b[38;5;66;03m# ReadFile will hang.\u001b[39;00m\n\u001b[0;32m   1435\u001b[0m     \u001b[38;5;28mself\u001b[39m\u001b[38;5;241m.\u001b[39m_close_pipe_fds(p2cread, p2cwrite,\n\u001b[0;32m   1436\u001b[0m                          c2pread, c2pwrite,\n\u001b[0;32m   1437\u001b[0m                          errread, errwrite)\n",
      "\u001b[1;31mFileNotFoundError\u001b[0m: [WinError 2] The system cannot find the file specified"
     ]
    }
   ],
   "source": [
    "# 45. Call an external command\n",
    "from subprocess import call\n",
    "call([\"dir\"])"
   ]
  },
  {
   "cell_type": "code",
   "execution_count": 36,
   "id": "c0e40fe5",
   "metadata": {},
   "outputs": [
    {
     "ename": "NameError",
     "evalue": "name '__file__' is not defined",
     "output_type": "error",
     "traceback": [
      "\u001b[1;31m---------------------------------------------------------------------------\u001b[0m",
      "\u001b[1;31mNameError\u001b[0m                                 Traceback (most recent call last)",
      "Input \u001b[1;32mIn [36]\u001b[0m, in \u001b[0;36m<cell line: 3>\u001b[1;34m()\u001b[0m\n\u001b[0;32m      1\u001b[0m \u001b[38;5;66;03m# 46. python program to get the path and name of the file that is currently executing\u001b[39;00m\n\u001b[0;32m      2\u001b[0m \u001b[38;5;28;01mimport\u001b[39;00m \u001b[38;5;21;01mos\u001b[39;00m\n\u001b[1;32m----> 3\u001b[0m \u001b[38;5;28mprint\u001b[39m(\u001b[38;5;124m\"\u001b[39m\u001b[38;5;124mCurrent File Name : \u001b[39m\u001b[38;5;124m\"\u001b[39m,os\u001b[38;5;241m.\u001b[39mpath\u001b[38;5;241m.\u001b[39mrealpath(\u001b[38;5;18;43m__file__\u001b[39;49m))\n",
      "\u001b[1;31mNameError\u001b[0m: name '__file__' is not defined"
     ]
    }
   ],
   "source": [
    "# 46. python program to get the path and name of the file that is currently executing\n",
    "import os\n",
    "print(\"Current File Name : \",os.path.realpath(__file__))\n"
   ]
  },
  {
   "cell_type": "code",
   "execution_count": 37,
   "id": "728113bc",
   "metadata": {},
   "outputs": [
    {
     "name": "stdout",
     "output_type": "stream",
     "text": [
      "8\n"
     ]
    }
   ],
   "source": [
    "# 47. Python program to find out the number of CPUs\n",
    "import multiprocessing\n",
    "print(multiprocessing.cpu_count())"
   ]
  },
  {
   "cell_type": "code",
   "execution_count": 38,
   "id": "ebbc5a2b",
   "metadata": {},
   "outputs": [
    {
     "name": "stdout",
     "output_type": "stream",
     "text": [
      "<class 'str'>\n",
      "246.2458\n",
      "246\n"
     ]
    }
   ],
   "source": [
    "#48. Python program to parse a string to Float or Integer\n",
    "n = \"246.2458\"\n",
    "print(type(n))\n",
    "print(float(n))\n",
    "print(int(float(n)))"
   ]
  },
  {
   "cell_type": "code",
   "execution_count": 39,
   "id": "ec1978e9",
   "metadata": {},
   "outputs": [
    {
     "name": "stdout",
     "output_type": "stream",
     "text": [
      "['.git', '.ipynb_checkpoints', '1 twinkle twinkle poem.ipynb', 'area of the circle.ipynb', 'bro.txt', 'calendar.ipynb', 'class-practice.py', 'convert to the list and tuple.ipynb', 'date and time.ipynb', 'extension print.ipynb', 'file-handling.py', 'file1.py', 'file1.txt', 'file2.py', 'file2.txt', 'first program.ipynb', 'is-present.py', 'multiline-strings.ipynb', 'name in reverse order (1).ipynb', 'name in reverse order.ipynb', 'new.py', 'poem.py', 'python assignment.ipynb', 'python important', 'python version (1).ipynb', 'python version.ipynb', 'README.md', 'replace.ipynb', 'subtrackanddoubledifference.py', '_replace prog.ipynb', '__pycache__']\n"
     ]
    }
   ],
   "source": [
    "# 49. Python program to list all files in a directory in Python\n",
    "import os\n",
    "print(os.listdir())"
   ]
  },
  {
   "cell_type": "code",
   "execution_count": 40,
   "id": "55164cea",
   "metadata": {},
   "outputs": [
    {
     "name": "stdout",
     "output_type": "stream",
     "text": [
      "********************\n",
      "\n"
     ]
    }
   ],
   "source": [
    "# 50. Print without newline or space\n",
    "\n",
    "for i in range(0, 10):\n",
    "    print(\"**\", end=\"\")\n",
    "print(\"\\n\")"
   ]
  },
  {
   "cell_type": "code",
   "execution_count": 42,
   "id": "4b70f756",
   "metadata": {},
   "outputs": [
    {
     "name": "stdout",
     "output_type": "stream",
     "text": [
      "140\n",
      "         41 function calls in 0.014 seconds\n",
      "\n",
      "   Ordered by: standard name\n",
      "\n",
      "   ncalls  tottime  percall  cumtime  percall filename:lineno(function)\n",
      "        1    0.000    0.000    0.014    0.014 1647143991.py:4(sum)\n",
      "        1    0.000    0.000    0.014    0.014 <string>:1(<module>)\n",
      "        3    0.000    0.000    0.014    0.005 iostream.py:208(schedule)\n",
      "        2    0.000    0.000    0.000    0.000 iostream.py:420(_is_master_process)\n",
      "        2    0.000    0.000    0.000    0.000 iostream.py:439(_schedule_flush)\n",
      "        2    0.000    0.000    0.014    0.007 iostream.py:502(write)\n",
      "        3    0.000    0.000    0.000    0.000 iostream.py:97(_event_pipe)\n",
      "        3    0.000    0.000    0.000    0.000 socket.py:480(send)\n",
      "        3    0.014    0.005    0.014    0.005 threading.py:1059(_wait_for_tstate_lock)\n",
      "        3    0.000    0.000    0.014    0.005 threading.py:1126(is_alive)\n",
      "        3    0.000    0.000    0.000    0.000 threading.py:529(is_set)\n",
      "        1    0.000    0.000    0.014    0.014 {built-in method builtins.exec}\n",
      "        2    0.000    0.000    0.000    0.000 {built-in method builtins.isinstance}\n",
      "        2    0.000    0.000    0.000    0.000 {built-in method builtins.len}\n",
      "        1    0.000    0.000    0.014    0.014 {built-in method builtins.print}\n",
      "        2    0.000    0.000    0.000    0.000 {built-in method nt.getpid}\n",
      "        3    0.000    0.000    0.000    0.000 {method 'acquire' of '_thread.lock' objects}\n",
      "        3    0.000    0.000    0.000    0.000 {method 'append' of 'collections.deque' objects}\n",
      "        1    0.000    0.000    0.000    0.000 {method 'disable' of '_lsprof.Profiler' objects}\n",
      "\n",
      "\n"
     ]
    }
   ],
   "source": [
    "# 51.  Write a Python program to determine profiling of Python programs.\n",
    "# Note: A profile is a set of statistics that describes how often and for how long various parts of the program executed. These statistics can be formatted into reports via the pstats module.\n",
    "import cProfile\n",
    "def sum():\n",
    "    print(14*10)\n",
    "cProfile.run('sum()')"
   ]
  },
  {
   "cell_type": "code",
   "execution_count": 43,
   "id": "7642ca42",
   "metadata": {},
   "outputs": [
    {
     "ename": "SyntaxError",
     "evalue": "invalid syntax (4103275733.py, line 1)",
     "output_type": "error",
     "traceback": [
      "\u001b[1;36m  Input \u001b[1;32mIn [43]\u001b[1;36m\u001b[0m\n\u001b[1;33m    ********************** not solved ***************************\u001b[0m\n\u001b[1;37m    ^\u001b[0m\n\u001b[1;31mSyntaxError\u001b[0m\u001b[1;31m:\u001b[0m invalid syntax\n"
     ]
    }
   ],
   "source": [
    "********************** not solved ***************************\n",
    "# 52. Write a Python program to print to stderr\n",
    "# ****************************************************************"
   ]
  },
  {
   "cell_type": "code",
   "execution_count": 44,
   "id": "83ad07bd",
   "metadata": {},
   "outputs": [
    {
     "name": "stdout",
     "output_type": "stream",
     "text": [
      "environ({'ALLUSERSPROFILE': 'C:\\\\ProgramData', 'APPDATA': 'C:\\\\Users\\\\HalwaShubham.SEASIAINFOTECH\\\\AppData\\\\Roaming', 'COMMONPROGRAMFILES': 'C:\\\\Program Files\\\\Common Files', 'COMMONPROGRAMFILES(X86)': 'C:\\\\Program Files (x86)\\\\Common Files', 'COMMONPROGRAMW6432': 'C:\\\\Program Files\\\\Common Files', 'COMPUTERNAME': 'SHUBHAM-DEVOPS', 'COMSPEC': 'C:\\\\Windows\\\\system32\\\\cmd.exe', 'CONDA_DEFAULT_ENV': 'base', 'CONDA_EXE': 'C:\\\\Users\\\\HalwaShubham.SEASIAINFOTECH\\\\Anaconda3\\\\Scripts\\\\conda.exe', 'CONDA_PROMPT_MODIFIER': '(base) ', 'CONDA_PYTHON_EXE': 'C:\\\\Users\\\\HalwaShubham.SEASIAINFOTECH\\\\Anaconda3\\\\python.exe', 'CONDA_SHLVL': '1', 'DRIVERDATA': 'C:\\\\Windows\\\\System32\\\\Drivers\\\\DriverData', 'FPS_BROWSER_APP_PROFILE_STRING': 'Internet Explorer', 'FPS_BROWSER_USER_PROFILE_STRING': 'Default', 'HOMEDRIVE': 'C:', 'HOMEPATH': '\\\\Users\\\\HalwaShubham.SEASIAINFOTECH', 'JD2_HOME': 'C:\\\\Users\\\\HalwaShubham.SEASIAINFOTECH\\\\AppData\\\\Local\\\\JDownloader 2.0', 'LOCALAPPDATA': 'C:\\\\Users\\\\HalwaShubham.SEASIAINFOTECH\\\\AppData\\\\Local', 'LOGONSERVER': '\\\\\\\\WIN-FSMO', 'NUMBER_OF_PROCESSORS': '8', 'ONEDRIVE': 'C:\\\\Users\\\\HalwaShubham.SEASIAINFOTECH\\\\OneDrive', 'OS': 'Windows_NT', 'PATH': 'C:\\\\Users\\\\HalwaShubham.SEASIAINFOTECH\\\\Anaconda3;C:\\\\Users\\\\HalwaShubham.SEASIAINFOTECH\\\\Anaconda3\\\\Library\\\\mingw-w64\\\\bin;C:\\\\Users\\\\HalwaShubham.SEASIAINFOTECH\\\\Anaconda3\\\\Library\\\\usr\\\\bin;C:\\\\Users\\\\HalwaShubham.SEASIAINFOTECH\\\\Anaconda3\\\\Library\\\\bin;C:\\\\Users\\\\HalwaShubham.SEASIAINFOTECH\\\\Anaconda3\\\\Scripts;C:\\\\Users\\\\HalwaShubham.SEASIAINFOTECH\\\\Anaconda3\\\\bin;C:\\\\Users\\\\HalwaShubham.SEASIAINFOTECH\\\\Anaconda3\\\\condabin;C:\\\\Users\\\\HalwaShubham.SEASIAINFOTECH\\\\Anaconda3;C:\\\\Users\\\\HalwaShubham.SEASIAINFOTECH\\\\Anaconda3\\\\Library\\\\mingw-w64\\\\bin;C:\\\\Users\\\\HalwaShubham.SEASIAINFOTECH\\\\Anaconda3\\\\Library\\\\usr\\\\bin;C:\\\\Users\\\\HalwaShubham.SEASIAINFOTECH\\\\Anaconda3\\\\Library\\\\bin;C:\\\\Users\\\\HalwaShubham.SEASIAINFOTECH\\\\Anaconda3\\\\Scripts;C:\\\\Program Files (x86)\\\\VMware\\\\VMware Player\\\\bin;C:\\\\Program Files (x86)\\\\Microsoft SDKs\\\\Azure\\\\CLI2\\\\wbin;C:\\\\Program Files\\\\Python310\\\\Scripts;C:\\\\Program Files\\\\Python310;C:\\\\Windows\\\\system32;C:\\\\Windows;C:\\\\Windows\\\\System32\\\\Wbem;C:\\\\Windows\\\\System32\\\\WindowsPowerShell\\\\v1.0;C:\\\\Windows\\\\System32\\\\OpenSSH;C:\\\\Program Files\\\\Amazon\\\\AWSCLIV2;C:\\\\Users\\\\HalwaShubham.SEASIAINFOTECH\\\\AppData\\\\Local\\\\Microsoft\\\\WindowsApps;C:\\\\Users\\\\HalwaShubham.SEASIAINFOTECH\\\\AppData\\\\Local\\\\Programs\\\\Microsoft VS Code\\\\bin;C:\\\\Program Files\\\\terraform_1.1.9_windows_amd64;C:\\\\Users\\\\HalwaShubham.SEASIAINFOTECH\\\\AppData\\\\Local\\\\atom\\\\bin', 'PATHEXT': '.COM;.EXE;.BAT;.CMD;.VBS;.VBE;.JS;.JSE;.WSF;.WSH;.MSC;.PY;.PYW', 'PROCESSOR_ARCHITECTURE': 'AMD64', 'PROCESSOR_IDENTIFIER': 'Intel64 Family 6 Model 158 Stepping 9, GenuineIntel', 'PROCESSOR_LEVEL': '6', 'PROCESSOR_REVISION': '9e09', 'PROGRAMDATA': 'C:\\\\ProgramData', 'PROGRAMFILES': 'C:\\\\Program Files', 'PROGRAMFILES(X86)': 'C:\\\\Program Files (x86)', 'PROGRAMW6432': 'C:\\\\Program Files', 'PROMPT': '(base) $P$G', 'PSMODULEPATH': 'C:\\\\Program Files\\\\WindowsPowerShell\\\\Modules;C:\\\\Windows\\\\system32\\\\WindowsPowerShell\\\\v1.0\\\\Modules', 'PUBLIC': 'C:\\\\Users\\\\Public', 'SESSIONNAME': 'Console', 'SYSTEMDRIVE': 'C:', 'SYSTEMROOT': 'C:\\\\Windows', 'TABLEAU_SERVER_CONFIG_NAME': 'tabsvc', 'TABLEAU_SERVER_DATA_DIR': 'C:\\\\ProgramData\\\\Tableau\\\\Tableau Server', 'TABLEAU_SERVER_DATA_DIR_VERSION': '20214.22.1017.0914', 'TABLEAU_SERVER_INSTALL_DIR': 'C:\\\\Program Files\\\\Tableau\\\\Tableau server', 'TABLEAU_SERVER_MSI': '21.4.3018', 'TEMP': 'C:\\\\Users\\\\HALWAS~1.SEA\\\\AppData\\\\Local\\\\Temp', 'TMP': 'C:\\\\Users\\\\HALWAS~1.SEA\\\\AppData\\\\Local\\\\Temp', 'TSM_CLEAN_INSTALL_FAILURE': '1', 'USERDNSDOMAIN': 'SEASIAINFOTECH.COM', 'USERDOMAIN': 'SEASIAINFOTECH', 'USERDOMAIN_ROAMINGPROFILE': 'SEASIAINFOTECH', 'USERNAME': 'HalwaShubham', 'USERPROFILE': 'C:\\\\Users\\\\HalwaShubham.SEASIAINFOTECH', 'VBOX_MSI_INSTALL_PATH': 'C:\\\\Program Files\\\\Oracle\\\\VirtualBox\\\\', 'WINDIR': 'C:\\\\Windows', 'ZES_ENABLE_SYSMAN': '1', 'CONDA_PREFIX': 'C:\\\\Users\\\\HalwaShubham.SEASIAINFOTECH\\\\Anaconda3', 'CONDA_ROOT': 'C:\\\\Users\\\\HalwaShubham.SEASIAINFOTECH\\\\Anaconda3', 'PYDEVD_USE_FRAME_EVAL': 'NO', 'JPY_INTERRUPT_EVENT': '2508', 'IPY_INTERRUPT_EVENT': '2508', 'JPY_PARENT_PID': '2496', 'TERM': 'xterm-color', 'CLICOLOR': '1', 'PAGER': 'cat', 'GIT_PAGER': 'cat', 'MPLBACKEND': 'module://matplotlib_inline.backend_inline'})\n"
     ]
    },
    {
     "ename": "KeyError",
     "evalue": "'HOME'",
     "output_type": "error",
     "traceback": [
      "\u001b[1;31m---------------------------------------------------------------------------\u001b[0m",
      "\u001b[1;31mKeyError\u001b[0m                                  Traceback (most recent call last)",
      "Input \u001b[1;32mIn [44]\u001b[0m, in \u001b[0;36m<cell line: 4>\u001b[1;34m()\u001b[0m\n\u001b[0;32m      2\u001b[0m \u001b[38;5;28;01mimport\u001b[39;00m \u001b[38;5;21;01mos\u001b[39;00m \n\u001b[0;32m      3\u001b[0m \u001b[38;5;28mprint\u001b[39m(os\u001b[38;5;241m.\u001b[39menviron)\n\u001b[1;32m----> 4\u001b[0m \u001b[38;5;28mprint\u001b[39m(\u001b[43mos\u001b[49m\u001b[38;5;241;43m.\u001b[39;49m\u001b[43menviron\u001b[49m\u001b[43m[\u001b[49m\u001b[38;5;124;43m'\u001b[39;49m\u001b[38;5;124;43mHOME\u001b[39;49m\u001b[38;5;124;43m'\u001b[39;49m\u001b[43m]\u001b[49m)\n\u001b[0;32m      5\u001b[0m \u001b[38;5;28mprint\u001b[39m(os\u001b[38;5;241m.\u001b[39menviron[\u001b[38;5;124m\"\u001b[39m\u001b[38;5;124mPATH\u001b[39m\u001b[38;5;124m\"\u001b[39m])\n",
      "File \u001b[1;32m~\\Anaconda3\\lib\\os.py:679\u001b[0m, in \u001b[0;36m_Environ.__getitem__\u001b[1;34m(self, key)\u001b[0m\n\u001b[0;32m    676\u001b[0m     value \u001b[38;5;241m=\u001b[39m \u001b[38;5;28mself\u001b[39m\u001b[38;5;241m.\u001b[39m_data[\u001b[38;5;28mself\u001b[39m\u001b[38;5;241m.\u001b[39mencodekey(key)]\n\u001b[0;32m    677\u001b[0m \u001b[38;5;28;01mexcept\u001b[39;00m \u001b[38;5;167;01mKeyError\u001b[39;00m:\n\u001b[0;32m    678\u001b[0m     \u001b[38;5;66;03m# raise KeyError with the original key value\u001b[39;00m\n\u001b[1;32m--> 679\u001b[0m     \u001b[38;5;28;01mraise\u001b[39;00m \u001b[38;5;167;01mKeyError\u001b[39;00m(key) \u001b[38;5;28;01mfrom\u001b[39;00m \u001b[38;5;28mNone\u001b[39m\n\u001b[0;32m    680\u001b[0m \u001b[38;5;28;01mreturn\u001b[39;00m \u001b[38;5;28mself\u001b[39m\u001b[38;5;241m.\u001b[39mdecodevalue(value)\n",
      "\u001b[1;31mKeyError\u001b[0m: 'HOME'"
     ]
    }
   ],
   "source": [
    "# 53. access environment variables\n",
    "import os \n",
    "print(os.environ)\n",
    "print(os.environ['HOME'])\n",
    "print(os.environ[\"PATH\"])\n",
    "\n",
    "                                            # import os\n",
    "                                            # # Access all environment variables \n",
    "                                            # print('*----------------------------------*')\n",
    "                                            # print(os.environ)\n",
    "                                            # print('*----------------------------------*')\n",
    "                                            # # Access a particular environment variable \n",
    "                                            # print(os.environ['HOME'])\n",
    "                                            # print('*----------------------------------*')\n",
    "                                            # print(os.environ['PATH'])\n",
    "                                            # print('*----------------------------------*')"
   ]
  },
  {
   "cell_type": "code",
   "execution_count": 45,
   "id": "6bd8e29a",
   "metadata": {},
   "outputs": [
    {
     "name": "stdout",
     "output_type": "stream",
     "text": [
      "HalwaShubham\n"
     ]
    }
   ],
   "source": [
    "# 54.get the current username\n",
    "\n",
    "import getpass\n",
    "print(getpass.getuser())"
   ]
  },
  {
   "cell_type": "code",
   "execution_count": 46,
   "id": "a9c8fd44",
   "metadata": {},
   "outputs": [
    {
     "name": "stdout",
     "output_type": "stream",
     "text": [
      "Hostname: SHUBHAM-DEVOPS\n",
      "IP Address: 192.168.56.1\n"
     ]
    }
   ],
   "source": [
    "# 55. find local IP addresses using Python's stdlib\n",
    "## importing socket module\n",
    "import socket\n",
    "## getting the hostname by socket.gethostname() method\n",
    "hostname = socket.gethostname()\n",
    "## getting the IP address using socket.gethostbyname() method\n",
    "ip_address = socket.gethostbyname(hostname)\n",
    "## printing the hostname and ip_address\n",
    "print(f\"Hostname: {hostname}\")\n",
    "print(f\"IP Address: {ip_address}\")"
   ]
  },
  {
   "cell_type": "code",
   "execution_count": 48,
   "id": "2f6c734f",
   "metadata": {},
   "outputs": [
    {
     "ename": "OSError",
     "evalue": "[WinError 6] The handle is invalid",
     "output_type": "error",
     "traceback": [
      "\u001b[1;31m---------------------------------------------------------------------------\u001b[0m",
      "\u001b[1;31mOSError\u001b[0m                                   Traceback (most recent call last)",
      "Input \u001b[1;32mIn [48]\u001b[0m, in \u001b[0;36m<cell line: 3>\u001b[1;34m()\u001b[0m\n\u001b[0;32m      1\u001b[0m \u001b[38;5;66;03m# 56. get height and width of the console window\u001b[39;00m\n\u001b[0;32m      2\u001b[0m \u001b[38;5;28;01mimport\u001b[39;00m \u001b[38;5;21;01mos\u001b[39;00m\n\u001b[1;32m----> 3\u001b[0m size \u001b[38;5;241m=\u001b[39m \u001b[43mos\u001b[49m\u001b[38;5;241;43m.\u001b[39;49m\u001b[43mget_terminal_size\u001b[49m\u001b[43m(\u001b[49m\u001b[43m)\u001b[49m\n\u001b[0;32m      4\u001b[0m \u001b[38;5;28mprint\u001b[39m(size)\n",
      "\u001b[1;31mOSError\u001b[0m: [WinError 6] The handle is invalid"
     ]
    }
   ],
   "source": [
    "# 56. get height and width of the console window\n",
    "import os\n",
    "size = os.get_terminal_size()\n",
    "print(size)\n"
   ]
  },
  {
   "cell_type": "code",
   "execution_count": 49,
   "id": "6cc763da",
   "metadata": {},
   "outputs": [
    {
     "name": "stdout",
     "output_type": "stream",
     "text": [
      "Enter the number here:\n",
      "55\n",
      "\n",
      "Time to sum of 1 to  55  and required time to calculate is : (1540, 0.000997304916381836)\n"
     ]
    }
   ],
   "source": [
    "# 57. get execution time for a Python method\n",
    "import time\n",
    "def sum_of_n_numbers(n):\n",
    "    s = 0\n",
    "    start_time = time.time()\n",
    "    for i in range(1, n+1):\n",
    "        s = s + i\n",
    "    end_time = time.time()\n",
    "    return s, end_time - start_time\n",
    "\n",
    "n = int(input(\"Enter the number here:\\n\"))\n",
    "print(\"\\nTime to sum of 1 to \",n,\" and required time to calculate is :\",sum_of_n_numbers(n))"
   ]
  },
  {
   "cell_type": "code",
   "execution_count": 50,
   "id": "da25c586",
   "metadata": {},
   "outputs": [
    {
     "name": "stdout",
     "output_type": "stream",
     "text": [
      "Enter number:\n",
      "22\n",
      "253.0\n"
     ]
    }
   ],
   "source": [
    "# 58. Python program to sum of the first n positive integers\n",
    "num = int(input(\"Enter number:\\n\"))\n",
    "print((num*(num + 1))/2)"
   ]
  },
  {
   "cell_type": "code",
   "execution_count": 51,
   "id": "abdf50b2",
   "metadata": {},
   "outputs": [
    {
     "name": "stdout",
     "output_type": "stream",
     "text": [
      "Enter your height it can be in feet or inch\n",
      "select 1. for inch  and select 2. for feet \n",
      "1\n",
      "Enter your height in inch:\n",
      "50\n",
      "127.0 cms\n"
     ]
    }
   ],
   "source": [
    "# 59. convert height (in feet and inches) to centimeters\n",
    "print(\"Enter your height it can be in feet or inch\")\n",
    "print(\"select 1. for inch  and select 2. for feet \")\n",
    "num  = int(input())\n",
    "if num == 1:\n",
    "    inch = float(input(\"Enter your height in inch:\\n\"))\n",
    "    print(2.54*inch, \"cms\")\n",
    "elif num == 2:\n",
    "    feet = int(input(\"Enter your height in feet:\\n\"))\n",
    "    inches = int(input(\"Enter your height in inch:\\n\"))\n",
    "    cal = (30.48 * feet) + (2.54*inches)\n",
    "    print (cal)"
   ]
  },
  {
   "cell_type": "code",
   "execution_count": 52,
   "id": "8d714789",
   "metadata": {},
   "outputs": [
    {
     "name": "stdout",
     "output_type": "stream",
     "text": [
      "Enter the value of base in centemeters:\n",
      "500\n",
      "Enter the value of height in centemeters:\n",
      "150\n",
      "272500\n",
      "522.0153254455275\n"
     ]
    }
   ],
   "source": [
    "# 60. Calculate the hypotenuse of a right angled triangle\n",
    "import math\n",
    "a = int(input(\"Enter the value of base in centemeters:\\n\"))\n",
    "b = int(input(\"Enter the value of height in centemeters:\\n\"))\n",
    "c = ((a**2)+(b**2))\n",
    "print (c)\n",
    "print(math.sqrt(c))"
   ]
  },
  {
   "cell_type": "code",
   "execution_count": 53,
   "id": "86bc88d6",
   "metadata": {},
   "outputs": [
    {
     "name": "stdout",
     "output_type": "stream",
     "text": [
      "Enter your height in feet:\n",
      "5\n",
      "Enter your height in inch:\n",
      "10\n",
      "In centemeter 177.8cms\n",
      "In inches: 70\n",
      "In yard 9.722240000000001\n",
      "In miles 0.004892649999999999\n"
     ]
    }
   ],
   "source": [
    "# 61. Python program to convert the distance (in feet) to inches, yards, and miles\n",
    "feet = int(input(\"Enter your height in feet:\\n\"))\n",
    "inches = int(input(\"Enter your height in inch:\\n\"))\n",
    "cal = (30.48 * feet) + (2.54*inches)\n",
    "print (\"In centemeter\",cal, end=\"cms\\n\")\n",
    "print(\"In inches:\", (12*feet)+inches )\n",
    "print(\"In yard\",(1.66667*feet)+0.138889*inches )\n",
    "print(\"In miles\",(0.00094697*feet)+(0.00001578*inches) )"
   ]
  },
  {
   "cell_type": "code",
   "execution_count": 54,
   "id": "b463f79a",
   "metadata": {},
   "outputs": [
    {
     "name": "stdout",
     "output_type": "stream",
     "text": [
      "Enter the days:\n",
      "60000\n",
      "Enter the hours:\n",
      "5000\n",
      "Enter the minutes:\n",
      "123\n",
      "Enter the seconds:\n",
      "741\n",
      "5202008121\n"
     ]
    }
   ],
   "source": [
    "# 62. Convert all units of time into seconds\n",
    "days = int(input(\"Enter the days:\\n\"))*60*60*24\n",
    "hours = int(input(\"Enter the hours:\\n\")) *60*60\n",
    "minutes = int(input(\"Enter the minutes:\\n\")) * 60\n",
    "seconds = int(input(\"Enter the seconds:\\n\"))\n",
    "time = days + hours + minutes + seconds\n",
    "print(time)"
   ]
  },
  {
   "cell_type": "code",
   "execution_count": 55,
   "id": "205762a2",
   "metadata": {},
   "outputs": [
    {
     "name": "stdout",
     "output_type": "stream",
     "text": [
      "main.py\n"
     ]
    }
   ],
   "source": [
    "# 63. get an absolute file path\n",
    "import os\n",
    "                                                    # file_name = input(\"enter file name which you want to find:\\n\")\n",
    "                                                    # path = (os.path.abspath(file_name))\n",
    "                                                    # print (path)\n",
    "\n",
    "from pathlib import Path\n",
    "p = Path(\"main.py\").resolve()\n",
    "print(p)\n"
   ]
  },
  {
   "cell_type": "code",
   "execution_count": 56,
   "id": "7ff34ba8",
   "metadata": {},
   "outputs": [
    {
     "name": "stdout",
     "output_type": "stream",
     "text": [
      "Last modified: Mon Nov  7 10:21:18 2022\n",
      "Created: Mon Nov  7 10:21:18 2022\n"
     ]
    }
   ],
   "source": [
    "# 64. get file creation and modification date/times\n",
    "import os.path, time\n",
    "print(\"Last modified: %s\" % time.ctime(os.path.getmtime(\"poem.py\"))) #value comes in seconds so we use time.ctime\n",
    "print(\"Created: %s\" % time.ctime(os.path.getctime(\"poem.py\")))     #print(time.ctime(26467467547.467856685))\n"
   ]
  },
  {
   "cell_type": "code",
   "execution_count": 57,
   "id": "4ca3c8d4",
   "metadata": {},
   "outputs": [
    {
     "name": "stdout",
     "output_type": "stream",
     "text": [
      "Enter seconds here:\n",
      "123\n",
      "d:h:m:s-> 0:0:2:3\n"
     ]
    }
   ],
   "source": [
    "# 65. Python program to convert seconds to day, hour, minutes and seconds\n",
    "seconds = float(input(\"Enter seconds here:\\n\"))\n",
    "days = seconds //(24*3600)\n",
    "seconds = seconds%(24*3600)\n",
    "hours = seconds/(3600)\n",
    "seconds = seconds%(3600)\n",
    "minutes = seconds /(60)\n",
    "seconds = seconds%(60)\n",
    "# print (f\"({days} {hours} {minutes} {seconds} \")\n",
    "print(\"d:h:m:s-> %d:%d:%d:%d\" % (days, hours, minutes, seconds))\n",
    "#                                                                           #used as a placeholder to specify integer values, decimals, or numbers                                                                   \n"
   ]
  },
  {
   "cell_type": "code",
   "execution_count": 58,
   "id": "b5d90e2c",
   "metadata": {},
   "outputs": [
    {
     "data": {
      "text/plain": [
       "23.589835468362743"
      ]
     },
     "execution_count": 58,
     "metadata": {},
     "output_type": "execute_result"
    }
   ],
   "source": [
    "# 66. bmi calculator    \n",
    "def bmi_calc(weight, height):\n",
    "    result = weight / height ** 2\n",
    "    return result\n",
    "\n",
    "bmi_calc(79, 1.83)"
   ]
  },
  {
   "cell_type": "code",
   "execution_count": 59,
   "id": "1b166131",
   "metadata": {},
   "outputs": [
    {
     "name": "stdout",
     "output_type": "stream",
     "text": [
      "Enter your value which you want to convert:\n",
      "45\n",
      "(psi value is 6.5266982008586405, milimeter value is 337.52775721687635 and atmospheric pressure is 0.44411547002220575\n"
     ]
    }
   ],
   "source": [
    "# 67. Convert pressure in kilopascals to pounds\n",
    "\n",
    "value = float(input(\"Enter your value which you want to convert:\\n\"))\n",
    "psi = value / 6.89475729\n",
    "milimeter_of_mercury = value * 760 / 101.325\n",
    "atmosphere_pressure = value / 101.325\n",
    "print(f\"(psi value is {psi}, milimeter value is {milimeter_of_mercury} and atmospheric pressure is {atmosphere_pressure}\")"
   ]
  },
  {
   "cell_type": "code",
   "execution_count": 60,
   "id": "36a27027",
   "metadata": {},
   "outputs": [
    {
     "name": "stdout",
     "output_type": "stream",
     "text": [
      "Enter your number:\n",
      "498\n",
      "21\n"
     ]
    }
   ],
   "source": [
    "# 68. calculate sum of digits of a number\n",
    "\n",
    "def sum_of_all_digits(n):\n",
    "    sum = 0\n",
    "    for i in str(n):\n",
    "      sum += int(i)\n",
    "    return sum\n",
    "n = int(input(\"Enter your number:\\n\"))\n",
    "print(sum_of_all_digits(n))\n"
   ]
  },
  {
   "cell_type": "code",
   "execution_count": 61,
   "id": "e5408db2",
   "metadata": {},
   "outputs": [
    {
     "name": "stdout",
     "output_type": "stream",
     "text": [
      "Input first number: 20\n",
      "Input second number: 25\n",
      "Input third number: 30\n",
      "20\n",
      "30\n",
      "25\n",
      "Numbers in sorted order:  20 25 30\n"
     ]
    }
   ],
   "source": [
    "# 69. sort three integers without using conditional statements and loops]\n",
    "x = int(input(\"Input first number: \"))\n",
    "y = int(input(\"Input second number: \"))\n",
    "z = int(input(\"Input third number: \"))\n",
    "\n",
    "a1 = min(x, y, z)\n",
    "print (a1)\n",
    "a3 = max(x, y, z)\n",
    "print (a3)\n",
    "a2 = (x + y + z) - a1 - a3\n",
    "print (a2)\n",
    "print(\"Numbers in sorted order: \", a1, a2, a3)"
   ]
  },
  {
   "cell_type": "code",
   "execution_count": 62,
   "id": "3c1613e8",
   "metadata": {},
   "outputs": [
    {
     "name": "stdout",
     "output_type": "stream",
     "text": [
      "bro.txt\n",
      "file1.txt\n",
      "file2.txt\n"
     ]
    }
   ],
   "source": [
    "# 70. program to sort files by date\n",
    "import glob\n",
    "import os\n",
    "\n",
    "files = glob.glob(\"*.txt\")\n",
    "files.sort(key=os.path.getmtime)\n",
    "print(\"\\n\".join(files))"
   ]
  },
  {
   "cell_type": "code",
   "execution_count": 63,
   "id": "3fd3ddca",
   "metadata": {},
   "outputs": [],
   "source": [
    "# ******************************** not solved *******************************************\n",
    "# 71. program to get a directory listing, sorted by creation date\n",
    "# ********************************** not solved *********************************************"
   ]
  },
  {
   "cell_type": "code",
   "execution_count": 64,
   "id": "4615d7b9",
   "metadata": {},
   "outputs": [
    {
     "name": "stdout",
     "output_type": "stream",
     "text": [
      "['__doc__', '__loader__', '__name__', '__package__', '__spec__', 'acos', 'acosh', 'asin', 'asinh', 'atan', 'atan2', 'atanh', 'ceil', 'comb', 'copysign', 'cos', 'cosh', 'degrees', 'dist', 'e', 'erf', 'erfc', 'exp', 'expm1', 'fabs', 'factorial', 'floor', 'fmod', 'frexp', 'fsum', 'gamma', 'gcd', 'hypot', 'inf', 'isclose', 'isfinite', 'isinf', 'isnan', 'isqrt', 'lcm', 'ldexp', 'lgamma', 'log', 'log10', 'log1p', 'log2', 'modf', 'nan', 'nextafter', 'perm', 'pi', 'pow', 'prod', 'radians', 'remainder', 'sin', 'sinh', 'sqrt', 'tan', 'tanh', 'tau', 'trunc', 'ulp']\n"
     ]
    }
   ],
   "source": [
    "# 72. get the details of math module\n",
    "import math\n",
    "ls = dir(math)\n",
    "print (ls)"
   ]
  },
  {
   "cell_type": "code",
   "execution_count": 65,
   "id": "76be0eb5",
   "metadata": {},
   "outputs": [
    {
     "name": "stdout",
     "output_type": "stream",
     "text": [
      "enter the value of x1:\n",
      "2\n",
      "enter the value of x2:\n",
      "3\n",
      "enter the value of y1:\n",
      "4\n",
      "enter the value of y2:\n",
      "5\n",
      "midpoints are (2.5, 4.5)\n"
     ]
    }
   ],
   "source": [
    "# 73. calculate midpoints of a line\n",
    "x1 = int(input(\"enter the value of x1:\\n\"))\n",
    "x2 = int(input(\"enter the value of x2:\\n\"))\n",
    "y1 = int(input(\"enter the value of y1:\\n\"))\n",
    "y2 = int(input(\"enter the value of y2:\\n\"))\n",
    "x = ((x1+x2)/2)\n",
    "y = ((y1+y2)/2)\n",
    "\n",
    "print(\"midpoints are\",(x, y))"
   ]
  },
  {
   "cell_type": "code",
   "execution_count": 66,
   "id": "7579de34",
   "metadata": {},
   "outputs": [],
   "source": [
    "# ***************************** not solved **********************************\n",
    "# 74.program to hash a word\n",
    "# print (hash(\"shubham\"))\n",
    "# ******************************* not solved *********************************"
   ]
  },
  {
   "cell_type": "code",
   "execution_count": 67,
   "id": "d440c197",
   "metadata": {},
   "outputs": [
    {
     "name": "stdout",
     "output_type": "stream",
     "text": [
      "\n",
      "Python Copyright Information\n",
      "Copyright (c) 2001-2022 Python Software Foundation.\n",
      "All Rights Reserved.\n",
      "\n",
      "Copyright (c) 2000 BeOpen.com.\n",
      "All Rights Reserved.\n",
      "\n",
      "Copyright (c) 1995-2001 Corporation for National Research Initiatives.\n",
      "All Rights Reserved.\n",
      "\n",
      "Copyright (c) 1991-1995 Stichting Mathematisch Centrum, Amsterdam.\n",
      "All Rights Reserved.\n",
      "\n"
     ]
    }
   ],
   "source": [
    "# 75. copyright information\n",
    "import sys\n",
    "print(\"\\nPython Copyright Information\")\n",
    "print(sys.copyright)\n",
    "print()"
   ]
  },
  {
   "cell_type": "code",
   "execution_count": 68,
   "id": "7a1f657b",
   "metadata": {},
   "outputs": [
    {
     "name": "stdout",
     "output_type": "stream",
     "text": [
      "This is the name/path of the script:\n",
      "Number of arguments: 3\n",
      "Argument List: ['C:\\\\Users\\\\HalwaShubham.SEASIAINFOTECH\\\\Anaconda3\\\\lib\\\\site-packages\\\\ipykernel_launcher.py', '-f', 'C:\\\\Users\\\\HalwaShubham.SEASIAINFOTECH\\\\AppData\\\\Roaming\\\\jupyter\\\\runtime\\\\kernel-5fc602a5-5259-43ce-8e37-9e142e1b8762.json']\n"
     ]
    }
   ],
   "source": [
    "# 76. get the command-line arguments (name of the script, the number of arguments, arguments) passed to a script\n",
    "import sys\n",
    "print(\"This is the name/path of the script:\"),sys.argv[0]\n",
    "print(\"Number of arguments:\",len(sys.argv))\n",
    "print(\"Argument List:\",str(sys.argv))"
   ]
  },
  {
   "cell_type": "code",
   "execution_count": 69,
   "id": "0fc14f9c",
   "metadata": {},
   "outputs": [
    {
     "name": "stdout",
     "output_type": "stream",
     "text": [
      "\n",
      "Little-endian platform.\n",
      "\n"
     ]
    }
   ],
   "source": [
    "# 77. test whether the system is a big-endian platform or little-endian platform\n",
    "import sys\n",
    "print()\n",
    "if sys.byteorder == \"little\":\n",
    "    #intel, alpha\n",
    "    print(\"Little-endian platform.\")             #print (sys.byteorder)\n",
    "else:                                            #print(dir(sys))\n",
    "    #motorola, sparc\n",
    "    print(\"Big-endian platform.\")\n",
    "print()"
   ]
  },
  {
   "cell_type": "code",
   "execution_count": 70,
   "id": "354bc293",
   "metadata": {},
   "outputs": [
    {
     "name": "stdout",
     "output_type": "stream",
     "text": [
      "['ArithmeticError', 'AssertionError', 'AttributeError', 'BaseException', 'BlockingIOError', 'BrokenPipeError', 'BufferError', 'BytesWarning', 'ChildProcessError', 'ConnectionAbortedError', 'ConnectionError', 'ConnectionRefusedError', 'ConnectionResetError', 'DeprecationWarning', 'EOFError', 'Ellipsis', 'EnvironmentError', 'Exception', 'False', 'FileExistsError', 'FileNotFoundError', 'FloatingPointError', 'FutureWarning', 'GeneratorExit', 'IOError', 'ImportError', 'ImportWarning', 'IndentationError', 'IndexError', 'InterruptedError', 'IsADirectoryError', 'KeyError', 'KeyboardInterrupt', 'LookupError', 'MemoryError', 'ModuleNotFoundError', 'NameError', 'None', 'NotADirectoryError', 'NotImplemented', 'NotImplementedError', 'OSError', 'OverflowError', 'PendingDeprecationWarning', 'PermissionError', 'ProcessLookupError', 'RecursionError', 'ReferenceError', 'ResourceWarning', 'RuntimeError', 'RuntimeWarning', 'StopAsyncIteration', 'StopIteration', 'SyntaxError', 'SyntaxWarning', 'SystemError', 'SystemExit', 'TabError', 'TimeoutError', 'True', 'TypeError', 'UnboundLocalError', 'UnicodeDecodeError', 'UnicodeEncodeError', 'UnicodeError', 'UnicodeTranslateError', 'UnicodeWarning', 'UserWarning', 'ValueError', 'Warning', 'WindowsError', 'ZeroDivisionError', '__IPYTHON__', '__build_class__', '__debug__', '__doc__', '__import__', '__loader__', '__name__', '__package__', '__spec__', 'abs', 'all', 'any', 'ascii', 'bin', 'bool', 'breakpoint', 'bytearray', 'bytes', 'callable', 'chr', 'classmethod', 'compile', 'complex', 'copyright', 'credits', 'delattr', 'dict', 'dir', 'display', 'divmod', 'enumerate', 'eval', 'exec', 'execfile', 'filter', 'float', 'format', 'frozenset', 'get_ipython', 'getattr', 'globals', 'hasattr', 'hash', 'help', 'hex', 'id', 'input', 'int', 'isinstance', 'issubclass', 'iter', 'len', 'license', 'list', 'locals', 'map', 'max', 'memoryview', 'min', 'next', 'object', 'oct', 'open', 'ord', 'pow', 'print', 'property', 'range', 'repr', 'reversed', 'round', 'runfile', 'set', 'setattr', 'slice', 'sorted', 'staticmethod', 'str', 'sum', 'super', 'tuple', 'type', 'vars', 'zip']\n",
      "\n",
      "Please wait a moment while I gather a list of all available modules...\n",
      "\n"
     ]
    },
    {
     "name": "stderr",
     "output_type": "stream",
     "text": [
      "WARNING: AstropyDeprecationWarning: The private astropy._erfa module has been made into its own package, pyerfa, which is a dependency of astropy and can be imported directly using \"import erfa\" [astropy._erfa]\n"
     ]
    },
    {
     "ename": "KeyboardInterrupt",
     "evalue": "",
     "output_type": "error",
     "traceback": [
      "\u001b[1;31m---------------------------------------------------------------------------\u001b[0m",
      "\u001b[1;31mKeyboardInterrupt\u001b[0m                         Traceback (most recent call last)",
      "Input \u001b[1;32mIn [70]\u001b[0m, in \u001b[0;36m<cell line: 5>\u001b[1;34m()\u001b[0m\n\u001b[0;32m      3\u001b[0m \u001b[38;5;28mprint\u001b[39m(a)\n\u001b[0;32m      4\u001b[0m \u001b[38;5;66;03m# or \u001b[39;00m\n\u001b[1;32m----> 5\u001b[0m b \u001b[38;5;241m=\u001b[39m \u001b[43mhelp\u001b[49m\u001b[43m(\u001b[49m\u001b[38;5;124;43m'\u001b[39;49m\u001b[38;5;124;43mmodules\u001b[39;49m\u001b[38;5;124;43m'\u001b[39;49m\u001b[43m)\u001b[49m\n\u001b[0;32m      6\u001b[0m \u001b[38;5;28mprint\u001b[39m (b)\n",
      "File \u001b[1;32m~\\Anaconda3\\lib\\_sitebuiltins.py:103\u001b[0m, in \u001b[0;36m_Helper.__call__\u001b[1;34m(self, *args, **kwds)\u001b[0m\n\u001b[0;32m    101\u001b[0m \u001b[38;5;28;01mdef\u001b[39;00m \u001b[38;5;21m__call__\u001b[39m(\u001b[38;5;28mself\u001b[39m, \u001b[38;5;241m*\u001b[39margs, \u001b[38;5;241m*\u001b[39m\u001b[38;5;241m*\u001b[39mkwds):\n\u001b[0;32m    102\u001b[0m     \u001b[38;5;28;01mimport\u001b[39;00m \u001b[38;5;21;01mpydoc\u001b[39;00m\n\u001b[1;32m--> 103\u001b[0m     \u001b[38;5;28;01mreturn\u001b[39;00m pydoc\u001b[38;5;241m.\u001b[39mhelp(\u001b[38;5;241m*\u001b[39margs, \u001b[38;5;241m*\u001b[39m\u001b[38;5;241m*\u001b[39mkwds)\n",
      "File \u001b[1;32m~\\Anaconda3\\lib\\pydoc.py:2006\u001b[0m, in \u001b[0;36mHelper.__call__\u001b[1;34m(self, request)\u001b[0m\n\u001b[0;32m   2004\u001b[0m \u001b[38;5;28;01mdef\u001b[39;00m \u001b[38;5;21m__call__\u001b[39m(\u001b[38;5;28mself\u001b[39m, request\u001b[38;5;241m=\u001b[39m_GoInteractive):\n\u001b[0;32m   2005\u001b[0m     \u001b[38;5;28;01mif\u001b[39;00m request \u001b[38;5;129;01mis\u001b[39;00m \u001b[38;5;129;01mnot\u001b[39;00m \u001b[38;5;28mself\u001b[39m\u001b[38;5;241m.\u001b[39m_GoInteractive:\n\u001b[1;32m-> 2006\u001b[0m         \u001b[38;5;28;43mself\u001b[39;49m\u001b[38;5;241;43m.\u001b[39;49m\u001b[43mhelp\u001b[49m\u001b[43m(\u001b[49m\u001b[43mrequest\u001b[49m\u001b[43m)\u001b[49m\n\u001b[0;32m   2007\u001b[0m     \u001b[38;5;28;01melse\u001b[39;00m:\n\u001b[0;32m   2008\u001b[0m         \u001b[38;5;28mself\u001b[39m\u001b[38;5;241m.\u001b[39mintro()\n",
      "File \u001b[1;32m~\\Anaconda3\\lib\\pydoc.py:2053\u001b[0m, in \u001b[0;36mHelper.help\u001b[1;34m(self, request)\u001b[0m\n\u001b[0;32m   2051\u001b[0m \u001b[38;5;28;01melif\u001b[39;00m request \u001b[38;5;241m==\u001b[39m \u001b[38;5;124m'\u001b[39m\u001b[38;5;124msymbols\u001b[39m\u001b[38;5;124m'\u001b[39m: \u001b[38;5;28mself\u001b[39m\u001b[38;5;241m.\u001b[39mlistsymbols()\n\u001b[0;32m   2052\u001b[0m \u001b[38;5;28;01melif\u001b[39;00m request \u001b[38;5;241m==\u001b[39m \u001b[38;5;124m'\u001b[39m\u001b[38;5;124mtopics\u001b[39m\u001b[38;5;124m'\u001b[39m: \u001b[38;5;28mself\u001b[39m\u001b[38;5;241m.\u001b[39mlisttopics()\n\u001b[1;32m-> 2053\u001b[0m \u001b[38;5;28;01melif\u001b[39;00m request \u001b[38;5;241m==\u001b[39m \u001b[38;5;124m'\u001b[39m\u001b[38;5;124mmodules\u001b[39m\u001b[38;5;124m'\u001b[39m: \u001b[38;5;28;43mself\u001b[39;49m\u001b[38;5;241;43m.\u001b[39;49m\u001b[43mlistmodules\u001b[49m\u001b[43m(\u001b[49m\u001b[43m)\u001b[49m\n\u001b[0;32m   2054\u001b[0m \u001b[38;5;28;01melif\u001b[39;00m request[:\u001b[38;5;241m8\u001b[39m] \u001b[38;5;241m==\u001b[39m \u001b[38;5;124m'\u001b[39m\u001b[38;5;124mmodules \u001b[39m\u001b[38;5;124m'\u001b[39m:\n\u001b[0;32m   2055\u001b[0m     \u001b[38;5;28mself\u001b[39m\u001b[38;5;241m.\u001b[39mlistmodules(request\u001b[38;5;241m.\u001b[39msplit()[\u001b[38;5;241m1\u001b[39m])\n",
      "File \u001b[1;32m~\\Anaconda3\\lib\\pydoc.py:2205\u001b[0m, in \u001b[0;36mHelper.listmodules\u001b[1;34m(self, key)\u001b[0m\n\u001b[0;32m   2203\u001b[0m             \u001b[38;5;28;01mdef\u001b[39;00m \u001b[38;5;21monerror\u001b[39m(modname):\n\u001b[0;32m   2204\u001b[0m                 callback(\u001b[38;5;28;01mNone\u001b[39;00m, modname, \u001b[38;5;28;01mNone\u001b[39;00m)\n\u001b[1;32m-> 2205\u001b[0m             \u001b[43mModuleScanner\u001b[49m\u001b[43m(\u001b[49m\u001b[43m)\u001b[49m\u001b[38;5;241;43m.\u001b[39;49m\u001b[43mrun\u001b[49m\u001b[43m(\u001b[49m\u001b[43mcallback\u001b[49m\u001b[43m,\u001b[49m\u001b[43m \u001b[49m\u001b[43monerror\u001b[49m\u001b[38;5;241;43m=\u001b[39;49m\u001b[43monerror\u001b[49m\u001b[43m)\u001b[49m\n\u001b[0;32m   2206\u001b[0m             \u001b[38;5;28mself\u001b[39m\u001b[38;5;241m.\u001b[39mlist(modules\u001b[38;5;241m.\u001b[39mkeys())\n\u001b[0;32m   2207\u001b[0m             \u001b[38;5;28mself\u001b[39m\u001b[38;5;241m.\u001b[39moutput\u001b[38;5;241m.\u001b[39mwrite(\u001b[38;5;124m'''\u001b[39m\n\u001b[0;32m   2208\u001b[0m \u001b[38;5;124mEnter any module name to get more help.  Or, type \u001b[39m\u001b[38;5;124m\"\u001b[39m\u001b[38;5;124mmodules spam\u001b[39m\u001b[38;5;124m\"\u001b[39m\u001b[38;5;124m to search\u001b[39m\n\u001b[0;32m   2209\u001b[0m \u001b[38;5;124mfor modules whose name or summary contain the string \u001b[39m\u001b[38;5;124m\"\u001b[39m\u001b[38;5;124mspam\u001b[39m\u001b[38;5;124m\"\u001b[39m\u001b[38;5;124m.\u001b[39m\n\u001b[0;32m   2210\u001b[0m \u001b[38;5;124m'''\u001b[39m)\n",
      "File \u001b[1;32m~\\Anaconda3\\lib\\pydoc.py:2234\u001b[0m, in \u001b[0;36mModuleScanner.run\u001b[1;34m(self, callback, key, completer, onerror)\u001b[0m\n\u001b[0;32m   2231\u001b[0m             \u001b[38;5;28;01mif\u001b[39;00m name\u001b[38;5;241m.\u001b[39mlower()\u001b[38;5;241m.\u001b[39mfind(key) \u001b[38;5;241m>\u001b[39m\u001b[38;5;241m=\u001b[39m \u001b[38;5;241m0\u001b[39m:\n\u001b[0;32m   2232\u001b[0m                 callback(\u001b[38;5;28;01mNone\u001b[39;00m, modname, desc)\n\u001b[1;32m-> 2234\u001b[0m \u001b[38;5;28;01mfor\u001b[39;00m importer, modname, ispkg \u001b[38;5;129;01min\u001b[39;00m pkgutil\u001b[38;5;241m.\u001b[39mwalk_packages(onerror\u001b[38;5;241m=\u001b[39monerror):\n\u001b[0;32m   2235\u001b[0m     \u001b[38;5;28;01mif\u001b[39;00m \u001b[38;5;28mself\u001b[39m\u001b[38;5;241m.\u001b[39mquit:\n\u001b[0;32m   2236\u001b[0m         \u001b[38;5;28;01mbreak\u001b[39;00m\n",
      "File \u001b[1;32m~\\Anaconda3\\lib\\pkgutil.py:108\u001b[0m, in \u001b[0;36mwalk_packages\u001b[1;34m(path, prefix, onerror)\u001b[0m\n\u001b[0;32m    105\u001b[0m \u001b[38;5;66;03m# don't traverse path items we've seen before\u001b[39;00m\n\u001b[0;32m    106\u001b[0m path \u001b[38;5;241m=\u001b[39m [p \u001b[38;5;28;01mfor\u001b[39;00m p \u001b[38;5;129;01min\u001b[39;00m path \u001b[38;5;28;01mif\u001b[39;00m \u001b[38;5;129;01mnot\u001b[39;00m seen(p)]\n\u001b[1;32m--> 108\u001b[0m \u001b[38;5;28;01myield from\u001b[39;00m walk_packages(path, info\u001b[38;5;241m.\u001b[39mname\u001b[38;5;241m+\u001b[39m\u001b[38;5;124m'\u001b[39m\u001b[38;5;124m.\u001b[39m\u001b[38;5;124m'\u001b[39m, onerror)\n",
      "File \u001b[1;32m~\\Anaconda3\\lib\\pkgutil.py:93\u001b[0m, in \u001b[0;36mwalk_packages\u001b[1;34m(path, prefix, onerror)\u001b[0m\n\u001b[0;32m     91\u001b[0m \u001b[38;5;28;01mif\u001b[39;00m info\u001b[38;5;241m.\u001b[39mispkg:\n\u001b[0;32m     92\u001b[0m     \u001b[38;5;28;01mtry\u001b[39;00m:\n\u001b[1;32m---> 93\u001b[0m         \u001b[38;5;28;43m__import__\u001b[39;49m\u001b[43m(\u001b[49m\u001b[43minfo\u001b[49m\u001b[38;5;241;43m.\u001b[39;49m\u001b[43mname\u001b[49m\u001b[43m)\u001b[49m\n\u001b[0;32m     94\u001b[0m     \u001b[38;5;28;01mexcept\u001b[39;00m \u001b[38;5;167;01mImportError\u001b[39;00m:\n\u001b[0;32m     95\u001b[0m         \u001b[38;5;28;01mif\u001b[39;00m onerror \u001b[38;5;129;01mis\u001b[39;00m \u001b[38;5;129;01mnot\u001b[39;00m \u001b[38;5;28;01mNone\u001b[39;00m:\n",
      "File \u001b[1;32m~\\Anaconda3\\lib\\site-packages\\astropy\\convolution\\__init__.py:4\u001b[0m, in \u001b[0;36m<module>\u001b[1;34m\u001b[0m\n\u001b[0;32m      1\u001b[0m \u001b[38;5;66;03m# Licensed under a 3-clause BSD style license - see LICENSE.rst\u001b[39;00m\n\u001b[1;32m----> 4\u001b[0m \u001b[38;5;28;01mfrom\u001b[39;00m \u001b[38;5;21;01m.\u001b[39;00m\u001b[38;5;21;01mcore\u001b[39;00m \u001b[38;5;28;01mimport\u001b[39;00m \u001b[38;5;241m*\u001b[39m  \u001b[38;5;66;03m# noqa\u001b[39;00m\n\u001b[0;32m      5\u001b[0m \u001b[38;5;28;01mfrom\u001b[39;00m \u001b[38;5;21;01m.\u001b[39;00m\u001b[38;5;21;01mkernels\u001b[39;00m \u001b[38;5;28;01mimport\u001b[39;00m \u001b[38;5;241m*\u001b[39m  \u001b[38;5;66;03m# noqa\u001b[39;00m\n\u001b[0;32m      6\u001b[0m \u001b[38;5;28;01mfrom\u001b[39;00m \u001b[38;5;21;01m.\u001b[39;00m\u001b[38;5;21;01mutils\u001b[39;00m \u001b[38;5;28;01mimport\u001b[39;00m discretize_model, KernelSizeError  \u001b[38;5;66;03m# noqa\u001b[39;00m\n",
      "File \u001b[1;32m~\\Anaconda3\\lib\\site-packages\\astropy\\convolution\\core.py:23\u001b[0m, in \u001b[0;36m<module>\u001b[1;34m\u001b[0m\n\u001b[0;32m     21\u001b[0m \u001b[38;5;28;01mimport\u001b[39;00m \u001b[38;5;21;01mnumpy\u001b[39;00m \u001b[38;5;28;01mas\u001b[39;00m \u001b[38;5;21;01mnp\u001b[39;00m\n\u001b[0;32m     22\u001b[0m \u001b[38;5;28;01mfrom\u001b[39;00m \u001b[38;5;21;01mastropy\u001b[39;00m\u001b[38;5;21;01m.\u001b[39;00m\u001b[38;5;21;01mutils\u001b[39;00m\u001b[38;5;21;01m.\u001b[39;00m\u001b[38;5;21;01mexceptions\u001b[39;00m \u001b[38;5;28;01mimport\u001b[39;00m AstropyUserWarning\n\u001b[1;32m---> 23\u001b[0m \u001b[38;5;28;01mfrom\u001b[39;00m \u001b[38;5;21;01m.\u001b[39;00m\u001b[38;5;21;01mutils\u001b[39;00m \u001b[38;5;28;01mimport\u001b[39;00m (discretize_model, add_kernel_arrays_1D,\n\u001b[0;32m     24\u001b[0m                     add_kernel_arrays_2D)\n\u001b[0;32m     26\u001b[0m MAX_NORMALIZATION \u001b[38;5;241m=\u001b[39m \u001b[38;5;241m100\u001b[39m\n\u001b[0;32m     28\u001b[0m __all__ \u001b[38;5;241m=\u001b[39m [\u001b[38;5;124m'\u001b[39m\u001b[38;5;124mKernel\u001b[39m\u001b[38;5;124m'\u001b[39m, \u001b[38;5;124m'\u001b[39m\u001b[38;5;124mKernel1D\u001b[39m\u001b[38;5;124m'\u001b[39m, \u001b[38;5;124m'\u001b[39m\u001b[38;5;124mKernel2D\u001b[39m\u001b[38;5;124m'\u001b[39m, \u001b[38;5;124m'\u001b[39m\u001b[38;5;124mkernel_arithmetics\u001b[39m\u001b[38;5;124m'\u001b[39m]\n",
      "File \u001b[1;32m~\\Anaconda3\\lib\\site-packages\\astropy\\convolution\\utils.py:5\u001b[0m, in \u001b[0;36m<module>\u001b[1;34m\u001b[0m\n\u001b[0;32m      2\u001b[0m \u001b[38;5;28;01mimport\u001b[39;00m \u001b[38;5;21;01mctypes\u001b[39;00m\n\u001b[0;32m      3\u001b[0m \u001b[38;5;28;01mimport\u001b[39;00m \u001b[38;5;21;01mnumpy\u001b[39;00m \u001b[38;5;28;01mas\u001b[39;00m \u001b[38;5;21;01mnp\u001b[39;00m\n\u001b[1;32m----> 5\u001b[0m \u001b[38;5;28;01mfrom\u001b[39;00m \u001b[38;5;21;01mastropy\u001b[39;00m\u001b[38;5;21;01m.\u001b[39;00m\u001b[38;5;21;01mmodeling\u001b[39;00m\u001b[38;5;21;01m.\u001b[39;00m\u001b[38;5;21;01mcore\u001b[39;00m \u001b[38;5;28;01mimport\u001b[39;00m Model, custom_model\n\u001b[0;32m      7\u001b[0m __all__ \u001b[38;5;241m=\u001b[39m [\u001b[38;5;124m'\u001b[39m\u001b[38;5;124mdiscretize_model\u001b[39m\u001b[38;5;124m'\u001b[39m, \u001b[38;5;124m'\u001b[39m\u001b[38;5;124mKernelSizeError\u001b[39m\u001b[38;5;124m'\u001b[39m]\n\u001b[0;32m     10\u001b[0m \u001b[38;5;28;01mclass\u001b[39;00m \u001b[38;5;21;01mDiscretizationError\u001b[39;00m(\u001b[38;5;167;01mException\u001b[39;00m):\n",
      "File \u001b[1;32m~\\Anaconda3\\lib\\site-packages\\astropy\\modeling\\__init__.py:11\u001b[0m, in \u001b[0;36m<module>\u001b[1;34m\u001b[0m\n\u001b[0;32m      3\u001b[0m \u001b[38;5;124;03m\"\"\"\u001b[39;00m\n\u001b[0;32m      4\u001b[0m \u001b[38;5;124;03mThis subpackage provides a framework for representing models and\u001b[39;00m\n\u001b[0;32m      5\u001b[0m \u001b[38;5;124;03mperforming model evaluation and fitting. It supports 1D and 2D models\u001b[39;00m\n\u001b[0;32m      6\u001b[0m \u001b[38;5;124;03mand fitting with parameter constraints. It has some predefined models\u001b[39;00m\n\u001b[0;32m      7\u001b[0m \u001b[38;5;124;03mand fitting routines.\u001b[39;00m\n\u001b[0;32m      8\u001b[0m \u001b[38;5;124;03m\"\"\"\u001b[39;00m\n\u001b[0;32m     10\u001b[0m \u001b[38;5;28;01mfrom\u001b[39;00m \u001b[38;5;21;01m.\u001b[39;00m \u001b[38;5;28;01mimport\u001b[39;00m fitting\n\u001b[1;32m---> 11\u001b[0m \u001b[38;5;28;01mfrom\u001b[39;00m \u001b[38;5;21;01m.\u001b[39;00m \u001b[38;5;28;01mimport\u001b[39;00m models\n\u001b[0;32m     12\u001b[0m \u001b[38;5;28;01mfrom\u001b[39;00m \u001b[38;5;21;01m.\u001b[39;00m\u001b[38;5;21;01mcore\u001b[39;00m \u001b[38;5;28;01mimport\u001b[39;00m \u001b[38;5;241m*\u001b[39m\n\u001b[0;32m     13\u001b[0m \u001b[38;5;28;01mfrom\u001b[39;00m \u001b[38;5;21;01m.\u001b[39;00m\u001b[38;5;21;01mparameters\u001b[39;00m \u001b[38;5;28;01mimport\u001b[39;00m \u001b[38;5;241m*\u001b[39m\n",
      "File \u001b[1;32m~\\Anaconda3\\lib\\site-packages\\astropy\\modeling\\models.py:18\u001b[0m, in \u001b[0;36m<module>\u001b[1;34m\u001b[0m\n\u001b[0;32m     16\u001b[0m \u001b[38;5;28;01mfrom\u001b[39;00m \u001b[38;5;21;01m.\u001b[39;00m\u001b[38;5;21;01mpowerlaws\u001b[39;00m \u001b[38;5;28;01mimport\u001b[39;00m \u001b[38;5;241m*\u001b[39m\n\u001b[0;32m     17\u001b[0m \u001b[38;5;28;01mfrom\u001b[39;00m \u001b[38;5;21;01m.\u001b[39;00m\u001b[38;5;21;01mspline\u001b[39;00m \u001b[38;5;28;01mimport\u001b[39;00m \u001b[38;5;241m*\u001b[39m\n\u001b[1;32m---> 18\u001b[0m \u001b[38;5;28;01mfrom\u001b[39;00m \u001b[38;5;21;01m.\u001b[39;00m\u001b[38;5;21;01mtabular\u001b[39;00m \u001b[38;5;28;01mimport\u001b[39;00m \u001b[38;5;241m*\u001b[39m\n\u001b[0;32m     19\u001b[0m \u001b[38;5;28;01mfrom\u001b[39;00m \u001b[38;5;21;01m.\u001b[39;00m \u001b[38;5;28;01mimport\u001b[39;00m math_functions \u001b[38;5;28;01mas\u001b[39;00m math\n\u001b[0;32m     22\u001b[0m \u001b[38;5;66;03m# Attach a docstring explaining constraints to all models which support them.\u001b[39;00m\n\u001b[0;32m     23\u001b[0m \u001b[38;5;66;03m# Note: add new models to this list\u001b[39;00m\n",
      "File \u001b[1;32m~\\Anaconda3\\lib\\site-packages\\astropy\\modeling\\tabular.py:28\u001b[0m, in \u001b[0;36m<module>\u001b[1;34m\u001b[0m\n\u001b[0;32m     25\u001b[0m \u001b[38;5;28;01mfrom\u001b[39;00m \u001b[38;5;21;01m.\u001b[39;00m\u001b[38;5;21;01mcore\u001b[39;00m \u001b[38;5;28;01mimport\u001b[39;00m Model\n\u001b[0;32m     27\u001b[0m \u001b[38;5;28;01mtry\u001b[39;00m:\n\u001b[1;32m---> 28\u001b[0m     \u001b[38;5;28;01mfrom\u001b[39;00m \u001b[38;5;21;01mscipy\u001b[39;00m\u001b[38;5;21;01m.\u001b[39;00m\u001b[38;5;21;01minterpolate\u001b[39;00m \u001b[38;5;28;01mimport\u001b[39;00m interpn\n\u001b[0;32m     29\u001b[0m     has_scipy \u001b[38;5;241m=\u001b[39m \u001b[38;5;28;01mTrue\u001b[39;00m\n\u001b[0;32m     30\u001b[0m \u001b[38;5;28;01mexcept\u001b[39;00m \u001b[38;5;167;01mImportError\u001b[39;00m:\n",
      "File \u001b[1;32m~\\Anaconda3\\lib\\site-packages\\scipy\\interpolate\\__init__.py:166\u001b[0m, in \u001b[0;36m<module>\u001b[1;34m\u001b[0m\n\u001b[0;32m      1\u001b[0m \u001b[38;5;124;03m\"\"\"\u001b[39;00m\n\u001b[0;32m      2\u001b[0m \u001b[38;5;124;03m========================================\u001b[39;00m\n\u001b[0;32m      3\u001b[0m \u001b[38;5;124;03mInterpolation (:mod:`scipy.interpolate`)\u001b[39;00m\n\u001b[1;32m   (...)\u001b[0m\n\u001b[0;32m    164\u001b[0m \u001b[38;5;124;03m(should not be used in new code).\u001b[39;00m\n\u001b[0;32m    165\u001b[0m \u001b[38;5;124;03m\"\"\"\u001b[39;00m\n\u001b[1;32m--> 166\u001b[0m \u001b[38;5;28;01mfrom\u001b[39;00m \u001b[38;5;21;01m.\u001b[39;00m\u001b[38;5;21;01minterpolate\u001b[39;00m \u001b[38;5;28;01mimport\u001b[39;00m \u001b[38;5;241m*\u001b[39m\n\u001b[0;32m    167\u001b[0m \u001b[38;5;28;01mfrom\u001b[39;00m \u001b[38;5;21;01m.\u001b[39;00m\u001b[38;5;21;01mfitpack\u001b[39;00m \u001b[38;5;28;01mimport\u001b[39;00m \u001b[38;5;241m*\u001b[39m\n\u001b[0;32m    169\u001b[0m \u001b[38;5;66;03m# New interface to fitpack library:\u001b[39;00m\n",
      "File \u001b[1;32m~\\Anaconda3\\lib\\site-packages\\scipy\\interpolate\\interpolate.py:11\u001b[0m, in \u001b[0;36m<module>\u001b[1;34m\u001b[0m\n\u001b[0;32m      7\u001b[0m \u001b[38;5;28;01mimport\u001b[39;00m \u001b[38;5;21;01mnumpy\u001b[39;00m \u001b[38;5;28;01mas\u001b[39;00m \u001b[38;5;21;01mnp\u001b[39;00m\n\u001b[0;32m      8\u001b[0m \u001b[38;5;28;01mfrom\u001b[39;00m \u001b[38;5;21;01mnumpy\u001b[39;00m \u001b[38;5;28;01mimport\u001b[39;00m (array, transpose, searchsorted, atleast_1d, atleast_2d,\n\u001b[0;32m      9\u001b[0m                    ravel, poly1d, asarray, intp)\n\u001b[1;32m---> 11\u001b[0m \u001b[38;5;28;01mimport\u001b[39;00m \u001b[38;5;21;01mscipy\u001b[39;00m\u001b[38;5;21;01m.\u001b[39;00m\u001b[38;5;21;01mspecial\u001b[39;00m \u001b[38;5;28;01mas\u001b[39;00m \u001b[38;5;21;01mspec\u001b[39;00m\n\u001b[0;32m     12\u001b[0m \u001b[38;5;28;01mfrom\u001b[39;00m \u001b[38;5;21;01mscipy\u001b[39;00m\u001b[38;5;21;01m.\u001b[39;00m\u001b[38;5;21;01mspecial\u001b[39;00m \u001b[38;5;28;01mimport\u001b[39;00m comb\n\u001b[0;32m     13\u001b[0m \u001b[38;5;28;01mfrom\u001b[39;00m \u001b[38;5;21;01mscipy\u001b[39;00m\u001b[38;5;21;01m.\u001b[39;00m\u001b[38;5;21;01m_lib\u001b[39;00m\u001b[38;5;21;01m.\u001b[39;00m\u001b[38;5;21;01m_util\u001b[39;00m \u001b[38;5;28;01mimport\u001b[39;00m prod\n",
      "File \u001b[1;32m~\\Anaconda3\\lib\\site-packages\\scipy\\special\\__init__.py:646\u001b[0m, in \u001b[0;36m<module>\u001b[1;34m\u001b[0m\n\u001b[0;32m    643\u001b[0m \u001b[38;5;28;01mfrom\u001b[39;00m \u001b[38;5;21;01m.\u001b[39;00m \u001b[38;5;28;01mimport\u001b[39;00m _ufuncs\n\u001b[0;32m    644\u001b[0m \u001b[38;5;28;01mfrom\u001b[39;00m \u001b[38;5;21;01m.\u001b[39;00m\u001b[38;5;21;01m_ufuncs\u001b[39;00m \u001b[38;5;28;01mimport\u001b[39;00m \u001b[38;5;241m*\u001b[39m\n\u001b[1;32m--> 646\u001b[0m \u001b[38;5;28;01mfrom\u001b[39;00m \u001b[38;5;21;01m.\u001b[39;00m \u001b[38;5;28;01mimport\u001b[39;00m _basic\n\u001b[0;32m    647\u001b[0m \u001b[38;5;28;01mfrom\u001b[39;00m \u001b[38;5;21;01m.\u001b[39;00m\u001b[38;5;21;01m_basic\u001b[39;00m \u001b[38;5;28;01mimport\u001b[39;00m \u001b[38;5;241m*\u001b[39m\n\u001b[0;32m    649\u001b[0m \u001b[38;5;28;01mfrom\u001b[39;00m \u001b[38;5;21;01m.\u001b[39;00m\u001b[38;5;21;01m_logsumexp\u001b[39;00m \u001b[38;5;28;01mimport\u001b[39;00m logsumexp, softmax, log_softmax\n",
      "File \u001b[1;32m~\\Anaconda3\\lib\\site-packages\\scipy\\special\\_basic.py:16\u001b[0m, in \u001b[0;36m<module>\u001b[1;34m\u001b[0m\n\u001b[0;32m     12\u001b[0m \u001b[38;5;28;01mfrom\u001b[39;00m \u001b[38;5;21;01m.\u001b[39;00m\u001b[38;5;21;01m_ufuncs\u001b[39;00m \u001b[38;5;28;01mimport\u001b[39;00m (mathieu_a, mathieu_b, iv, jv, gamma,\n\u001b[0;32m     13\u001b[0m                       psi, hankel1, hankel2, yv, kv, ndtri,\n\u001b[0;32m     14\u001b[0m                       poch, binom, hyp0f1)\n\u001b[0;32m     15\u001b[0m \u001b[38;5;28;01mfrom\u001b[39;00m \u001b[38;5;21;01m.\u001b[39;00m \u001b[38;5;28;01mimport\u001b[39;00m specfun\n\u001b[1;32m---> 16\u001b[0m \u001b[38;5;28;01mfrom\u001b[39;00m \u001b[38;5;21;01m.\u001b[39;00m \u001b[38;5;28;01mimport\u001b[39;00m orthogonal\n\u001b[0;32m     17\u001b[0m \u001b[38;5;28;01mfrom\u001b[39;00m \u001b[38;5;21;01m.\u001b[39;00m\u001b[38;5;21;01m_comb\u001b[39;00m \u001b[38;5;28;01mimport\u001b[39;00m _comb_int\n\u001b[0;32m     20\u001b[0m __all__ \u001b[38;5;241m=\u001b[39m [\n\u001b[0;32m     21\u001b[0m     \u001b[38;5;124m'\u001b[39m\u001b[38;5;124mai_zeros\u001b[39m\u001b[38;5;124m'\u001b[39m,\n\u001b[0;32m     22\u001b[0m     \u001b[38;5;124m'\u001b[39m\u001b[38;5;124massoc_laguerre\u001b[39m\u001b[38;5;124m'\u001b[39m,\n\u001b[1;32m   (...)\u001b[0m\n\u001b[0;32m     90\u001b[0m     \u001b[38;5;124m'\u001b[39m\u001b[38;5;124mzeta\u001b[39m\u001b[38;5;124m'\u001b[39m\n\u001b[0;32m     91\u001b[0m ]\n",
      "File \u001b[1;32m~\\Anaconda3\\lib\\site-packages\\scipy\\special\\orthogonal.py:81\u001b[0m, in \u001b[0;36m<module>\u001b[1;34m\u001b[0m\n\u001b[0;32m     78\u001b[0m \u001b[38;5;28;01mimport\u001b[39;00m \u001b[38;5;21;01mnumpy\u001b[39;00m \u001b[38;5;28;01mas\u001b[39;00m \u001b[38;5;21;01mnp\u001b[39;00m\n\u001b[0;32m     79\u001b[0m \u001b[38;5;28;01mfrom\u001b[39;00m \u001b[38;5;21;01mnumpy\u001b[39;00m \u001b[38;5;28;01mimport\u001b[39;00m (exp, inf, pi, sqrt, floor, sin, cos, around,\n\u001b[0;32m     80\u001b[0m                    hstack, arccos, arange)\n\u001b[1;32m---> 81\u001b[0m \u001b[38;5;28;01mfrom\u001b[39;00m \u001b[38;5;21;01mscipy\u001b[39;00m \u001b[38;5;28;01mimport\u001b[39;00m linalg\n\u001b[0;32m     82\u001b[0m \u001b[38;5;28;01mfrom\u001b[39;00m \u001b[38;5;21;01mscipy\u001b[39;00m\u001b[38;5;21;01m.\u001b[39;00m\u001b[38;5;21;01mspecial\u001b[39;00m \u001b[38;5;28;01mimport\u001b[39;00m airy\n\u001b[0;32m     84\u001b[0m \u001b[38;5;66;03m# Local imports.\u001b[39;00m\n",
      "File \u001b[1;32m~\\Anaconda3\\lib\\site-packages\\scipy\\linalg\\__init__.py:213\u001b[0m, in \u001b[0;36m<module>\u001b[1;34m\u001b[0m\n\u001b[0;32m    211\u001b[0m \u001b[38;5;28;01mfrom\u001b[39;00m \u001b[38;5;21;01m.\u001b[39;00m\u001b[38;5;21;01m_procrustes\u001b[39;00m \u001b[38;5;28;01mimport\u001b[39;00m \u001b[38;5;241m*\u001b[39m\n\u001b[0;32m    212\u001b[0m \u001b[38;5;28;01mfrom\u001b[39;00m \u001b[38;5;21;01m.\u001b[39;00m\u001b[38;5;21;01m_decomp_update\u001b[39;00m \u001b[38;5;28;01mimport\u001b[39;00m \u001b[38;5;241m*\u001b[39m\n\u001b[1;32m--> 213\u001b[0m \u001b[38;5;28;01mfrom\u001b[39;00m \u001b[38;5;21;01m.\u001b[39;00m\u001b[38;5;21;01m_sketches\u001b[39;00m \u001b[38;5;28;01mimport\u001b[39;00m \u001b[38;5;241m*\u001b[39m\n\u001b[0;32m    214\u001b[0m \u001b[38;5;28;01mfrom\u001b[39;00m \u001b[38;5;21;01m.\u001b[39;00m\u001b[38;5;21;01m_decomp_cossin\u001b[39;00m \u001b[38;5;28;01mimport\u001b[39;00m \u001b[38;5;241m*\u001b[39m\n\u001b[0;32m    216\u001b[0m __all__ \u001b[38;5;241m=\u001b[39m [s \u001b[38;5;28;01mfor\u001b[39;00m s \u001b[38;5;129;01min\u001b[39;00m \u001b[38;5;28mdir\u001b[39m() \u001b[38;5;28;01mif\u001b[39;00m \u001b[38;5;129;01mnot\u001b[39;00m s\u001b[38;5;241m.\u001b[39mstartswith(\u001b[38;5;124m'\u001b[39m\u001b[38;5;124m_\u001b[39m\u001b[38;5;124m'\u001b[39m)]\n",
      "File \u001b[1;32m~\\Anaconda3\\lib\\site-packages\\scipy\\linalg\\_sketches.py:9\u001b[0m, in \u001b[0;36m<module>\u001b[1;34m\u001b[0m\n\u001b[0;32m      6\u001b[0m \u001b[38;5;28;01mimport\u001b[39;00m \u001b[38;5;21;01mnumpy\u001b[39;00m \u001b[38;5;28;01mas\u001b[39;00m \u001b[38;5;21;01mnp\u001b[39;00m\n\u001b[0;32m      8\u001b[0m \u001b[38;5;28;01mfrom\u001b[39;00m \u001b[38;5;21;01mscipy\u001b[39;00m\u001b[38;5;21;01m.\u001b[39;00m\u001b[38;5;21;01m_lib\u001b[39;00m\u001b[38;5;21;01m.\u001b[39;00m\u001b[38;5;21;01m_util\u001b[39;00m \u001b[38;5;28;01mimport\u001b[39;00m check_random_state, rng_integers\n\u001b[1;32m----> 9\u001b[0m \u001b[38;5;28;01mfrom\u001b[39;00m \u001b[38;5;21;01mscipy\u001b[39;00m\u001b[38;5;21;01m.\u001b[39;00m\u001b[38;5;21;01msparse\u001b[39;00m \u001b[38;5;28;01mimport\u001b[39;00m csc_matrix\n\u001b[0;32m     11\u001b[0m __all__ \u001b[38;5;241m=\u001b[39m [\u001b[38;5;124m'\u001b[39m\u001b[38;5;124mclarkson_woodruff_transform\u001b[39m\u001b[38;5;124m'\u001b[39m]\n\u001b[0;32m     14\u001b[0m \u001b[38;5;28;01mdef\u001b[39;00m \u001b[38;5;21mcwt_matrix\u001b[39m(n_rows, n_columns, seed\u001b[38;5;241m=\u001b[39m\u001b[38;5;28;01mNone\u001b[39;00m):\n",
      "File \u001b[1;32m~\\Anaconda3\\lib\\site-packages\\scipy\\sparse\\__init__.py:230\u001b[0m, in \u001b[0;36m<module>\u001b[1;34m\u001b[0m\n\u001b[0;32m    228\u001b[0m \u001b[38;5;28;01mfrom\u001b[39;00m \u001b[38;5;21;01m.\u001b[39;00m\u001b[38;5;21;01mcsr\u001b[39;00m \u001b[38;5;28;01mimport\u001b[39;00m \u001b[38;5;241m*\u001b[39m\n\u001b[0;32m    229\u001b[0m \u001b[38;5;28;01mfrom\u001b[39;00m \u001b[38;5;21;01m.\u001b[39;00m\u001b[38;5;21;01mcsc\u001b[39;00m \u001b[38;5;28;01mimport\u001b[39;00m \u001b[38;5;241m*\u001b[39m\n\u001b[1;32m--> 230\u001b[0m \u001b[38;5;28;01mfrom\u001b[39;00m \u001b[38;5;21;01m.\u001b[39;00m\u001b[38;5;21;01mlil\u001b[39;00m \u001b[38;5;28;01mimport\u001b[39;00m \u001b[38;5;241m*\u001b[39m\n\u001b[0;32m    231\u001b[0m \u001b[38;5;28;01mfrom\u001b[39;00m \u001b[38;5;21;01m.\u001b[39;00m\u001b[38;5;21;01mdok\u001b[39;00m \u001b[38;5;28;01mimport\u001b[39;00m \u001b[38;5;241m*\u001b[39m\n\u001b[0;32m    232\u001b[0m \u001b[38;5;28;01mfrom\u001b[39;00m \u001b[38;5;21;01m.\u001b[39;00m\u001b[38;5;21;01mcoo\u001b[39;00m \u001b[38;5;28;01mimport\u001b[39;00m \u001b[38;5;241m*\u001b[39m\n",
      "File \u001b[1;32m<frozen importlib._bootstrap>:1007\u001b[0m, in \u001b[0;36m_find_and_load\u001b[1;34m(name, import_)\u001b[0m\n",
      "File \u001b[1;32m<frozen importlib._bootstrap>:986\u001b[0m, in \u001b[0;36m_find_and_load_unlocked\u001b[1;34m(name, import_)\u001b[0m\n",
      "File \u001b[1;32m<frozen importlib._bootstrap>:680\u001b[0m, in \u001b[0;36m_load_unlocked\u001b[1;34m(spec)\u001b[0m\n",
      "File \u001b[1;32m<frozen importlib._bootstrap_external>:846\u001b[0m, in \u001b[0;36mexec_module\u001b[1;34m(self, module)\u001b[0m\n",
      "File \u001b[1;32m<frozen importlib._bootstrap_external>:941\u001b[0m, in \u001b[0;36mget_code\u001b[1;34m(self, fullname)\u001b[0m\n",
      "File \u001b[1;32m<frozen importlib._bootstrap_external>:1040\u001b[0m, in \u001b[0;36mget_data\u001b[1;34m(self, path)\u001b[0m\n",
      "\u001b[1;31mKeyboardInterrupt\u001b[0m: "
     ]
    }
   ],
   "source": [
    "#78. find the available built-in modules\n",
    "a = dir (__builtins__)\n",
    "print(a)\n",
    "# or \n",
    "b = help('modules')\n",
    "print (b)"
   ]
  },
  {
   "cell_type": "code",
   "execution_count": 71,
   "id": "2f46859a",
   "metadata": {},
   "outputs": [
    {
     "name": "stdout",
     "output_type": "stream",
     "text": [
      "28\n",
      "28\n",
      "28\n",
      "56\n",
      "60\n",
      "58\n",
      "32\n",
      "120\n"
     ]
    }
   ],
   "source": [
    "# 79. get the size of an object in bytes\n",
    "import sys\n",
    "print(sys.getsizeof(8))\n",
    "print(sys.getsizeof(16))\n",
    "print(sys.getsizeof(32))\n",
    "print(sys.getsizeof(\"shubham\"))\n",
    "print(sys.getsizeof(\"shubham1994\"))\n",
    "print(sys.getsizeof(\"tiger@123\"))\n",
    "print(sys.getsizeof(8602536329))\n",
    "print(sys.getsizeof([2,3,4,5,6,\"shubham\",\"sourabh\",\"tiger@123\"]))"
   ]
  },
  {
   "cell_type": "code",
   "execution_count": 72,
   "id": "a44e8b10",
   "metadata": {},
   "outputs": [
    {
     "name": "stdout",
     "output_type": "stream",
     "text": [
      "\n",
      "Current value of the recursion limit:\n",
      "3000\n"
     ]
    }
   ],
   "source": [
    "# 80. get the current value of the recursion limit\n",
    "import sys\n",
    "print()\n",
    "print(\"Current value of the recursion limit:\")            # sys.setrecursionlimit(1001)\n",
    "print(sys.getrecursionlimit())                            # print()"
   ]
  },
  {
   "cell_type": "code",
   "execution_count": 73,
   "id": "e97e7e62",
   "metadata": {},
   "outputs": [
    {
     "name": "stdout",
     "output_type": "stream",
     "text": [
      "I am shubham\n",
      "my age is 28 and I lives in mohali\n"
     ]
    }
   ],
   "source": [
    "# 81.  concatenate N strings\n",
    "\n",
    "name = \"shubham\"\n",
    "age = 28\n",
    "location = \"mohali\"\n",
    "print (\"I am\", name + \"\\nmy age is\", str(age) + \" and I lives in\", location)"
   ]
  },
  {
   "cell_type": "code",
   "execution_count": 82,
   "id": "210e9b8c",
   "metadata": {},
   "outputs": [
    {
     "name": "stdout",
     "output_type": "stream",
     "text": [
      "Original container:\n",
      "[10, 20, 30]\n",
      "<class 'list'>\n"
     ]
    },
    {
     "ename": "TypeError",
     "evalue": "sum() takes 0 positional arguments but 1 was given",
     "output_type": "error",
     "traceback": [
      "\u001b[1;31m---------------------------------------------------------------------------\u001b[0m",
      "\u001b[1;31mTypeError\u001b[0m                                 Traceback (most recent call last)",
      "Input \u001b[1;32mIn [82]\u001b[0m, in \u001b[0;36m<cell line: 6>\u001b[1;34m()\u001b[0m\n\u001b[0;32m      4\u001b[0m \u001b[38;5;28mprint\u001b[39m(nums)\n\u001b[0;32m      5\u001b[0m \u001b[38;5;28mprint\u001b[39m(\u001b[38;5;28mtype\u001b[39m(nums))\n\u001b[1;32m----> 6\u001b[0m \u001b[38;5;28mprint\u001b[39m(\u001b[38;5;124m\"\u001b[39m\u001b[38;5;124mSum of all items of the said container:\u001b[39m\u001b[38;5;124m\"\u001b[39m, \u001b[38;5;28;43msum\u001b[39;49m\u001b[43m(\u001b[49m\u001b[43mnums\u001b[49m\u001b[43m)\u001b[49m)\n",
      "\u001b[1;31mTypeError\u001b[0m: sum() takes 0 positional arguments but 1 was given"
     ]
    }
   ],
   "source": [
    "# 82. calculate the sum of all items of a container (tuple, list, set, dictionary)\n",
    "nums = [10,20,30]\n",
    "print(\"Original container:\")\n",
    "print(nums)\n",
    "print(type(nums))\n",
    "print(\"Sum of all items of the said container:\", sum(nums))"
   ]
  },
  {
   "cell_type": "code",
   "execution_count": 83,
   "id": "c2728481",
   "metadata": {},
   "outputs": [
    {
     "name": "stdout",
     "output_type": "stream",
     "text": [
      "False\n",
      "False\n",
      "False\n",
      "False\n",
      "False\n",
      "True\n",
      "True\n",
      "True\n",
      "True\n",
      "True\n"
     ]
    }
   ],
   "source": [
    "# 83. Test whether all numbers of a list is greater than a certain number\n",
    "numbers = [10,13,14,17,20,22,44,32,24,43]\n",
    "for i in numbers:\n",
    "    if i>20:\n",
    "        print(True)\n",
    "    else:\n",
    "        print(False)"
   ]
  },
  {
   "cell_type": "code",
   "execution_count": 84,
   "id": "579bc597",
   "metadata": {},
   "outputs": [
    {
     "name": "stdout",
     "output_type": "stream",
     "text": [
      "3\n",
      "8\n",
      "5\n",
      "5\n"
     ]
    }
   ],
   "source": [
    "# 84. Count the number of occurrence of a specific character in a string\n",
    "\n",
    "a = \"hey hi, I am shubham form madhya pradesh gwalior and currently I lives in mohali\"\n",
    "print(a.count(\"s\"))\n",
    "print(a.count(\"a\"))\n",
    "print(a.count(\"i\"))\n",
    "print(a.count(\"m\"))"
   ]
  },
  {
   "cell_type": "code",
   "execution_count": 85,
   "id": "884cf0d7",
   "metadata": {},
   "outputs": [
    {
     "name": "stdout",
     "output_type": "stream",
     "text": [
      "Enter file name:\n",
      "shubham.py\n",
      "It is neighter file nor directory\n"
     ]
    }
   ],
   "source": [
    "# 85. check whether a file path is a file or a directory\n",
    "name = (input(\"Enter file name:\\n\"))\n",
    "import os\n",
    "if (os.path.isdir(name)):\n",
    "    print(\"It is a directory\")\n",
    "elif (os.path.isfile(name)):\n",
    "    print(\"It is a file\")\n",
    "else:\n",
    "    print(\"It is neighter file nor directory\")"
   ]
  },
  {
   "cell_type": "code",
   "execution_count": 86,
   "id": "bdc059b6",
   "metadata": {},
   "outputs": [
    {
     "name": "stdout",
     "output_type": "stream",
     "text": [
      "97\n",
      "42\n",
      "38\n"
     ]
    }
   ],
   "source": [
    "# 86. get the ASCII value of a character.\n",
    "print(ord('a'))\n",
    "print (ord('*'))\n",
    "print (ord('&'))"
   ]
  },
  {
   "cell_type": "code",
   "execution_count": 89,
   "id": "decb84fd",
   "metadata": {},
   "outputs": [
    {
     "name": "stdout",
     "output_type": "stream",
     "text": [
      "0 bytes\n",
      "28023 bytes\n"
     ]
    }
   ],
   "source": [
    "# 87.  get the size of a file\n",
    "import os\n",
    "a = os.path.getsize(\"bro.txt\")\n",
    "print(a, \"bytes\")\n",
    "b = os.stat(\"is-present.py\")\n",
    "b =b.st_size\n",
    "print(b, \"bytes\")"
   ]
  },
  {
   "cell_type": "code",
   "execution_count": 90,
   "id": "31f810d5",
   "metadata": {},
   "outputs": [
    {
     "name": "stdout",
     "output_type": "stream",
     "text": [
      "enter the value of x:\n",
      "5\n",
      "enter the value of y:\n",
      "9\n",
      "5+9=14\n"
     ]
    }
   ],
   "source": [
    "# 88. Given variables x=30 and y=20, write a Python program to print \"30+20=50\".\n",
    "x = int(input(\"enter the value of x:\\n\"))\n",
    "y = int(input(\"enter the value of y:\\n\"))\n",
    "print(f\"{x}+{y}={x+y}\")"
   ]
  },
  {
   "cell_type": "code",
   "execution_count": 92,
   "id": "1873951d",
   "metadata": {},
   "outputs": [
    {
     "name": "stdout",
     "output_type": "stream",
     "text": [
      "enter your value here:\n",
      "1\n",
      "First day of a Month!\n"
     ]
    }
   ],
   "source": [
    "# 89. perform an action if a condition is true.\n",
    "\n",
    "# Given a variable name, if the value is 1, display the string \"First day of a Month!\" and do nothing if the value is not equal.\n",
    "day = int(input(\"enter your value here:\\n\"))\n",
    "if day == 1:\n",
    "    print(\"First day of a Month!\")"
   ]
  },
  {
   "cell_type": "code",
   "execution_count": 93,
   "id": "633ae0a0",
   "metadata": {},
   "outputs": [
    {
     "name": "stdout",
     "output_type": "stream",
     "text": [
      "don't worry bro, you can do it."
     ]
    }
   ],
   "source": [
    "# 90. Create a copy of its own source code\n",
    "\n",
    "def mycopy(src, dest):\n",
    "    with open(src) as f, open(dest, 'w') as d:\n",
    "        d.write(f.read())\n",
    "mycopy('file1.txt', 'file2.txt')\n",
    "with open(\"file2.txt\", 'r') as filehandle:\n",
    "    for i in filehandle:\n",
    "        print(i, end=\"\")"
   ]
  },
  {
   "cell_type": "code",
   "execution_count": 94,
   "id": "3bb8fc1f",
   "metadata": {},
   "outputs": [
    {
     "name": "stdout",
     "output_type": "stream",
     "text": [
      "enter the value of a:\n",
      "5\n",
      "enter the value of b:\n",
      "7\n",
      "value of a is 7 and the value of b is 5\n"
     ]
    }
   ],
   "source": [
    "#  91. swap two variables\n",
    "a = int(input(\"enter the value of a:\\n\"))\n",
    "b = int(input(\"enter the value of b:\\n\"))\n",
    "a,b=b,a\n",
    "\n",
    "print(f\"value of a is {a} and the value of b is {b}\")     # print((\"the value of a is\",a)+(\"the value of b is\", b))\n",
    "# print(a)\n",
    "# print(b)"
   ]
  },
  {
   "cell_type": "code",
   "execution_count": 95,
   "id": "e600b753",
   "metadata": {},
   "outputs": [
    {
     "name": "stdout",
     "output_type": "stream",
     "text": [
      "\\#{'}${\"}@/\n",
      "\\#{'}${\"}@/\n",
      "\\#{'}${\"}@/\n",
      "\\#{'}${\"}@/\n",
      "\\#{'}${\"}@/\n"
     ]
    }
   ],
   "source": [
    "# 92.  define a string containing special characters in various forms\n",
    "\n",
    "print(\"\\#{'}${\\\"}@/\")\n",
    "print(\"\\#{'}${\"'\"'\"}@/\")\n",
    "print(r\"\"\"\\#{'}${\"}@/\"\"\")\n",
    "print('\\#{\\'}${\"}@/')\n",
    "print('\\#{'\"'\"'}${\"}@/')"
   ]
  },
  {
   "cell_type": "code",
   "execution_count": 96,
   "id": "f80d89af",
   "metadata": {},
   "outputs": [
    {
     "name": "stdout",
     "output_type": "stream",
     "text": [
      "enter the value of a:\n",
      "4\n",
      "the identity of a is 4\n",
      "the type of a is <class 'int'>\n",
      "the value of a is 1701503789456\n"
     ]
    }
   ],
   "source": [
    "# 93. get the Identity, Type, and Value of an object\n",
    "a = int(input('enter the value of a:\\n'))\n",
    "print(\"the identity of a is\", a)\n",
    "print(\"the type of a is\", type(a))\n",
    "print(\"the value of a is\", id(a))\n"
   ]
  },
  {
   "cell_type": "code",
   "execution_count": 97,
   "id": "c8e37274",
   "metadata": {},
   "outputs": [
    {
     "ename": "TypeError",
     "evalue": "'list' object is not callable",
     "output_type": "error",
     "traceback": [
      "\u001b[1;31m---------------------------------------------------------------------------\u001b[0m",
      "\u001b[1;31mTypeError\u001b[0m                                 Traceback (most recent call last)",
      "Input \u001b[1;32mIn [97]\u001b[0m, in \u001b[0;36m<cell line: 3>\u001b[1;34m()\u001b[0m\n\u001b[0;32m      1\u001b[0m \u001b[38;5;66;03m# 94.  convert a byte string to a list of integers\u001b[39;00m\n\u001b[0;32m      2\u001b[0m a \u001b[38;5;241m=\u001b[39m \u001b[38;5;124mb\u001b[39m\u001b[38;5;124m'\u001b[39m\u001b[38;5;124mShuBh@m\u001b[39m\u001b[38;5;124m'\u001b[39m\n\u001b[1;32m----> 3\u001b[0m \u001b[38;5;28mprint\u001b[39m(\u001b[38;5;28;43mlist\u001b[39;49m\u001b[43m(\u001b[49m\u001b[43ma\u001b[49m\u001b[43m)\u001b[49m)\n\u001b[0;32m      4\u001b[0m \u001b[38;5;28mprint\u001b[39m(\u001b[38;5;28mtuple\u001b[39m(a))\n\u001b[0;32m      5\u001b[0m \u001b[38;5;28mprint\u001b[39m(\u001b[38;5;28mset\u001b[39m(a))\n",
      "\u001b[1;31mTypeError\u001b[0m: 'list' object is not callable"
     ]
    }
   ],
   "source": [
    "# 94.  convert a byte string to a list of integers\n",
    "a = b'ShuBh@m'\n",
    "print(list(a))\n",
    "print(tuple(a))\n",
    "print(set(a))"
   ]
  },
  {
   "cell_type": "code",
   "execution_count": 98,
   "id": "369df92e",
   "metadata": {},
   "outputs": [
    {
     "name": "stdout",
     "output_type": "stream",
     "text": [
      "\n",
      "not numeric\n"
     ]
    }
   ],
   "source": [
    "# 95. check whether a string is numeric\n",
    "str = \"shubham234\"\n",
    "# str = 14.10\n",
    "try:\n",
    "    c = float(str)\n",
    "    print(\"\\nIt is numberic\", end=\"\")\n",
    "except(ValueError, TypeError):\n",
    "    print(\"\\nnot numeric\", end=\"\")\n",
    "print()"
   ]
  },
  {
   "cell_type": "code",
   "execution_count": 99,
   "id": "0c1fb8d1",
   "metadata": {},
   "outputs": [
    {
     "name": "stderr",
     "output_type": "stream",
     "text": [
      "  File \"C:\\Users\\HalwaShubham.SEASIAINFOTECH\\Anaconda3\\lib\\runpy.py\", line 197, in _run_module_as_main\n",
      "    return _run_code(code, main_globals, None,\n",
      "  File \"C:\\Users\\HalwaShubham.SEASIAINFOTECH\\Anaconda3\\lib\\runpy.py\", line 87, in _run_code\n",
      "    exec(code, run_globals)\n",
      "  File \"C:\\Users\\HalwaShubham.SEASIAINFOTECH\\Anaconda3\\lib\\site-packages\\ipykernel_launcher.py\", line 16, in <module>\n",
      "    app.launch_new_instance()\n",
      "  File \"C:\\Users\\HalwaShubham.SEASIAINFOTECH\\Anaconda3\\lib\\site-packages\\traitlets\\config\\application.py\", line 846, in launch_instance\n",
      "    app.start()\n",
      "  File \"C:\\Users\\HalwaShubham.SEASIAINFOTECH\\Anaconda3\\lib\\site-packages\\ipykernel\\kernelapp.py\", line 677, in start\n",
      "    self.io_loop.start()\n",
      "  File \"C:\\Users\\HalwaShubham.SEASIAINFOTECH\\Anaconda3\\lib\\site-packages\\tornado\\platform\\asyncio.py\", line 199, in start\n",
      "    self.asyncio_loop.run_forever()\n",
      "  File \"C:\\Users\\HalwaShubham.SEASIAINFOTECH\\Anaconda3\\lib\\asyncio\\base_events.py\", line 601, in run_forever\n",
      "    self._run_once()\n",
      "  File \"C:\\Users\\HalwaShubham.SEASIAINFOTECH\\Anaconda3\\lib\\asyncio\\base_events.py\", line 1905, in _run_once\n",
      "    handle._run()\n",
      "  File \"C:\\Users\\HalwaShubham.SEASIAINFOTECH\\Anaconda3\\lib\\asyncio\\events.py\", line 80, in _run\n",
      "    self._context.run(self._callback, *self._args)\n",
      "  File \"C:\\Users\\HalwaShubham.SEASIAINFOTECH\\Anaconda3\\lib\\site-packages\\ipykernel\\kernelbase.py\", line 471, in dispatch_queue\n",
      "    await self.process_one()\n",
      "  File \"C:\\Users\\HalwaShubham.SEASIAINFOTECH\\Anaconda3\\lib\\site-packages\\ipykernel\\kernelbase.py\", line 460, in process_one\n",
      "    await dispatch(*args)\n",
      "  File \"C:\\Users\\HalwaShubham.SEASIAINFOTECH\\Anaconda3\\lib\\site-packages\\ipykernel\\kernelbase.py\", line 367, in dispatch_shell\n",
      "    await result\n",
      "  File \"C:\\Users\\HalwaShubham.SEASIAINFOTECH\\Anaconda3\\lib\\site-packages\\ipykernel\\kernelbase.py\", line 662, in execute_request\n",
      "    reply_content = await reply_content\n",
      "  File \"C:\\Users\\HalwaShubham.SEASIAINFOTECH\\Anaconda3\\lib\\site-packages\\ipykernel\\ipkernel.py\", line 360, in do_execute\n",
      "    res = shell.run_cell(code, store_history=store_history, silent=silent)\n",
      "  File \"C:\\Users\\HalwaShubham.SEASIAINFOTECH\\Anaconda3\\lib\\site-packages\\ipykernel\\zmqshell.py\", line 532, in run_cell\n",
      "    return super().run_cell(*args, **kwargs)\n",
      "  File \"C:\\Users\\HalwaShubham.SEASIAINFOTECH\\Anaconda3\\lib\\site-packages\\IPython\\core\\interactiveshell.py\", line 2863, in run_cell\n",
      "    result = self._run_cell(\n",
      "  File \"C:\\Users\\HalwaShubham.SEASIAINFOTECH\\Anaconda3\\lib\\site-packages\\IPython\\core\\interactiveshell.py\", line 2909, in _run_cell\n",
      "    return runner(coro)\n",
      "  File \"C:\\Users\\HalwaShubham.SEASIAINFOTECH\\Anaconda3\\lib\\site-packages\\IPython\\core\\async_helpers.py\", line 129, in _pseudo_sync_runner\n",
      "    coro.send(None)\n",
      "  File \"C:\\Users\\HalwaShubham.SEASIAINFOTECH\\Anaconda3\\lib\\site-packages\\IPython\\core\\interactiveshell.py\", line 3106, in run_cell_async\n",
      "    has_raised = await self.run_ast_nodes(code_ast.body, cell_name,\n",
      "  File \"C:\\Users\\HalwaShubham.SEASIAINFOTECH\\Anaconda3\\lib\\site-packages\\IPython\\core\\interactiveshell.py\", line 3309, in run_ast_nodes\n",
      "    if await self.run_code(code, result, async_=asy):\n",
      "  File \"C:\\Users\\HalwaShubham.SEASIAINFOTECH\\Anaconda3\\lib\\site-packages\\IPython\\core\\interactiveshell.py\", line 3369, in run_code\n",
      "    exec(code_obj, self.user_global_ns, self.user_ns)\n",
      "  File \"C:\\Users\\HalwaShubham.SEASIAINFOTECH\\AppData\\Local\\Temp\\ipykernel_17372\\1966715453.py\", line 7, in <cell line: 7>\n",
      "    f1()\n",
      "  File \"C:\\Users\\HalwaShubham.SEASIAINFOTECH\\AppData\\Local\\Temp\\ipykernel_17372\\1966715453.py\", line 4, in f1\n",
      "    return abc()\n",
      "  File \"C:\\Users\\HalwaShubham.SEASIAINFOTECH\\AppData\\Local\\Temp\\ipykernel_17372\\1966715453.py\", line 6, in abc\n",
      "    traceback.print_stack()\n"
     ]
    }
   ],
   "source": [
    "# 96. print the current call stack\n",
    "import traceback\n",
    "def f1():\n",
    "    return abc()\n",
    "def abc():\n",
    "    traceback.print_stack()\n",
    "f1()"
   ]
  },
  {
   "cell_type": "code",
   "execution_count": 100,
   "id": "291e9886",
   "metadata": {},
   "outputs": [],
   "source": [
    "# 97. List the special variables used within the language\n",
    "\n",
    "# this programm with in the two files :- file1 and file2"
   ]
  },
  {
   "cell_type": "code",
   "execution_count": 101,
   "id": "80ae1fa4",
   "metadata": {},
   "outputs": [
    {
     "name": "stdout",
     "output_type": "stream",
     "text": [
      "Mon Nov  7 11:38:51 2022\n"
     ]
    }
   ],
   "source": [
    "# 98. get the system time\n",
    "import time\n",
    "print(time.ctime())   #The system time is important for debugging, network inform"
   ]
  },
  {
   "cell_type": "code",
   "execution_count": 103,
   "id": "f7a16cf8",
   "metadata": {},
   "outputs": [
    {
     "data": {
      "text/plain": [
       "0"
      ]
     },
     "execution_count": 103,
     "metadata": {},
     "output_type": "execute_result"
    }
   ],
   "source": [
    "# 99. clear the screen or terminal\n",
    "import os\n",
    "import time\n",
    "os.system(\"dir\")\n",
    "time.sleep(5)\n",
    "os.system(\"CLS\")"
   ]
  },
  {
   "cell_type": "code",
   "execution_count": 104,
   "id": "795f040c",
   "metadata": {},
   "outputs": [
    {
     "name": "stdout",
     "output_type": "stream",
     "text": [
      "host_name:- SHUBHAM-DEVOPS\n"
     ]
    }
   ],
   "source": [
    "# 100. get the name of the host on which the routine is running\n",
    "\n",
    "import socket\n",
    "print(\"host_name:-\",socket.gethostname())"
   ]
  },
  {
   "cell_type": "code",
   "execution_count": 105,
   "id": "96a0b927",
   "metadata": {},
   "outputs": [
    {
     "name": "stdout",
     "output_type": "stream",
     "text": [
      "b'<!doctype html><html itemscope=\"\" itemtype=\"http://schema.org/WebPage\" lang=\"en-IN\"><head><meta content=\"text/html; charset=UTF-8\" http-equiv=\"Content-Type\"><meta content=\"/images/branding/googleg/1x/googleg_standard_color_128dp.png\" itemprop=\"image\"><title>Google</title><script nonce=\"ZLNheKEWkQJ5SkT2yFoMvA\">(function(){window.google={kEI:\\'J6FoY8XMHuzK1sQPqfySuAo\\',kEXPI:\\'0,1302536,56873,6059,206,2414,2390,2316,383,246,5,5367,1123753,1197773,628,380090,16114,28684,22430,1362,284,12032,17583,4998,13228,3847,10622,22741,5081,1593,1279,2742,149,1103,840,6297,3514,606,2023,1777,520,14670,3227,2845,7,4811,28406,553,1851,15756,3,346,230,1014,1,5444,149,11325,2650,4,1528,2304,7039,22023,5708,7355,18097,16786,5827,2530,4094,17,4035,3,3541,1,14263,27891,2,14022,2715,11401,9865,1758,5679,1021,2380,28742,4567,6259,23418,1249,5838,14967,4333,8,7476,445,2,2,1,17306,7320,2006,8155,7321,60,2,1477,14490,874,19633,7,1922,5784,3995,19130,12192,4832,15758,1380,700,4,1,2,2,2,2,3977,2,4674,5263,786,2743,11344,14,82,950,807,1157,976,482,269,201,1869,5440,1182,984,390,1742,2088,869,118,3,338,341,1622,782,967,1857,28,369,941,1,685,1125,765,773,1141,1108,961,3382,780,80,279,5286,335,876,189,677,814,2092,802,966,1120,381,2,337,226,991,545,1780,210,554,368,64,379,6,583,37,6,680,792,749,24,373,116,1093,12,770,387,114,492,301,400,236,52,12,1180,162,339,214,24,59,121,410,482,55,741,259,143,6,609,9,302,8,348,1,293,570,1194,182,943,861,264,70,33,2,355,305,200,108,85,31,768,1038,333,72,87,475,43,232,1005,5308749,5995762,2803379,3311,141,795,19735,1,1,346,2277,250,23947957,487,25,4041631,1964,1008,2086,13579,3405,10285,1033\\',kBL:\\'ywYK\\'};google.sn=\\'webhp\\';google.kHL=\\'en-IN\\';})();(function(){\\nvar f=this||self;var h,k=[];function l(a){for(var b;a&&(!a.getAttribute||!(b=a.getAttribute(\"eid\")));)a=a.parentNode;return b||h}function m(a){for(var b=null;a&&(!a.getAttribute||!(b=a.getAttribute(\"leid\")));)a=a.parentNode;return b}\\nfunction n(a,b,c,d,g){var e=\"\";c||-1!==b.search(\"&ei=\")||(e=\"&ei=\"+l(d),-1===b.search(\"&lei=\")&&(d=m(d))&&(e+=\"&lei=\"+d));d=\"\";!c&&f._cshid&&-1===b.search(\"&cshid=\")&&\"slh\"!==a&&(d=\"&cshid=\"+f._cshid);c=c||\"/\"+(g||\"gen_204\")+\"?atyp=i&ct=\"+a+\"&cad=\"+b+e+\"&zx=\"+Date.now()+d;/^http:/i.test(c)&&\"https:\"===window.location.protocol&&(google.ml&&google.ml(Error(\"a\"),!1,{src:c,glmm:1}),c=\"\");return c};h=google.kEI;google.getEI=l;google.getLEI=m;google.ml=function(){return null};google.log=function(a,b,c,d,g){if(c=n(a,b,c,d,g)){a=new Image;var e=k.length;k[e]=a;a.onerror=a.onload=a.onabort=function(){delete k[e]};a.src=c}};google.logUrl=n;}).call(this);(function(){google.y={};google.sy=[];google.x=function(a,b){if(a)var c=a.id;else{do c=Math.random();while(google.y[c])}google.y[c]=[a,b];return!1};google.sx=function(a){google.sy.push(a)};google.lm=[];google.plm=function(a){google.lm.push.apply(google.lm,a)};google.lq=[];google.load=function(a,b,c){google.lq.push([[a],b,c])};google.loadAll=function(a,b){google.lq.push([a,b])};google.bx=!1;google.lx=function(){};}).call(this);google.f={};(function(){\\ndocument.documentElement.addEventListener(\"submit\",function(b){var a;if(a=b.target){var c=a.getAttribute(\"data-submitfalse\");a=\"1\"===c||\"q\"===c&&!a.elements.q.value?!0:!1}else a=!1;a&&(b.preventDefault(),b.stopPropagation())},!0);document.documentElement.addEventListener(\"click\",function(b){var a;a:{for(a=b.target;a&&a!==document.documentElement;a=a.parentElement)if(\"A\"===a.tagName){a=\"1\"===a.getAttribute(\"data-nohref\");break a}a=!1}a&&b.preventDefault()},!0);}).call(this);</script><style>#gb{font:13px/27px Arial,sans-serif;height:30px}#gbz,#gbg{position:absolute;white-space:nowrap;top:0;height:30px;z-index:1000}#gbz{left:0;padding-left:4px}#gbg{right:0;padding-right:5px}#gbs{background:transparent;position:absolute;top:-999px;visibility:hidden;z-index:998;right:0}.gbto #gbs{background:#fff}#gbx3,#gbx4{background-color:#2d2d2d;background-image:none;_background-image:none;background-position:0 -138px;background-repeat:repeat-x;border-bottom:1px solid #000;font-size:24px;height:29px;_height:30px;opacity:1;filter:alpha(opacity=100);position:absolute;top:0;width:100%;z-index:990}#gbx3{left:0}#gbx4{right:0}#gbb{position:relative}#gbbw{left:0;position:absolute;top:30px;width:100%}.gbtcb{position:absolute;visibility:hidden}#gbz .gbtcb{right:0}#gbg .gbtcb{left:0}.gbxx{display:none !important}.gbxo{opacity:0 !important;filter:alpha(opacity=0) !important}.gbm{position:absolute;z-index:999;top:-999px;visibility:hidden;text-align:left;border:1px solid #bebebe;background:#fff;-moz-box-shadow:-1px 1px 1px rgba(0,0,0,.2);-webkit-box-shadow:0 2px 4px rgba(0,0,0,.2);box-shadow:0 2px 4px rgba(0,0,0,.2)}.gbrtl .gbm{-moz-box-shadow:1px 1px 1px rgba(0,0,0,.2)}.gbto .gbm,.gbto #gbs{top:29px;visibility:visible}#gbz .gbm{left:0}#gbg .gbm{right:0}.gbxms{background-color:#ccc;display:block;position:absolute;z-index:1;top:-1px;left:-2px;right:-2px;bottom:-2px;opacity:.4;-moz-border-radius:3px;filter:progid:DXImageTransform.Microsoft.Blur(pixelradius=5);*opacity:1;*top:-2px;*left:-5px;*right:5px;*bottom:4px;-ms-filter:\"progid:DXImageTransform.Microsoft.Blur(pixelradius=5)\";opacity:1\\\\0/;top:-4px\\\\0/;left:-6px\\\\0/;right:5px\\\\0/;bottom:4px\\\\0/}.gbma{position:relative;top:-1px;border-style:solid dashed dashed;border-color:transparent;border-top-color:#c0c0c0;display:-moz-inline-box;display:inline-block;font-size:0;height:0;line-height:0;width:0;border-width:3px 3px 0;padding-top:1px;left:4px}#gbztms1,#gbi4m1,#gbi4s,#gbi4t{zoom:1}.gbtc,.gbmc,.gbmcc{display:block;list-style:none;margin:0;padding:0}.gbmc{background:#fff;padding:10px 0;position:relative;z-index:2;zoom:1}.gbt{position:relative;display:-moz-inline-box;display:inline-block;line-height:27px;padding:0;vertical-align:top}.gbt{*display:inline}.gbto{box-shadow:0 2px 4px rgba(0,0,0,.2);-moz-box-shadow:0 2px 4px rgba(0,0,0,.2);-webkit-box-shadow:0 2px 4px rgba(0,0,0,.2)}.gbzt,.gbgt{cursor:pointer;display:block;text-decoration:none !important}span#gbg6,span#gbg4{cursor:default}.gbts{border-left:1px solid transparent;border-right:1px solid transparent;display:block;*display:inline-block;padding:0 5px;position:relative;z-index:1000}.gbts{*display:inline}.gbzt .gbts{display:inline;zoom:1}.gbto .gbts{background:#fff;border-color:#bebebe;color:#36c;padding-bottom:1px;padding-top:2px}.gbz0l .gbts{color:#fff;font-weight:bold}.gbtsa{padding-right:9px}#gbz .gbzt,#gbz .gbgt,#gbg .gbgt{color:#ccc!important}.gbtb2{display:block;border-top:2px solid transparent}.gbto .gbzt .gbtb2,.gbto .gbgt .gbtb2{border-top-width:0}.gbtb .gbts{background:url(https://ssl.gstatic.com/gb/images/b_8d5afc09.png);_background:url(https://ssl.gstatic.com/gb/images/b8_3615d64d.png);background-position:-27px -22px;border:0;font-size:0;padding:29px 0 0;*padding:27px 0 0;width:1px}.gbzt:hover,.gbzt:focus,.gbgt-hvr,.gbgt:focus{background-color:#4c4c4c;background-image:none;_background-image:none;background-position:0 -102px;background-repeat:repeat-x;outline:none;text-decoration:none !important}.gbpdjs .gbto .gbm{min-width:99%}.gbz0l .gbtb2{border-top-color:#dd4b39!important}#gbi4s,#gbi4s1{font-weight:bold}#gbg6.gbgt-hvr,#gbg6.gbgt:focus{background-color:transparent;background-image:none}.gbg4a{font-size:0;line-height:0}.gbg4a .gbts{padding:27px 5px 0;*padding:25px 5px 0}.gbto .gbg4a .gbts{padding:29px 5px 1px;*padding:27px 5px 1px}#gbi4i,#gbi4id{left:5px;border:0;height:24px;position:absolute;top:1px;width:24px}.gbto #gbi4i,.gbto #gbi4id{top:3px}.gbi4p{display:block;width:24px}#gbi4id{background-position:-44px -101px}#gbmpid{background-position:0 0}#gbmpi,#gbmpid{border:none;display:inline-block;height:48px;width:48px}#gbmpiw{display:inline-block;line-height:9px;padding-left:20px;margin-top:10px;position:relative}#gbmpi,#gbmpid,#gbmpiw{*display:inline}#gbg5{font-size:0}#gbgs5{padding:5px !important}.gbto #gbgs5{padding:7px 5px 6px !important}#gbi5{background:url(https://ssl.gstatic.com/gb/images/b_8d5afc09.png);_background:url(https://ssl.gstatic.com/gb/images/b8_3615d64d.png);background-position:0 0;display:block;font-size:0;height:17px;width:16px}.gbto #gbi5{background-position:-6px -22px}.gbn .gbmt,.gbn .gbmt:visited,.gbnd .gbmt,.gbnd .gbmt:visited{color:#dd8e27 !important}.gbf .gbmt,.gbf .gbmt:visited{color:#900 !important}.gbmt,.gbml1,.gbmlb,.gbmt:visited,.gbml1:visited,.gbmlb:visited{color:#36c !important;text-decoration:none !important}.gbmt,.gbmt:visited{display:block}.gbml1,.gbmlb,.gbml1:visited,.gbmlb:visited{display:inline-block;margin:0 10px}.gbml1,.gbmlb,.gbml1:visited,.gbmlb:visited{*display:inline}.gbml1,.gbml1:visited{padding:0 10px}.gbml1-hvr,.gbml1:focus{outline:none;text-decoration:underline !important}#gbpm .gbml1{display:inline;margin:0;padding:0;white-space:nowrap}.gbmlb,.gbmlb:visited{line-height:27px}.gbmlb-hvr,.gbmlb:focus{outline:none;text-decoration:underline !important}.gbmlbw{color:#ccc;margin:0 10px}.gbmt{padding:0 20px}.gbmt:hover,.gbmt:focus{background:#eee;cursor:pointer;outline:0 solid black;text-decoration:none !important}.gbm0l,.gbm0l:visited{color:#000 !important;font-weight:bold}.gbmh{border-top:1px solid #bebebe;font-size:0;margin:10px 0}#gbd4 .gbmc{background:#f5f5f5;padding-top:0}#gbd4 .gbsbic::-webkit-scrollbar-track:vertical{background-color:#f5f5f5;margin-top:2px}#gbmpdv{background:#fff;border-bottom:1px solid #bebebe;-moz-box-shadow:0 2px 4px rgba(0,0,0,.12);-o-box-shadow:0 2px 4px rgba(0,0,0,.12);-webkit-box-shadow:0 2px 4px rgba(0,0,0,.12);box-shadow:0 2px 4px rgba(0,0,0,.12);position:relative;z-index:1}#gbd4 .gbmh{margin:0}.gbmtc{padding:0;margin:0;line-height:27px}.GBMCC:last-child:after,#GBMPAL:last-child:after{content:\\'\\\\0A\\\\0A\\';white-space:pre;position:absolute}#gbmps{*zoom:1}#gbd4 .gbpc,#gbmpas .gbmt{line-height:17px}#gbd4 .gbpgs .gbmtc{line-height:27px}#gbd4 .gbmtc{border-bottom:1px solid #bebebe}#gbd4 .gbpc{display:inline-block;margin:16px 0 10px;padding-right:50px;vertical-align:top}#gbd4 .gbpc{*display:inline}.gbpc .gbps,.gbpc .gbps2{display:block;margin:0 20px}#gbmplp.gbps{margin:0 10px}.gbpc .gbps{color:#000;font-weight:bold}.gbpc .gbpd{margin-bottom:5px}.gbpd .gbmt,.gbpd .gbps{color:#666 !important}.gbpd .gbmt{opacity:.4;filter:alpha(opacity=40)}.gbps2{color:#666;display:block}.gbp0{display:none}.gbp0 .gbps2{font-weight:bold}#gbd4 .gbmcc{margin-top:5px}.gbpmc{background:#fef9db}.gbpmc .gbpmtc{padding:10px 20px}#gbpm{border:0;*border-collapse:collapse;border-spacing:0;margin:0;white-space:normal}#gbpm .gbpmtc{border-top:none;color:#000 !important;font:11px Arial,sans-serif}#gbpms{*white-space:nowrap}.gbpms2{font-weight:bold;white-space:nowrap}#gbmpal{*border-collapse:collapse;border-spacing:0;border:0;margin:0;white-space:nowrap;width:100%}.gbmpala,.gbmpalb{font:13px Arial,sans-serif;line-height:27px;padding:10px 20px 0;white-space:nowrap}.gbmpala{padding-left:0;text-align:left}.gbmpalb{padding-right:0;text-align:right}#gbmpasb .gbps{color:#000}#gbmpal .gbqfbb{margin:0 20px}.gbp0 .gbps{*display:inline}a.gbiba{margin:8px 20px 10px}.gbmpiaw{display:inline-block;padding-right:10px;margin-bottom:6px;margin-top:10px}.gbxv{visibility:hidden}.gbmpiaa{display:block;margin-top:10px}.gbmpia{border:none;display:block;height:48px;width:48px}.gbmpnw{display:inline-block;height:auto;margin:10px 0;vertical-align:top}\\n.gbqfb,.gbqfba,.gbqfbb{-moz-border-radius:2px;-webkit-border-radius:2px;border-radius:2px;cursor:default !important;display:inline-block;font-weight:bold;height:29px;line-height:29px;min-width:54px;*min-width:70px;padding:0 8px;text-align:center;text-decoration:none !important;-moz-user-select:none;-webkit-user-select:none}.gbqfb:focus,.gbqfba:focus,.gbqfbb:focus{border:1px solid #4d90fe;-moz-box-shadow:inset 0 0 0 1px rgba(255, 255, 255, 0.5);-webkit-box-shadow:inset 0 0 0 1px rgba(255, 255, 255, 0.5);box-shadow:inset 0 0 0 1px rgba(255, 255, 255, 0.5);outline:none}.gbqfb-hvr:focus,.gbqfba-hvr:focus,.gbqfbb-hvr:focus{-webkit-box-shadow:inset 0 0 0 1px #fff,0 1px 1px rgba(0,0,0,.1);-moz-box-shadow:inset 0 0 0 1px #fff,0 1px 1px rgba(0,0,0,.1);box-shadow:inset 0 0 0 1px #fff,0 1px 1px rgba(0,0,0,.1)}.gbqfb-no-focus:focus{border:1px solid #3079ed;-moz-box-shadow:none;-webkit-box-shadow:none;box-shadow:none}.gbqfb-hvr,.gbqfba-hvr,.gbqfbb-hvr{-webkit-box-shadow:0 1px 1px rgba(0,0,0,.1);-moz-box-shadow:0 1px 1px rgba(0,0,0,.1);box-shadow:0 1px 1px rgba(0,0,0,.1)}.gbqfb::-moz-focus-inner,.gbqfba::-moz-focus-inner,.gbqfbb::-moz-focus-inner{border:0}.gbqfba,.gbqfbb{border:1px solid #dcdcdc;border-color:rgba(0,0,0,.1);color:#444 !important;font-size:11px}.gbqfb{background-color:#4d90fe;background-image:-webkit-gradient(linear,left top,left bottom,from(#4d90fe),to(#4787ed));background-image:-webkit-linear-gradient(top,#4d90fe,#4787ed);background-image:-moz-linear-gradient(top,#4d90fe,#4787ed);background-image:-ms-linear-gradient(top,#4d90fe,#4787ed);background-image:-o-linear-gradient(top,#4d90fe,#4787ed);background-image:linear-gradient(top,#4d90fe,#4787ed);filter:progid:DXImageTransform.Microsoft.gradient(startColorStr=\\'#4d90fe\\',EndColorStr=\\'#4787ed\\');border:1px solid #3079ed;color:#fff!important;margin:0 0}.gbqfb-hvr{border-color:#2f5bb7}.gbqfb-hvr:focus{border-color:#2f5bb7}.gbqfb-hvr,.gbqfb-hvr:focus{background-color:#357ae8;background-image:-webkit-gradient(linear,left top,left bottom,from(#4d90fe),to(#357ae8));background-image:-webkit-linear-gradient(top,#4d90fe,#357ae8);background-image:-moz-linear-gradient(top,#4d90fe,#357ae8);background-image:-ms-linear-gradient(top,#4d90fe,#357ae8);background-image:-o-linear-gradient(top,#4d90fe,#357ae8);background-image:linear-gradient(top,#4d90fe,#357ae8)}.gbqfb:active{background-color:inherit;-webkit-box-shadow:inset 0 1px 2px rgba(0, 0, 0, 0.3);-moz-box-shadow:inset 0 1px 2px rgba(0, 0, 0, 0.3);box-shadow:inset 0 1px 2px rgba(0, 0, 0, 0.3)}.gbqfba{background-color:#f5f5f5;background-image:-webkit-gradient(linear,left top,left bottom,from(#f5f5f5),to(#f1f1f1));background-image:-webkit-linear-gradient(top,#f5f5f5,#f1f1f1);background-image:-moz-linear-gradient(top,#f5f5f5,#f1f1f1);background-image:-ms-linear-gradient(top,#f5f5f5,#f1f1f1);background-image:-o-linear-gradient(top,#f5f5f5,#f1f1f1);background-image:linear-gradient(top,#f5f5f5,#f1f1f1);filter:progid:DXImageTransform.Microsoft.gradient(startColorStr=\\'#f5f5f5\\',EndColorStr=\\'#f1f1f1\\')}.gbqfba-hvr,.gbqfba-hvr:active{background-color:#f8f8f8;background-image:-webkit-gradient(linear,left top,left bottom,from(#f8f8f8),to(#f1f1f1));background-image:-webkit-linear-gradient(top,#f8f8f8,#f1f1f1);background-image:-moz-linear-gradient(top,#f8f8f8,#f1f1f1);background-image:-ms-linear-gradient(top,#f8f8f8,#f1f1f1);background-image:-o-linear-gradient(top,#f8f8f8,#f1f1f1);background-image:linear-gradient(top,#f8f8f8,#f1f1f1);filter:progid:DXImageTransform.Microsoft.gradient(startColorStr=\\'#f8f8f8\\',EndColorStr=\\'#f1f1f1\\')}.gbqfbb{background-color:#fff;background-image:-webkit-gradient(linear,left top,left bottom,from(#fff),to(#fbfbfb));background-image:-webkit-linear-gradient(top,#fff,#fbfbfb);background-image:-moz-linear-gradient(top,#fff,#fbfbfb);background-image:-ms-linear-gradient(top,#fff,#fbfbfb);background-image:-o-linear-gradient(top,#fff,#fbfbfb);background-image:linear-gradient(top,#fff,#fbfbfb);filter:progid:DXImageTransform.Microsoft.gradient(startColorStr=\\'#ffffff\\',EndColorStr=\\'#fbfbfb\\')}.gbqfbb-hvr,.gbqfbb-hvr:active{background-color:#fff;background-image:-webkit-gradient(linear,left top,left bottom,from(#fff),to(#f8f8f8));background-image:-webkit-linear-gradient(top,#fff,#f8f8f8);background-image:-moz-linear-gradient(top,#fff,#f8f8f8);background-image:-ms-linear-gradient(top,#fff,#f8f8f8);background-image:-o-linear-gradient(top,#fff,#f8f8f8);background-image:linear-gradient(top,#fff,#f8f8f8);filter:progid:DXImageTransform.Microsoft.gradient(startColorStr=\\'#ffffff\\',EndColorStr=\\'#f8f8f8\\')}.gbqfba-hvr,.gbqfba-hvr:active,.gbqfbb-hvr,.gbqfbb-hvr:active{border-color:#c6c6c6;-webkit-box-shadow:0 1px 1px rgba(0,0,0,.1);-moz-box-shadow:0 1px 1px rgba(0,0,0,.1);box-shadow:0 1px 1px rgba(0,0,0,.1);color:#222 !important}.gbqfba:active,.gbqfbb:active{-webkit-box-shadow:inset 0 1px 2px rgba(0,0,0,.1);-moz-box-shadow:inset 0 1px 2px rgba(0,0,0,.1);box-shadow:inset 0 1px 2px rgba(0,0,0,.1)}\\n.gbprcd{padding:0;width:258px;white-space:normal}.gbprcb{display:inline-block;height:27px;padding:0 15px;text-decoration:none}#gbprc .gbprcbc{background-color:;background-image:none;border-color:;color:!important}#gbprc .gbprcbc:hover{color:!important}#gbprc .gbprcbc:active,#gbprc .gbprcbc:focus{color:!important}.gbprct{color:#666;line-height:17px;margin:0;margin-bottom:20px}.gbprci{color:#333;font-size:16px;line-height:20px;margin:0;margin-bottom:16px}#gbprc .gbmc{padding:26px;padding-bottom:22px;border:1px solid #bebebe}#gbprc .gbm{border:0}#gbprc .gbprcx,#gbprc .gbprcx.gbgt-hvr,#gbprc .gbprcx:focus,#gbprc .gbprcx:active{right:12px;background:url(//ssl.gstatic.com/s2/oz/images/stars/x.png);display:block;height:9px;opacity:.8;filter:alpha(opacity=80);position:absolute;top:12px;width:9px}#gbprc .gbprcx.gbgt-hvr,#gbprc .gbprcx:focus,#gbprc .gbprcx:active{opacity:1;filter:alpha(opacity=100)}.gbgs .gbmab,.gbgs .gbmab{left:10px;margin:40px 0 0}.gbgs .gbmac,.gbgs .gbmac{left:10px;margin:41px 0 0}.gbemi .gbgs .gbmab,.gbem .gbgs .gbmab{left:10px;margin:40px 0 0}.gbemi .gbgs .gbmac,.gbem .gbgs .gbmac{left:10px;margin:41px 0 0}.gbesi .gbgs .gbmab,.gbes .gbgs .gbmab{left:10px;margin:40px 0 0}.gbesi .gbgs .gbmac,.gbes .gbgs .gbmac{left:10px;margin:41px 0 0}#gbprca .gbmab{z-index:999}#gbprca .gbmac{border-bottom-color:#fff;z-index:999}#gbprcs{position:absolute;background:transparent;top:-999px;z-index:-1;visibility:hidden;margin-top:1px;margin-left:1px}\\n#gb #gbprc{right:-28px;top:15px;z-index:997}#gbprca{left:-63px;position:relative;top:-22px}.gbmab,.gbmac{left:5px;border-style:dashed dashed solid;border-color:transparent;border-bottom-color:#bebebe;border-width:0 10px 10px;display:-moz-inline-box;display:inline-block;font-size:0;height:0;line-height:0;position:absolute;top:0;width:0;z-index:1000}.gbmab,.gbmac{visibility:hidden}.gbmac{border-bottom-color:#fff}.gbto .gbmab,.gbto .gbmac{visibility:visible}#gbqfqw,#gbqfb{vertical-align:top}#gbqfbw{right:0;margin:0 15px;position:absolute;top:0}.gbqfb{background-color:#4d90fe;background-image:-webkit-gradient(linear,left top,left bottom,from(#4d90fe),to(#4787ed));background-image:-webkit-linear-gradient(top,#4d90fe,#4787ed);background-image:-moz-linear-gradient(top,#4d90fe,#4787ed);background-image:-ms-linear-gradient(top,#4d90fe,#4787ed);background-image:-o-linear-gradient(top,#4d90fe,#4787ed);background-image:linear-gradient(top,#4d90fe,#4787ed);filter:progid:DXImageTransform.Microsoft.gradient(startColorStr=\\'#4d90fe\\',EndColorStr=\\'#4787ed\\');border:1px solid #3079ed;-moz-border-radius:2px;-webkit-border-radius:2px;border-radius:2px;-moz-user-select:none;-webkit-user-select:none;color:#fff;cursor:default;font-size:11px;font-weight:bold;height:29px;min-width:54px;*min-width:70px;text-align:center;padding:0 8px}.gbqfb-hvr{border:1px solid #2f5bb7;background-color:#357ae8;background-image:-webkit-gradient(linear,left top,left bottom,from(#4d90fe),to(#357ae8));background-image:-webkit-linear-gradient(top,#4d90fe,#357ae8);background-image:-moz-linear-gradient(top,#4d90fe,#357ae8);background-image:-ms-linear-gradient(top,#4d90fe,#357ae8);background-image:-o-linear-gradient(top,#4d90fe,#357ae8);background-image:linear-gradient(top,#4d90fe,#357ae8);-webkit-box-shadow:0 1px 1px rgba(0,0,0,.1);-moz-box-shadow:0 1px 1px rgba(0,0,0,.1);box-shadow:0 1px 1px rgba(0,0,0,.1)}.gbqfb:focus{-moz-box-shadow:inset 0 0 0 1px #fff;-webkit-box-shadow:inset 0 0 0 1px #fff;box-shadow:inset 0 0 0 1px #fff;outline:none}.gbqfb::-moz-focus-inner{border:0}.gbqfb-hvr:focus{-moz-box-shadow:inset 0 0 0 1px #fff,0 1px 1px rgba(0,0,0,.1);-webkit-box-shadow:inset 0 0 0 1px #fff,0 1px 1px rgba(0,0,0,.1);box-shadow:inset 0 0 0 1px #fff,0 1px 1px rgba(0,0,0,.1)}.gbqfb:active{-moz-box-shadow:inset 0 1px 2px rgba(0,0,0,.3);-webkit-box-shadow:inset 0 1px 2px rgba(0,0,0,.3);box-shadow:inset 0 1px 2px rgba(0,0,0,.3)}\\n#gbmpas{max-height:220px}#gbmm{max-height:530px}.gbsb{-webkit-box-sizing:border-box;display:block;position:relative;*zoom:1}.gbsbic{overflow:auto}.gbsbis .gbsbt,.gbsbis .gbsbb{-webkit-mask-box-image:-webkit-gradient(linear,left top,right top,color-stop(0,rgba(0,0,0,.1)),color-stop(.5,rgba(0,0,0,.8)),color-stop(1,rgba(0,0,0,.1)));left:0;margin-right:0;opacity:0;position:absolute;width:100%}.gbsb .gbsbt:after,.gbsb .gbsbb:after{content:\"\";display:block;height:0;left:0;position:absolute;width:100%}.gbsbis .gbsbt{background:-webkit-gradient(linear,left top,left bottom,from(rgba(0,0,0,.2)),to(rgba(0,0,0,0)));background-image:-webkit-linear-gradient(top,rgba(0,0,0,.2),rgba(0,0,0,0));background-image:-moz-linear-gradient(top,rgba(0,0,0,.2),rgba(0,0,0,0));background-image:-ms-linear-gradient(top,rgba(0,0,0,.2),rgba(0,0,0,0));background-image:-o-linear-gradient(top,rgba(0,0,0,.2),rgba(0,0,0,0));background-image:linear-gradient(top,rgba(0,0,0,.2),rgba(0,0,0,0));height:6px;top:0}.gbsb .gbsbt:after{border-top:1px solid #ebebeb;border-color:rgba(0,0,0,.3);top:0}.gbsb .gbsbb{-webkit-mask-box-image:-webkit-gradient(linear,left top,right top,color-stop(0,rgba(0,0,0,.1)),color-stop(.5,rgba(0,0,0,.8)),color-stop(1,rgba(0,0,0,.1)));background:-webkit-gradient(linear,left bottom,left top,from(rgba(0,0,0,.2)),to(rgba(0,0,0,0)));background-image:-webkit-linear-gradient(bottom,rgba(0,0,0,.2),rgba(0,0,0,0));background-image:-moz-linear-gradient(bottom,rgba(0,0,0,.2),rgba(0,0,0,0));background-image:-ms-linear-gradient(bottom,rgba(0,0,0,.2),rgba(0,0,0,0));background-image:-o-linear-gradient(bottom,rgba(0,0,0,.2),rgba(0,0,0,0));background-image:linear-gradient(bottom,rgba(0,0,0,.2),rgba(0,0,0,0));bottom:0;height:4px}.gbsb .gbsbb:after{border-bottom:1px solid #ebebeb;border-color:rgba(0,0,0,.3);bottom:0}\\n</style><style>body,td,a,p,.h{font-family:arial,sans-serif}body{margin:0;overflow-y:scroll}#gog{padding:3px 8px 0}td{line-height:.8em}.gac_m td{line-height:17px}form{margin-bottom:20px}.h{color:#1558d6}em{font-weight:bold;font-style:normal}.lst{height:25px;width:496px}.gsfi,.lst{font:18px arial,sans-serif}.gsfs{font:17px arial,sans-serif}.ds{display:inline-box;display:inline-block;margin:3px 0 4px;margin-left:4px}input{font-family:inherit}body{background:#fff;color:#000}a{color:#4b11a8;text-decoration:none}a:hover,a:active{text-decoration:underline}.fl a{color:#1558d6}a:visited{color:#4b11a8}.sblc{padding-top:5px}.sblc a{display:block;margin:2px 0;margin-left:13px;font-size:11px}.lsbb{background:#f8f9fa;border:solid 1px;border-color:#dadce0 #70757a #70757a #dadce0;height:30px}.lsbb{display:block}#WqQANb a{display:inline-block;margin:0 12px}.lsb{background:url(/images/nav_logo229.png) 0 -261px repeat-x;border:none;color:#000;cursor:pointer;height:30px;margin:0;outline:0;font:15px arial,sans-serif;vertical-align:top}.lsb:active{background:#dadce0}.lst:focus{outline:none}</style><script nonce=\"ZLNheKEWkQJ5SkT2yFoMvA\">(function(){window.google.erd={jsr:1,bv:1684,de:true};\\nvar h=this||self;var k,l=null!=(k=h.mei)?k:1,n,p=null!=(n=h.sdo)?n:!0,q=0,r,t=google.erd,v=t.jsr;google.ml=function(a,b,d,m,e){e=void 0===e?2:e;b&&(r=a&&a.message);if(google.dl)return google.dl(a,e,d),null;if(0>v){window.console&&console.error(a,d);if(-2===v)throw a;b=!1}else b=!a||!a.message||\"Error loading script\"===a.message||q>=l&&!m?!1:!0;if(!b)return null;q++;d=d||{};b=encodeURIComponent;var c=\"/gen_204?atyp=i&ei=\"+b(google.kEI);google.kEXPI&&(c+=\"&jexpid=\"+b(google.kEXPI));c+=\"&srcpg=\"+b(google.sn)+\"&jsr=\"+b(t.jsr)+\"&bver=\"+b(t.bv);var f=a.lineNumber;void 0!==f&&(c+=\"&line=\"+f);var g=\\na.fileName;g&&(0<g.indexOf(\"-extension:/\")&&(e=3),c+=\"&script=\"+b(g),f&&g===window.location.href&&(f=document.documentElement.outerHTML.split(\"\\\\n\")[f],c+=\"&cad=\"+b(f?f.substring(0,300):\"No script found.\")));c+=\"&jsel=\"+e;for(var u in d)c+=\"&\",c+=b(u),c+=\"=\",c+=b(d[u]);c=c+\"&emsg=\"+b(a.name+\": \"+a.message);c=c+\"&jsst=\"+b(a.stack||\"N/A\");12288<=c.length&&(c=c.substr(0,12288));a=c;m||google.log(0,\"\",a);return a};window.onerror=function(a,b,d,m,e){r!==a&&(a=e instanceof Error?e:Error(a),void 0===d||\"lineNumber\"in a||(a.lineNumber=d),void 0===b||\"fileName\"in a||(a.fileName=b),google.ml(a,!1,void 0,!1,\"SyntaxError\"===a.name||\"SyntaxError\"===a.message.substring(0,11)||-1!==a.message.indexOf(\"Script error\")?3:0));r=null;p&&q>=l&&(window.onerror=null)};})();(function(){try{/*\\n\\n Copyright The Closure Library Authors.\\n SPDX-License-Identifier: Apache-2.0\\n*/\\nvar e=this||self;var aa=function(a,b,c,d){d=d||{};d._sn=[\"cfg\",b,c].join(\".\");window.gbar.logger.ml(a,d)};var g=window.gbar=window.gbar||{},h=window.gbar.i=window.gbar.i||{},ba;function _tvn(a,b){a=parseInt(a,10);return isNaN(a)?b:a}function _tvf(a,b){a=parseFloat(a);return isNaN(a)?b:a}function _tvv(a){return!!a}function p(a,b,c){(c||g)[a]=b}g.bv={n:_tvn(\"2\",0),r:\"\",f:\".66.\",e:\"\",m:_tvn(\"1\",1)};\\nfunction ca(a,b,c){var d=\"on\"+b;if(a.addEventListener)a.addEventListener(b,c,!1);else if(a.attachEvent)a.attachEvent(d,c);else{var f=a[d];a[d]=function(){var k=f.apply(this,arguments),l=c.apply(this,arguments);return void 0==k?l:void 0==l?k:l&&k}}}var da=function(a){return function(){return g.bv.m==a}},ea=da(1),fa=da(2);p(\"sb\",ea);p(\"kn\",fa);h.a=_tvv;h.b=_tvf;h.c=_tvn;h.i=aa;var r=window.gbar.i.i;var t=function(){},u=function(){},ja=function(a){var b=new Image,c=ha;b.onerror=b.onload=b.onabort=function(){try{delete ia[c]}catch(d){}};ia[c]=b;b.src=a;ha=c+1},ia=[],ha=0;p(\"logger\",{il:u,ml:t,log:ja});var v=window.gbar.logger;var w={},ka={},x=[],la=h.b(\"0.1\",.1),ma=h.a(\"1\",!0),na=function(a,b){x.push([a,b])},oa=function(a,b){w[a]=b},pa=function(a){return a in w},A={},B=function(a,b){A[a]||(A[a]=[]);A[a].push(b)},C=function(a){B(\"m\",a)},qa=function(a,b){var c=document.createElement(\"script\");c.src=a;c.async=ma;Math.random()<la&&(c.onerror=function(){c.onerror=null;t(Error(\"Bundle load failed: name=\"+(b||\"UNK\")+\" url=\"+a))});(document.getElementById(\"xjsc\")||document.getElementsByTagName(\"body\")[0]||\\ndocument.getElementsByTagName(\"head\")[0]).appendChild(c)},sa=function(a){for(var b,c=0;(b=x[c])&&b[0]!=a;++c);!b||b[1].l||b[1].s||(b[1].s=!0,ra(2,a),b[1].url&&qa(b[1].url,a),b[1].libs&&D&&D(b[1].libs))},ta=function(a){B(\"gc\",a)},ua=null,va=function(a){ua=a},ra=function(a,b,c){if(ua){a={t:a,b:b};if(c)for(var d in c)a[d]=c[d];try{ua(a)}catch(f){}}};p(\"mdc\",w);p(\"mdi\",ka);p(\"bnc\",x);p(\"qGC\",ta);p(\"qm\",C);p(\"qd\",A);p(\"lb\",sa);p(\"mcf\",oa);p(\"bcf\",na);p(\"aq\",B);p(\"mdd\",\"\");\\np(\"has\",pa);p(\"trh\",va);p(\"tev\",ra);if(h.a(\"m;/_/scs/abc-static/_/js/k=gapi.gapi.en.7I3T5S8x4Qg.O/d=1/rs=AHpOoo9SzNpm6HglASFo9cZ-GgP5E5f5WQ/m=__features__\")){var E=function(a,b){return wa?a||b:b},xa=h.a(\"1\"),ya=h.a(\"\"),za=h.a(\"\"),wa=h.a(\"\"),Aa=window.gapi=E(window.gapi,{}),Ba=function(a,b){var c=function(){g.dgl(a,b)};xa?C(c):(B(\"gl\",c),sa(\"gl\"))},Ca={},Da=function(a){a=a.split(\":\");for(var b;(b=a.pop())&&Ca[b];);return!b},D=function(a){function b(){for(var c=a.split(\":\"),d,f=0;d=c[f];++f)Ca[d]=1;for(c=0;d=x[c];++c)d=d[1],(f=d.libs)&&!d.l&&d.i&&\\nDa(f)&&d.i()}g.dgl(a,b)},G=window.___jsl=E(window.___jsl,{});G.h=E(G.h,\"m;/_/scs/abc-static/_/js/k=gapi.gapi.en.7I3T5S8x4Qg.O/d=1/rs=AHpOoo9SzNpm6HglASFo9cZ-GgP5E5f5WQ/m=__features__\");G.ms=E(G.ms,\"https://apis.google.com\");G.m=E(G.m,\"\");G.l=E(G.l,[]);G.dpo=E(G.dpo,\"\");xa||x.push([\"gl\",{url:\"//ssl.gstatic.com/gb/js/abc/glm_e7bb39a7e1a24581ff4f8d199678b1b9.js\"}]);var Ea={pu:ya,sh:\"\",si:za,hl:\"en\"};w.gl=Ea;wa?Aa.load||p(\"load\",Ba,Aa):p(\"load\",Ba,Aa);p(\"dgl\",Ba);p(\"agl\",Da);h.o=xa};var Fa=h.b(\"0.1\",.001),Ga=0;\\nfunction _mlToken(a,b){try{if(1>Ga){Ga++;var c=a;b=b||{};var d=encodeURIComponent,f=[\"//www.google.com/gen_204?atyp=i&zx=\",(new Date).getTime(),\"&jexpid=\",d(\"28834\"),\"&srcpg=\",d(\"prop=1\"),\"&jsr=\",Math.round(1/Fa),\"&ogev=\",d(\"J6FoY4zIH-Wr1sQPjter6AU\"),\"&ogf=\",g.bv.f,\"&ogrp=\",d(\"\"),\"&ogv=\",d(\"484929242.0\"),\"&oggv=\"+d(\"es_plusone_gc_20221004.0_p0\"),\"&ogd=\",d(\"co.in\"),\"&ogc=\",d(\"IND\"),\"&ogl=\",d(\"en\")];b._sn&&(b._sn=\\n\"og.\"+b._sn);for(var k in b)f.push(\"&\"),f.push(d(k)),f.push(\"=\"),f.push(d(b[k]));f.push(\"&emsg=\");f.push(d(c.name+\":\"+c.message));var l=f.join(\"\");Ha(l)&&(l=l.substr(0,2E3));var n=l;var m=window.gbar.logger._aem(a,n);ja(m)}}catch(q){}}var Ha=function(a){return 2E3<=a.length},Ia=function(a,b){return b};function Ja(a){t=a;p(\"_itl\",Ha,v);p(\"_aem\",Ia,v);p(\"ml\",t,v);a={};w.er=a}h.a(\"\")?Ja(function(a){throw a;}):h.a(\"1\")&&Math.random()<Fa&&Ja(_mlToken);var _E=\"left\",Ka=h.a(\"\"),La=h.a(\"\"),I=function(a,b){var c=a.className;H(a,b)||(a.className+=(\"\"!=c?\" \":\"\")+b)},J=function(a,b){var c=a.className;b=new RegExp(\"\\\\\\\\s?\\\\\\\\b\"+b+\"\\\\\\\\b\");c&&c.match(b)&&(a.className=c.replace(b,\"\"))},H=function(a,b){b=new RegExp(\"\\\\\\\\b\"+b+\"\\\\\\\\b\");a=a.className;return!(!a||!a.match(b))},Ma=function(a,b){H(a,b)?J(a,b):I(a,b)},Na=function(a,b){a[b]=function(c){var d=arguments;g.qm(function(){a[b].apply(this,d)})}},Oa=function(a){a=\\n[La?\"\":\"https://www.gstatic.com\",\"/og/_/js/d=1/k=\",\"og.og2.en_US.pLVNucb0QAs.O\",\"/rt=j/m=\",a,\"/rs=\",\"AA2YrTvYCbZgpvgPwy1e-wf9Ge3G9Sjitg\"];Ka&&a.push(\"?host=www.gstatic.com&bust=og.og2.en_US.EAzJY5PfqDw.DU\");a=a.join(\"\");qa(a)};p(\"ca\",I);p(\"cr\",J);p(\"cc\",H);h.k=I;h.l=J;h.m=H;h.n=Ma;h.p=Oa;h.q=Na;var Pa=[\"gb_71\",\"gb_155\"],Qa;function Ra(a){Qa=a}function Sa(a){var b=Qa&&!a.href.match(/.*\\\\/accounts\\\\/ClearSID[?]/)&&encodeURIComponent(Qa());b&&(a.href=a.href.replace(/([?&]continue=)[^&]*/,\"$1\"+b))}function Ta(a){window.gApplication&&(a.href=window.gApplication.getTabUrl(a.href))}function Ua(a){try{var b=(document.forms[0].q||\"\").value;b&&(a.href=a.href.replace(/([?&])q=[^&]*|$/,function(c,d){return(d||\"&\")+\"q=\"+encodeURIComponent(b)}))}catch(c){r(c,\"sb\",\"pq\")}}\\nvar Va=function(){for(var a=[],b,c=0;b=Pa[c];++c)(b=document.getElementById(b))&&a.push(b);return a},Wa=function(){var a=Va();return 0<a.length?a[0]:null},Xa=function(){return document.getElementById(\"gb_70\")},K={},L={},Ya={},M={},N=void 0,cb=function(a,b){try{var c=document.getElementById(\"gb\");I(c,\"gbpdjs\");O();Za(document.getElementById(\"gb\"))&&I(c,\"gbrtl\");if(b&&b.getAttribute){var d=b.getAttribute(\"aria-owns\");if(d.length){var f=document.getElementById(d);if(f){var k=b.parentNode;if(N==d)N=void 0,\\nJ(k,\"gbto\");else{if(N){var l=document.getElementById(N);if(l&&l.getAttribute){var n=l.getAttribute(\"aria-owner\");if(n.length){var m=document.getElementById(n);m&&m.parentNode&&J(m.parentNode,\"gbto\")}}}$a(f)&&ab(f);N=d;I(k,\"gbto\")}}}}C(function(){g.tg(a,b,!0)});bb(a)}catch(q){r(q,\"sb\",\"tg\")}},db=function(a){C(function(){g.close(a)})},eb=function(a){C(function(){g.rdd(a)})},Za=function(a){var b,c=document.defaultView;c&&c.getComputedStyle?(a=c.getComputedStyle(a,\"\"))&&(b=a.direction):b=a.currentStyle?\\na.currentStyle.direction:a.style.direction;return\"rtl\"==b},gb=function(a,b,c){if(a)try{var d=document.getElementById(\"gbd5\");if(d){var f=d.firstChild,k=f.firstChild,l=document.createElement(\"li\");l.className=b+\" gbmtc\";l.id=c;a.className=\"gbmt\";l.appendChild(a);if(k.hasChildNodes()){c=[[\"gbkc\"],[\"gbf\",\"gbe\",\"gbn\"],[\"gbkp\"],[\"gbnd\"]];d=0;var n=k.childNodes.length;f=!1;for(var m=-1,q,S=0;q=c[S];S++){for(var F=void 0,T=0;F=q[T];T++){for(;d<n&&H(k.childNodes[d],F);)d++;if(F==b){k.insertBefore(l,k.childNodes[d]||\\nnull);f=!0;break}}if(f){if(d+1<k.childNodes.length){var U=k.childNodes[d+1];H(U.firstChild,\"gbmh\")||fb(U,q)||(m=d+1)}else if(0<=d-1){var V=k.childNodes[d-1];H(V.firstChild,\"gbmh\")||fb(V,q)||(m=d)}break}0<d&&d+1<n&&d++}if(0<=m){var y=document.createElement(\"li\"),z=document.createElement(\"div\");y.className=\"gbmtc\";z.className=\"gbmt gbmh\";y.appendChild(z);k.insertBefore(y,k.childNodes[m])}g.addHover&&g.addHover(a)}else k.appendChild(l)}}catch(Bb){r(Bb,\"sb\",\"al\")}},fb=function(a,b){for(var c=b.length,\\nd=0;d<c;d++)if(H(a,b[d]))return!0;return!1},hb=function(a,b,c){gb(a,b,c)},ib=function(a,b){gb(a,\"gbe\",b)},jb=function(){C(function(){g.pcm&&g.pcm()})},kb=function(){C(function(){g.pca&&g.pca()})},lb=function(a,b,c,d,f,k,l,n,m,q){C(function(){g.paa&&g.paa(a,b,c,d,f,k,l,n,m,q)})},mb=function(a,b){K[a]||(K[a]=[]);K[a].push(b)},nb=function(a,b){L[a]||(L[a]=[]);L[a].push(b)},ob=function(a,b){Ya[a]=b},pb=function(a,b){M[a]||(M[a]=[]);M[a].push(b)},bb=function(a){a.preventDefault&&a.preventDefault();a.returnValue=\\n!1;a.cancelBubble=!0},qb=null,ab=function(a,b){O();if(a){rb(a,\"Opening&hellip;\");P(a,!0);b=\"undefined\"!=typeof b?b:1E4;var c=function(){sb(a)};qb=window.setTimeout(c,b)}},tb=function(a){O();a&&(P(a,!1),rb(a,\"\"))},sb=function(a){try{O();var b=a||document.getElementById(N);b&&(rb(b,\"This service is currently unavailable.%1$sPlease try again later.\",\"%1$s\"),P(b,!0))}catch(c){r(c,\"sb\",\"sdhe\")}},rb=function(a,b,c){if(a&&b){var d=$a(a);if(d){if(c){d.textContent=\"\";b=b.split(c);for(var f=0;c=b[f];f++){var k=document.createElement(\"div\");\\nk.innerHTML=c;d.appendChild(k)}}else d.innerHTML=b;P(a,!0)}}},P=function(a,b){(b=void 0!==b?b:!0)?I(a,\"gbmsgo\"):J(a,\"gbmsgo\")},$a=function(a){for(var b,c=0;b=a.childNodes[c];c++)if(H(b,\"gbmsg\"))return b},O=function(){qb&&window.clearTimeout(qb)},ub=function(a){var b=\"inner\"+a;a=\"offset\"+a;return window[b]?window[b]:document.documentElement&&document.documentElement[a]?document.documentElement[a]:0},vb=function(){return!1},wb=function(){return!!N};p(\"so\",Wa);p(\"sos\",Va);p(\"si\",Xa);p(\"tg\",cb);\\np(\"close\",db);p(\"rdd\",eb);p(\"addLink\",hb);p(\"addExtraLink\",ib);p(\"pcm\",jb);p(\"pca\",kb);p(\"paa\",lb);p(\"ddld\",ab);p(\"ddrd\",tb);p(\"dderr\",sb);p(\"rtl\",Za);p(\"op\",wb);p(\"bh\",K);p(\"abh\",mb);p(\"dh\",L);p(\"adh\",nb);p(\"ch\",M);p(\"ach\",pb);p(\"eh\",Ya);p(\"aeh\",ob);ba=h.a(\"\")?Ta:Ua;p(\"qs\",ba);p(\"setContinueCb\",Ra);p(\"pc\",Sa);p(\"bsy\",vb);h.d=bb;h.j=ub;var xb={};w.base=xb;x.push([\"m\",{url:\"//ssl.gstatic.com/gb/js/sem_f825c111082e07a68809e6af643576fc.js\"}]);g.sg={c:\"1\"};p(\"wg\",{rg:{}});var yb={tiw:h.c(\"15000\",0),tie:h.c(\"30000\",0)};w.wg=yb;var zb={thi:h.c(\"10000\",0),thp:h.c(\"180000\",0),tho:h.c(\"5000\",0),tet:h.b(\"0.5\",0)};w.wm=zb;if(h.a(\"1\")){var Ab=h.a(\"\");x.push([\"gc\",{auto:Ab,url:\"//ssl.gstatic.com/gb/js/abc/gci_91f30755d6a6b787dcc2a4062e6e9824.js\",libs:\"googleapis.client:gapi.iframes\"}]);var Cb={version:\"gci_91f30755d6a6b787dcc2a4062e6e9824.js\",index:\"\",lang:\"en\"};w.gc=Cb;var Db=function(a){window.googleapis&&window.iframes?a&&a():(a&&ta(a),sa(\"gc\"))};p(\"lGC\",Db);h.a(\"1\")&&p(\"lPWF\",Db)};window.__PVT=\"\";var Eb=[1,2,3,4,5,6,9,10,11,13,14,28,29,30,34,35,37,38,39,40,41,42,43,48,49,500];var Fb=h.b(\"0.001\",1E-4),Gb=h.b(\"1\",1),Hb=!1,Ib=!1;if(h.a(\"1\")){var Jb=Math.random();Jb<Fb&&(Hb=!0);Jb<Gb&&(Ib=!0)}var Q=null;\\nfunction Kb(a,b){var c=Fb,d=Hb;var f=a;if(!Q){Q={};for(var k=0;k<Eb.length;k++){var l=Eb[k];Q[l]=!0}}if(f=!!Q[f])c=Gb,d=Ib;if(d){d=encodeURIComponent;if(g.rp){var n=g.rp();n=\"-1\"!=n?n:\"\"}else n=\"\";f=(new Date).getTime();k=d(\"28834\");l=d(\"J6FoY4zIH-Wr1sQPjter6AU\");var m=g.bv.f,q=d(\"1\");n=d(n);c=Math.round(1/c);var S=d(\"484929242.0\"),F=\"&oggv=\"+d(\"es_plusone_gc_20221004.0_p0\"),T=d(\"co.in\"),U=d(\"en\"),V=\\nd(\"IND\");var y=0;h.a(\"\")&&(y|=1);h.a(\"\")&&(y|=2);h.a(\"\")&&(y|=4);a=[\"//www.google.com/gen_204?atyp=i&zx=\",f,\"&oge=\",a,\"&ogex=\",k,\"&ogev=\",l,\"&ogf=\",m,\"&ogp=\",q,\"&ogrp=\",n,\"&ogsr=\",c,\"&ogv=\",S,F,\"&ogd=\",T,\"&ogl=\",U,\"&ogc=\",V,\"&ogus=\",y];if(b){\"ogw\"in b&&(a.push(\"&ogw=\"+b.ogw),delete b.ogw);f=[];for(z in b)0!=f.length&&f.push(\",\"),f.push(Lb(z)),f.push(\".\"),f.push(Lb(b[z]));var z=f.join(\"\");\"\"!=z&&(a.push(\"&ogad=\"),a.push(d(z)))}ja(a.join(\"\"))}}\\nfunction Lb(a){\"number\"==typeof a&&(a+=\"\");return\"string\"==typeof a?a.replace(\".\",\"%2E\").replace(\",\",\"%2C\"):a}u=Kb;p(\"il\",u,v);var Mb={};w.il=Mb;var Nb=function(a,b,c,d,f,k,l,n,m,q){C(function(){g.paa(a,b,c,d,f,k,l,n,m,q)})},Ob=function(){C(function(){g.prm()})},Pb=function(a){C(function(){g.spn(a)})},Qb=function(a){C(function(){g.sps(a)})},Rb=function(a){C(function(){g.spp(a)})},Sb={\"27\":\"https://lh3.googleusercontent.com/ogw/default-user=s24\",\"27\":\"https://lh3.googleusercontent.com/ogw/default-user=s24\",\"27\":\"https://lh3.googleusercontent.com/ogw/default-user=s24\"},Tb=function(a){return(a=Sb[a])||\"https://lh3.googleusercontent.com/ogw/default-user=s24\"},\\nUb=function(){C(function(){g.spd()})};p(\"spn\",Pb);p(\"spp\",Rb);p(\"sps\",Qb);p(\"spd\",Ub);p(\"paa\",Nb);p(\"prm\",Ob);mb(\"gbd4\",Ob);\\nif(h.a(\"\")){var Vb={d:h.a(\"\"),e:\"\",sanw:h.a(\"\"),p:\"https://lh3.googleusercontent.com/ogw/default-user=s96\",cp:\"1\",xp:h.a(\"1\"),mg:\"%1$s (delegated)\",md:\"%1$s (default)\",mh:\"220\",s:\"1\",pp:Tb,ppl:h.a(\"\"),ppa:h.a(\"\"),\\nppm:\"Google+ page\"};w.prf=Vb};var R,Wb,W,Xb,X=0,Yb=function(a,b,c){if(a.indexOf)return a.indexOf(b,c);if(Array.indexOf)return Array.indexOf(a,b,c);for(c=null==c?0:0>c?Math.max(0,a.length+c):c;c<a.length;c++)if(c in a&&a[c]===b)return c;return-1},Y=function(a,b){return-1==Yb(a,X)?(r(Error(X+\"_\"+b),\"up\",\"caa\"),!1):!0},$b=function(a,b){Y([1,2],\"r\")&&(R[a]=R[a]||[],R[a].push(b),2==X&&window.setTimeout(function(){b(Zb(a))},0))},ac=function(a,b,c){if(Y([1],\"nap\")&&c){for(var d=0;d<c.length;d++)Wb[c[d]]=!0;g.up.spl(a,b,\"nap\",c)}},bc=\\nfunction(a,b,c){if(Y([1],\"aop\")&&c){if(W)for(var d in W)W[d]=W[d]&&-1!=Yb(c,d);else for(W={},d=0;d<c.length;d++)W[c[d]]=!0;g.up.spl(a,b,\"aop\",c)}},cc=function(){try{if(X=2,!Xb){Xb=!0;for(var a in R)for(var b=R[a],c=0;c<b.length;c++)try{b[c](Zb(a))}catch(d){r(d,\"up\",\"tp\")}}}catch(d){r(d,\"up\",\"mtp\")}},Zb=function(a){if(Y([2],\"ssp\")){var b=!Wb[a];W&&(b=b&&!!W[a]);return b}};Xb=!1;R={};Wb={};W=null;X=1;\\nvar dc=function(a){var b=!1;try{b=a.cookie&&a.cookie.match(\"PREF\")}catch(c){}return!b},ec=function(){try{return!!e.localStorage&&\"object\"==typeof e.localStorage}catch(a){return!1}},fc=function(a){return a&&a.style&&a.style.behavior&&\"undefined\"!=typeof a.load},gc=function(a,b,c,d){try{dc(document)||(d||(b=\"og-up-\"+b),ec()?e.localStorage.setItem(b,c):fc(a)&&(a.setAttribute(b,c),a.save(a.id)))}catch(f){f.code!=DOMException.QUOTA_EXCEEDED_ERR&&r(f,\"up\",\"spd\")}},hc=function(a,b,c){try{if(dc(document))return\"\";\\nc||(b=\"og-up-\"+b);if(ec())return e.localStorage.getItem(b);if(fc(a))return a.load(a.id),a.getAttribute(b)}catch(d){d.code!=DOMException.QUOTA_EXCEEDED_ERR&&r(d,\"up\",\"gpd\")}return\"\"},ic=function(a,b,c){a.addEventListener?a.addEventListener(b,c,!1):a.attachEvent&&a.attachEvent(\"on\"+b,c)},jc=function(a){for(var b,c=0;b=a[c];c++){var d=g.up;b=b in d&&d[b];if(!b)return!1}return!0},kc=function(a,b){try{if(dc(a))return-1;var c=a.cookie.match(/OGPC=([^;]*)/);if(c&&c[1]){var d=c[1].match(new RegExp(\"\\\\\\\\b\"+\\nb+\"-([0-9]+):\"));if(d&&d[1])return parseInt(d[1],10)}}catch(f){f.code!=DOMException.QUOTA_EXCEEDED_ERR&&r(f,\"up\",\"gcc\")}return-1};p(\"up\",{r:$b,nap:ac,aop:bc,tp:cc,ssp:Zb,spd:gc,gpd:hc,aeh:ic,aal:jc,gcc:kc});var Z=function(a,b){a[b]=function(c){var d=arguments;g.qm(function(){a[b].apply(this,d)})}};Z(g.up,\"sl\");Z(g.up,\"si\");Z(g.up,\"spl\");Z(g.up,\"dpc\");Z(g.up,\"iic\");g.mcf(\"up\",{sp:h.b(\"0.01\",1),tld:\"co.in\",prid:\"1\"});function lc(){function a(){for(var m;(m=k[l++])&&\"m\"!=m[0]&&!m[1].auto;);m&&(ra(2,m[0]),m[1].url&&qa(m[1].url,m[0]),m[1].libs&&D&&D(m[1].libs));l<k.length&&setTimeout(a,0)}function b(){0<f--?setTimeout(b,0):a()}var c=h.a(\"1\"),d=h.a(\"\"),f=3,k=x,l=0,n=window.gbarOnReady;if(n)try{n()}catch(m){r(m,\"ml\",\"or\")}d?p(\"ldb\",a):c?ca(window,\"load\",b):b()}p(\"rdl\",lc);}catch(e){window.gbar&&gbar.logger&&gbar.logger.ml(e,{\"_sn\":\"cfg.init\"});}})();\\n(function(){try{var b=window.gbar.i.i;var c=window.gbar;var f=function(d){try{var a=document.getElementById(\"gbom\");a&&d.appendChild(a.cloneNode(!0))}catch(e){b(e,\"omas\",\"aomc\")}};c.aomc=f;}catch(e){window.gbar&&gbar.logger&&gbar.logger.ml(e,{\"_sn\":\"cfg.init\"});}})();\\n(function(){try{var a=window.gbar;a.mcf(\"pm\",{p:\"19028915,7X7,7,,\"});}catch(e){window.gbar&&gbar.logger&&gbar.logger.ml(e,{\"_sn\":\"cfg.init\"});}})();\\n(function(){try{var a=window.gbar;a.mcf(\"mm\",{s:\"1\"});}catch(e){window.gbar&&gbar.logger&&gbar.logger.ml(e,{\"_sn\":\"cfg.init\"});}})();\\n(function(){try{var d=window.gbar.i.i;var e=window.gbar;var f=e.i;var g=f.c(\"1\",0),h=/\\\\bgbmt\\\\b/,k=function(a){try{var b=document.getElementById(\"gb_\"+g),c=document.getElementById(\"gb_\"+a);b&&f.l(b,h.test(b.className)?\"gbm0l\":\"gbz0l\");c&&f.k(c,h.test(c.className)?\"gbm0l\":\"gbz0l\")}catch(l){d(l,\"sj\",\"ssp\")}g=a},m=e.qs,n=function(a){var b=a.href;var c=window.location.href.match(/.*?:\\\\/\\\\/[^\\\\/]*/)[0];c=new RegExp(\"^\"+c+\"/search\\\\\\\\?\");(b=c.test(b))&&!/(^|\\\\\\\\?|&)ei=/.test(a.href)&&(b=window.google)&&b.kEXPI&&(a.href+=\"&ei=\"+b.kEI)},p=function(a){m(a);\\nn(a)},q=function(){if(window.google&&window.google.sn){var a=/.*hp$/;return a.test(window.google.sn)?\"\":\"1\"}return\"-1\"};e.rp=q;e.slp=k;e.qs=p;e.qsi=n;}catch(e){window.gbar&&gbar.logger&&gbar.logger.ml(e,{\"_sn\":\"cfg.init\"});}})();\\n(function(){try{/*\\n\\n Copyright The Closure Library Authors.\\n SPDX-License-Identifier: Apache-2.0\\n*/\\nvar a=this||self;var b=window.gbar;var c=b.i;var d=c.a,e=c.c,f={cty:\"IND\",cv:\"484929242\",dbg:d(\"\"),ecv:\"0\",ei:e(\"J6FoY4zIH-Wr1sQPjter6AU\"),ele:d(\"1\"),esr:e(\"0.1\"),evts:[\"mousedown\",\"touchstart\",\"touchmove\",\"wheel\",\"keydown\"],gbl:\"es_plusone_gc_20221004.0_p0\",hd:\"co.in\",hl:\"en\",irp:d(\"\"),pid:e(\"1\"),\\nsnid:e(\"28834\"),to:e(\"300000\"),u:e(\"\"),vf:\".66.\"},g=f,h=[\"bndcfg\"],k=a;h[0]in k||\"undefined\"==typeof k.execScript||k.execScript(\"var \"+h[0]);for(var l;h.length&&(l=h.shift());)h.length||void 0===g?k=k[l]&&k[l]!==Object.prototype[l]?k[l]:k[l]={}:k[l]=g;}catch(e){window.gbar&&gbar.logger&&gbar.logger.ml(e,{\"_sn\":\"cfg.init\"});}})();\\n(function(){try{window.gbar.rdl();}catch(e){window.gbar&&gbar.logger&&gbar.logger.ml(e,{\"_sn\":\"cfg.init\"});}})();\\n</script></head><body bgcolor=\"#fff\"><script nonce=\"ZLNheKEWkQJ5SkT2yFoMvA\">(function(){var src=\\'/images/nav_logo229.png\\';var iesg=false;document.body.onload = function(){window.n && window.n();if (document.images){new Image().src=src;}\\nif (!iesg){document.f&&document.f.q.focus();document.gbqf&&document.gbqf.q.focus();}\\n}\\n})();</script><div id=\"mngb\"><div id=gb><script nonce=\\'ZLNheKEWkQJ5SkT2yFoMvA\\'>window.gbar&&gbar.eli&&gbar.eli()</script><div id=gbw><div id=gbz><span class=gbtcb></span><ol id=gbzc class=gbtc><li class=gbt><a class=\"gbzt gbz0l gbp1\" id=gb_1 href=\"https://www.google.co.in/webhp?tab=ww\"><span class=gbtb2></span><span class=gbts>Search</span></a></li><li class=gbt><a class=gbzt id=gb_2 href=\"http://www.google.co.in/imghp?hl=en&tab=wi\"><span class=gbtb2></span><span class=gbts>Images</span></a></li><li class=gbt><a class=gbzt id=gb_8 href=\"http://maps.google.co.in/maps?hl=en&tab=wl\"><span class=gbtb2></span><span class=gbts>Maps</span></a></li><li class=gbt><a class=gbzt id=gb_78 href=\"https://play.google.com/?hl=en&tab=w8\"><span class=gbtb2></span><span class=gbts>Play</span></a></li><li class=gbt><a class=gbzt id=gb_36 href=\"https://www.youtube.com/?tab=w1\"><span class=gbtb2></span><span class=gbts>YouTube</span></a></li><li class=gbt><a class=gbzt id=gb_426 href=\"https://news.google.com/?tab=wn\"><span class=gbtb2></span><span class=gbts>News</span></a></li><li class=gbt><a class=gbzt id=gb_23 href=\"https://mail.google.com/mail/?tab=wm\"><span class=gbtb2></span><span class=gbts>Gmail</span></a></li><li class=gbt><a class=gbzt id=gb_49 href=\"https://drive.google.com/?tab=wo\"><span class=gbtb2></span><span class=gbts>Drive</span></a></li><li class=gbt><a class=gbgt id=gbztm href=\"https://www.google.co.in/intl/en/about/products?tab=wh\"  aria-haspopup=true aria-owns=gbd><span class=gbtb2></span><span id=gbztms class=\"gbts gbtsa\"><span id=gbztms1>More</span><span class=gbma></span></span></a><script nonce=\\'ZLNheKEWkQJ5SkT2yFoMvA\\'>document.getElementById(\\'gbztm\\').addEventListener(\\'click\\', function clickHandler() { gbar.tg(event,this); });</script><div class=gbm id=gbd aria-owner=gbztm><div id=gbmmb class=\"gbmc gbsb gbsbis\"><ol id=gbmm class=\"gbmcc gbsbic\"><li class=gbmtc><a class=gbmt id=gb_24 href=\"https://calendar.google.com/calendar?tab=wc\">Calendar</a></li><li class=gbmtc><a class=gbmt id=gb_51 href=\"https://translate.google.co.in/?hl=en&tab=wT\">Translate</a></li><li class=gbmtc><a class=gbmt id=gb_10 href=\"https://books.google.co.in/?hl=en&tab=wp\">Books</a></li><li class=gbmtc><a class=gbmt id=gb_6 href=\"https://www.google.co.in/shopping?hl=en&source=og&tab=wf\">Shopping</a></li><li class=gbmtc><a class=gbmt id=gb_30 href=\"http://www.blogger.com/?tab=wj\">Blogger</a></li><li class=gbmtc><a class=gbmt id=gb_27 href=\"https://www.google.com/finance?tab=we\">Finance</a></li><li class=gbmtc><a class=gbmt id=gb_31 href=\"https://photos.google.com/?tab=wq&pageId=none\">Photos</a></li><li class=gbmtc><a class=gbmt id=gb_25 href=\"https://docs.google.com/document/?usp=docs_alc\">Docs</a></li><li class=gbmtc><div class=\"gbmt gbmh\"></div></li><li class=gbmtc><a  href=\"https://www.google.co.in/intl/en/about/products?tab=wh\" class=gbmt>Even more &raquo;</a><script nonce=\\'ZLNheKEWkQJ5SkT2yFoMvA\\'>document.querySelector(\\'li > a.gbmt\\').addEventListener(\\'click\\', function clickHandler() { gbar.logger.il(1,{t:66});; });</script></li></ol><div class=gbsbt></div><div class=gbsbb></div></div></div></li></ol></div><div id=gbg><h2 class=gbxx>Account Options</h2><span class=gbtcb></span><ol class=gbtc><li class=gbt><a target=_top href=\"https://accounts.google.com/ServiceLogin?hl=en&passive=true&continue=http://www.google.co.in/&ec=GAZAAQ\" onclick=\"gbar.logger.il(9,{l:\\'i\\'})\" id=gb_70 class=gbgt><span class=gbtb2></span><span id=gbgs4 class=gbts><span id=gbi4s1>Sign in</span></span></a></li><li class=\"gbt gbtb\"><span class=gbts></span></li><li class=gbt><a class=gbgt id=gbg5 href=\"http://www.google.co.in/preferences?hl=en\" title=\"Options\" aria-haspopup=true aria-owns=gbd5><span class=gbtb2></span><span id=gbgs5 class=gbts><span id=gbi5></span></span></a><script nonce=\\'ZLNheKEWkQJ5SkT2yFoMvA\\'>document.getElementById(\\'gbg5\\').addEventListener(\\'click\\', function clickHandler() { gbar.tg(event,this); });</script><div class=gbm id=gbd5 aria-owner=gbg5><div class=gbmc><ol id=gbom class=gbmcc><li class=\"gbkc gbmtc\"><a  class=gbmt href=\"/preferences?hl=en\">Search settings</a></li><li class=gbmtc><div class=\"gbmt gbmh\"></div></li><li class=\"gbkp gbmtc\"><a class=gbmt href=\"http://www.google.co.in/history/optout?hl=en\">Web History</a></li></ol></div></div></li></ol></div></div><div id=gbx3></div><div id=gbx4></div><script nonce=\\'ZLNheKEWkQJ5SkT2yFoMvA\\'>window.gbar&&gbar.elp&&gbar.elp()</script></div></div><center><br clear=\"all\" id=\"lgpd\"><div id=\"lga\"><img alt=\"Google\" height=\"92\" src=\"/images/branding/googlelogo/1x/googlelogo_white_background_color_272x92dp.png\" style=\"padding:28px 0 14px\" width=\"272\" id=\"hplogo\"><br><br></div><form action=\"/search\" name=\"f\"><table cellpadding=\"0\" cellspacing=\"0\"><tr valign=\"top\"><td width=\"25%\">&nbsp;</td><td align=\"center\" nowrap=\"\"><input name=\"ie\" value=\"ISO-8859-1\" type=\"hidden\"><input value=\"en-IN\" name=\"hl\" type=\"hidden\"><input name=\"source\" type=\"hidden\" value=\"hp\"><input name=\"biw\" type=\"hidden\"><input name=\"bih\" type=\"hidden\"><div class=\"ds\" style=\"height:32px;margin:4px 0\"><input class=\"lst\" style=\"margin:0;padding:5px 8px 0 6px;vertical-align:top;color:#000\" autocomplete=\"off\" value=\"\" title=\"Google Search\" maxlength=\"2048\" name=\"q\" size=\"57\"></div><br style=\"line-height:0\"><span class=\"ds\"><span class=\"lsbb\"><input class=\"lsb\" value=\"Google Search\" name=\"btnG\" type=\"submit\"></span></span><span class=\"ds\"><span class=\"lsbb\"><input class=\"lsb\" id=\"tsuid_1\" value=\"I\\'m Feeling Lucky\" name=\"btnI\" type=\"submit\"><script nonce=\"ZLNheKEWkQJ5SkT2yFoMvA\">(function(){var id=\\'tsuid_1\\';document.getElementById(id).onclick = function(){if (this.form.q.value){this.checked = 1;if (this.form.iflsig)this.form.iflsig.disabled = false;}\\nelse top.location=\\'/doodles/\\';};})();</script><input value=\"AJiK0e8AAAAAY2ivN9ccJemmQRf8HMSZEXsJjD8mLluu\" name=\"iflsig\" type=\"hidden\"></span></span></td><td class=\"fl sblc\" align=\"left\" nowrap=\"\" width=\"25%\"><a href=\"/advanced_search?hl=en-IN&amp;authuser=0\">Advanced search</a></td></tr></table><input id=\"gbv\" name=\"gbv\" type=\"hidden\" value=\"1\"><script nonce=\"ZLNheKEWkQJ5SkT2yFoMvA\">(function(){var a,b=\"1\";if(document&&document.getElementById)if(\"undefined\"!=typeof XMLHttpRequest)b=\"2\";else if(\"undefined\"!=typeof ActiveXObject){var c,d,e=[\"MSXML2.XMLHTTP.6.0\",\"MSXML2.XMLHTTP.3.0\",\"MSXML2.XMLHTTP\",\"Microsoft.XMLHTTP\"];for(c=0;d=e[c++];)try{new ActiveXObject(d),b=\"2\"}catch(h){}}a=b;if(\"2\"==a&&-1==location.search.indexOf(\"&gbv=2\")){var f=google.gbvu,g=document.getElementById(\"gbv\");g&&(g.value=a);f&&window.setTimeout(function(){location.href=f},0)};}).call(this);</script></form><div id=\"gac_scont\"></div><div style=\"font-size:83%;min-height:3.5em\"><br><div id=\"gws-output-pages-elements-homepage_additional_languages__als\"><style>#gws-output-pages-elements-homepage_additional_languages__als{font-size:small;margin-bottom:24px}#SIvCob{color:#3c4043;display:inline-block;line-height:28px;}#SIvCob a{padding:0 3px;}.H6sW5{display:inline-block;margin:0 2px;white-space:nowrap}.z4hgWe{display:inline-block;margin:0 2px}</style><div id=\"SIvCob\">Google offered in:  <a href=\"http://www.google.co.in/setprefs?sig=0_sIilGzyvBwP8abXrsxHk3oFGpd0%3D&amp;hl=hi&amp;source=homepage&amp;sa=X&amp;ved=0ahUKEwiF_JOotJv7AhVspZUCHSm-BKcQ2ZgBCAU\">&#2361;&#2367;&#2344;&#2381;&#2342;&#2368;</a>    <a href=\"http://www.google.co.in/setprefs?sig=0_sIilGzyvBwP8abXrsxHk3oFGpd0%3D&amp;hl=bn&amp;source=homepage&amp;sa=X&amp;ved=0ahUKEwiF_JOotJv7AhVspZUCHSm-BKcQ2ZgBCAY\">&#2476;&#2494;&#2434;&#2482;&#2494;</a>    <a href=\"http://www.google.co.in/setprefs?sig=0_sIilGzyvBwP8abXrsxHk3oFGpd0%3D&amp;hl=te&amp;source=homepage&amp;sa=X&amp;ved=0ahUKEwiF_JOotJv7AhVspZUCHSm-BKcQ2ZgBCAc\">&#3108;&#3142;&#3122;&#3137;&#3095;&#3137;</a>    <a href=\"http://www.google.co.in/setprefs?sig=0_sIilGzyvBwP8abXrsxHk3oFGpd0%3D&amp;hl=mr&amp;source=homepage&amp;sa=X&amp;ved=0ahUKEwiF_JOotJv7AhVspZUCHSm-BKcQ2ZgBCAg\">&#2350;&#2352;&#2366;&#2336;&#2368;</a>    <a href=\"http://www.google.co.in/setprefs?sig=0_sIilGzyvBwP8abXrsxHk3oFGpd0%3D&amp;hl=ta&amp;source=homepage&amp;sa=X&amp;ved=0ahUKEwiF_JOotJv7AhVspZUCHSm-BKcQ2ZgBCAk\">&#2980;&#2990;&#3007;&#2996;&#3021;</a>    <a href=\"http://www.google.co.in/setprefs?sig=0_sIilGzyvBwP8abXrsxHk3oFGpd0%3D&amp;hl=gu&amp;source=homepage&amp;sa=X&amp;ved=0ahUKEwiF_JOotJv7AhVspZUCHSm-BKcQ2ZgBCAo\">&#2711;&#2753;&#2716;&#2736;&#2750;&#2724;&#2752;</a>    <a href=\"http://www.google.co.in/setprefs?sig=0_sIilGzyvBwP8abXrsxHk3oFGpd0%3D&amp;hl=kn&amp;source=homepage&amp;sa=X&amp;ved=0ahUKEwiF_JOotJv7AhVspZUCHSm-BKcQ2ZgBCAs\">&#3221;&#3240;&#3277;&#3240;&#3233;</a>    <a href=\"http://www.google.co.in/setprefs?sig=0_sIilGzyvBwP8abXrsxHk3oFGpd0%3D&amp;hl=ml&amp;source=homepage&amp;sa=X&amp;ved=0ahUKEwiF_JOotJv7AhVspZUCHSm-BKcQ2ZgBCAw\">&#3374;&#3378;&#3375;&#3390;&#3379;&#3330;</a>    <a href=\"http://www.google.co.in/setprefs?sig=0_sIilGzyvBwP8abXrsxHk3oFGpd0%3D&amp;hl=pa&amp;source=homepage&amp;sa=X&amp;ved=0ahUKEwiF_JOotJv7AhVspZUCHSm-BKcQ2ZgBCA0\">&#2602;&#2672;&#2588;&#2622;&#2604;&#2624;</a>  </div></div></div><span id=\"footer\"><div style=\"font-size:10pt\"><div style=\"margin:19px auto;text-align:center\" id=\"WqQANb\"><a href=\"/intl/en/ads/\">Advertising\\xa0Programs</a><a href=\"http://www.google.co.in/services/\">Business Solutions</a><a href=\"/intl/en/about.html\">About Google</a><a href=\"http://www.google.co.in/setprefdomain?prefdom=US&amp;sig=K_2KYG9oZGtK0GI3fPAlAHwki1g5A%3D\" id=\"fehl\">Google.com</a></div></div><p style=\"font-size:8pt;color:#70757a\">&copy; 2022 - <a href=\"/intl/en/policies/privacy/\">Privacy</a> - <a href=\"/intl/en/policies/terms/\">Terms</a></p></span></center><script nonce=\"ZLNheKEWkQJ5SkT2yFoMvA\">(function(){window.google.cdo={height:757,width:1440};(function(){var a=window.innerWidth,b=window.innerHeight;if(!a||!b){var c=window.document,d=\"CSS1Compat\"==c.compatMode?c.documentElement:c.body;a=d.clientWidth;b=d.clientHeight}a&&b&&(a!=google.cdo.width||b!=google.cdo.height)&&google.log(\"\",\"\",\"/client_204?&atyp=i&biw=\"+a+\"&bih=\"+b+\"&ei=\"+google.kEI);}).call(this);})();</script> <script nonce=\"ZLNheKEWkQJ5SkT2yFoMvA\">(function(){google.xjs={ck:\\'xjs.hp.SFT3mjTrtTM.L.X.O\\',cs:\\'ACT90oGg_U4QJFQeHa37WgSCChntJtpylQ\\',excm:[]};})();</script>  <script nonce=\"ZLNheKEWkQJ5SkT2yFoMvA\">(function(){var u=\\'/xjs/_/js/k\\\\x3dxjs.hp.en.zb7Ux13A-PQ.O/am\\\\x3dAAB0AgBQAGAB/d\\\\x3d1/ed\\\\x3d1/rs\\\\x3dACT90oEmKAHO8ah66z8-K-k-msmW5r0W8w/m\\\\x3dsb_he,d\\';\\nvar d=this||self,e=function(a){return a};var g;var l=function(a,b){this.g=b===h?a:\"\"};l.prototype.toString=function(){return this.g+\"\"};var h={};\\nfunction n(){var a=u;google.lx=function(){p(a);google.lx=function(){}};google.bx||google.lx()}\\nfunction p(a){google.timers&&google.timers.load&&google.tick&&google.tick(\"load\",\"xjsls\");var b=document;var c=\"SCRIPT\";\"application/xhtml+xml\"===b.contentType&&(c=c.toLowerCase());c=b.createElement(c);if(void 0===g){b=null;var k=d.trustedTypes;if(k&&k.createPolicy){try{b=k.createPolicy(\"goog#html\",{createHTML:e,createScript:e,createScriptURL:e})}catch(q){d.console&&d.console.error(q.message)}g=b}else g=b}a=(b=g)?b.createScriptURL(a):a;a=new l(a,h);c.src=a instanceof l&&a.constructor===l?a.g:\"type_error:TrustedResourceUrl\";var f,m;(f=(a=null==(m=(f=(c.ownerDocument&&c.ownerDocument.defaultView||window).document).querySelector)?void 0:m.call(f,\"script[nonce]\"))?a.nonce||a.getAttribute(\"nonce\")||\"\":\"\")&&c.setAttribute(\"nonce\",f);document.body.appendChild(c);google.psa=!0};google.xjsu=u;setTimeout(function(){n()},0);})();function _DumpException(e){throw e;}\\nfunction _F_installCss(c){}\\n(function(){google.jl={blt:\\'none\\',chnk:0,dw:false,dwu:true,emtn:0,end:0,ine:false,injs:\\'none\\',injt:0,injth:0,injv2:false,lls:\\'default\\',pdt:0,rep:0,snet:true,strt:0,ubm:false,uwp:true};})();(function(){var pmc=\\'{\\\\x22d\\\\x22:{},\\\\x22sb_he\\\\x22:{\\\\x22agen\\\\x22:true,\\\\x22cgen\\\\x22:true,\\\\x22client\\\\x22:\\\\x22heirloom-hp\\\\x22,\\\\x22dh\\\\x22:true,\\\\x22dhqt\\\\x22:true,\\\\x22ds\\\\x22:\\\\x22\\\\x22,\\\\x22ffql\\\\x22:\\\\x22en\\\\x22,\\\\x22fl\\\\x22:true,\\\\x22host\\\\x22:\\\\x22google.co.in\\\\x22,\\\\x22isbh\\\\x22:28,\\\\x22jsonp\\\\x22:true,\\\\x22msgs\\\\x22:{\\\\x22cibl\\\\x22:\\\\x22Clear Search\\\\x22,\\\\x22dym\\\\x22:\\\\x22Did you mean:\\\\x22,\\\\x22lcky\\\\x22:\\\\x22I\\\\\\\\u0026#39;m Feeling Lucky\\\\x22,\\\\x22lml\\\\x22:\\\\x22Learn more\\\\x22,\\\\x22oskt\\\\x22:\\\\x22Input tools\\\\x22,\\\\x22psrc\\\\x22:\\\\x22This search was removed from your \\\\\\\\u003Ca href\\\\x3d\\\\\\\\\\\\x22/history\\\\\\\\\\\\x22\\\\\\\\u003EWeb History\\\\\\\\u003C/a\\\\\\\\u003E\\\\x22,\\\\x22psrl\\\\x22:\\\\x22Remove\\\\x22,\\\\x22sbit\\\\x22:\\\\x22Search by image\\\\x22,\\\\x22srch\\\\x22:\\\\x22Google Search\\\\x22},\\\\x22ovr\\\\x22:{},\\\\x22pq\\\\x22:\\\\x22\\\\x22,\\\\x22refpd\\\\x22:true,\\\\x22rfs\\\\x22:[],\\\\x22sbas\\\\x22:\\\\x220 3px 8px 0 rgba(0,0,0,0.2),0 0 0 1px rgba(0,0,0,0.08)\\\\x22,\\\\x22sbpl\\\\x22:16,\\\\x22sbpr\\\\x22:16,\\\\x22scd\\\\x22:10,\\\\x22stok\\\\x22:\\\\x22i3PBQ1fFCBXHPy16VE5rxPSIcjk\\\\x22,\\\\x22uhde\\\\x22:false}}\\';google.pmc=JSON.parse(pmc);})();</script>        </body></html>'\n"
     ]
    }
   ],
   "source": [
    "# 101. access and print a URL's content to the console\n",
    "from http.client import HTTPConnection\n",
    "conn = HTTPConnection(\"www.google.co.in\")\n",
    "conn.request(\"GET\", \"/\")\n",
    "result = conn.getresponse()\n",
    "contents = result.read()\n",
    "print(contents)"
   ]
  },
  {
   "cell_type": "code",
   "execution_count": 106,
   "id": "df71dc25",
   "metadata": {},
   "outputs": [
    {
     "name": "stdout",
     "output_type": "stream",
     "text": [
      "dir command to list file and directory\n",
      " Volume in drive C has no label.\n",
      " Volume Serial Number is E65F-1626\n",
      "\n",
      " Directory of C:\\Users\\HalwaShubham.SEASIAINFOTECH\\Desktop\\office assignment\\jupiter-notebook\n",
      "\n",
      "07-11-2022  11:40    <DIR>          .\n",
      "07-11-2022  11:40    <DIR>          ..\n",
      "07-11-2022  10:21    <DIR>          .git\n",
      "07-11-2022  10:25    <DIR>          .ipynb_checkpoints\n",
      "07-11-2022  10:21             1,302 1 twinkle twinkle poem.ipynb\n",
      "07-11-2022  10:21             1,056 area of the circle.ipynb\n",
      "07-11-2022  10:21                 0 bro.txt\n",
      "07-11-2022  10:21             1,267 calendar.ipynb\n",
      "07-11-2022  10:21             1,231 class-practice.py\n",
      "07-11-2022  10:21               947 convert to the list and tuple.ipynb\n",
      "07-11-2022  10:21             2,319 date and time.ipynb\n",
      "07-11-2022  10:21             1,075 extension print.ipynb\n",
      "07-11-2022  10:21             1,460 file-handling.py\n",
      "07-11-2022  10:21               152 file1.py\n",
      "07-11-2022  10:21                31 file1.txt\n",
      "07-11-2022  10:21               182 file2.py\n",
      "07-11-2022  11:33                31 file2.txt\n",
      "07-11-2022  10:21               589 first program.ipynb\n",
      "07-11-2022  11:39            28,023 is-present.py\n",
      "07-11-2022  10:21             1,115 multiline-strings.ipynb\n",
      "07-11-2022  10:21             1,106 name in reverse order (1).ipynb\n",
      "07-11-2022  10:21             1,100 name in reverse order.ipynb\n",
      "07-11-2022  10:21               797 new.py\n",
      "07-11-2022  10:21                69 poem.py\n",
      "07-11-2022  11:40           180,482 python assignment.ipynb\n",
      "07-11-2022  10:21    <DIR>          python important\n",
      "07-11-2022  10:21             2,319 python version (1).ipynb\n",
      "07-11-2022  10:21             2,029 python version.ipynb\n",
      "07-11-2022  10:21                91 README.md\n",
      "07-11-2022  10:21               991 replace.ipynb\n",
      "07-11-2022  10:21                 0 subtrackanddoubledifference.py\n",
      "07-11-2022  10:21               991 _replace prog.ipynb\n",
      "07-11-2022  10:21    <DIR>          __pycache__\n",
      "              27 File(s)        230,755 bytes\n",
      "               6 Dir(s)  358,623,068,160 bytes free\n",
      "\n"
     ]
    }
   ],
   "source": [
    "# 102.  get system command output\n",
    "import subprocess\n",
    "# file and directory listing\n",
    "returned_text = subprocess.check_output(\"dir\", shell=True, universal_newlines=True)\n",
    "print(\"dir command to list file and directory\")\n",
    "print(returned_text)\n",
    "\n",
    "# *******extra**********\n",
    "# import os\n",
    "# print(os.listdir())\n",
    "# *******extra**********"
   ]
  },
  {
   "cell_type": "code",
   "execution_count": 107,
   "id": "390a8059",
   "metadata": {},
   "outputs": [
    {
     "name": "stdout",
     "output_type": "stream",
     "text": [
      "file2.txt\n"
     ]
    }
   ],
   "source": [
    "# 103. extract the filename from a given path\n",
    "import os \n",
    "print(os.path.basename('C:\\\\Users\\\\HalwaShubham.SEASIAINFOTECH\\\\Desktop\\\\Jupyter-work\\\\file2.txt'))"
   ]
  },
  {
   "cell_type": "code",
   "execution_count": 108,
   "id": "e8816c99",
   "metadata": {},
   "outputs": [
    {
     "ename": "AttributeError",
     "evalue": "module 'os' has no attribute 'getegid'",
     "output_type": "error",
     "traceback": [
      "\u001b[1;31m---------------------------------------------------------------------------\u001b[0m",
      "\u001b[1;31mAttributeError\u001b[0m                            Traceback (most recent call last)",
      "Input \u001b[1;32mIn [108]\u001b[0m, in \u001b[0;36m<cell line: 3>\u001b[1;34m()\u001b[0m\n\u001b[0;32m      1\u001b[0m \u001b[38;5;66;03m# 104. get the effective group id, effective user id, real group id, a list of supplemental group ids associated with the current process\u001b[39;00m\n\u001b[0;32m      2\u001b[0m \u001b[38;5;28;01mimport\u001b[39;00m \u001b[38;5;21;01mos\u001b[39;00m\n\u001b[1;32m----> 3\u001b[0m \u001b[38;5;28mprint\u001b[39m(\u001b[38;5;124m\"\u001b[39m\u001b[38;5;130;01m\\n\u001b[39;00m\u001b[38;5;124mEffective group id: \u001b[39m\u001b[38;5;124m\"\u001b[39m,\u001b[43mos\u001b[49m\u001b[38;5;241;43m.\u001b[39;49m\u001b[43mgetegid\u001b[49m())\n\u001b[0;32m      4\u001b[0m \u001b[38;5;28mprint\u001b[39m(\u001b[38;5;124m\"\u001b[39m\u001b[38;5;124mEffective user id: \u001b[39m\u001b[38;5;124m\"\u001b[39m,os\u001b[38;5;241m.\u001b[39mgeteuid())\n\u001b[0;32m      5\u001b[0m \u001b[38;5;28mprint\u001b[39m(\u001b[38;5;124m\"\u001b[39m\u001b[38;5;124mReal group id: \u001b[39m\u001b[38;5;124m\"\u001b[39m,os\u001b[38;5;241m.\u001b[39mgetgid())\n",
      "\u001b[1;31mAttributeError\u001b[0m: module 'os' has no attribute 'getegid'"
     ]
    }
   ],
   "source": [
    "# 104. get the effective group id, effective user id, real group id, a list of supplemental group ids associated with the current process\n",
    "import os\n",
    "print(\"\\nEffective group id: \",os.getegid())\n",
    "print(\"Effective user id: \",os.geteuid())\n",
    "print(\"Real group id: \",os.getgid())\n",
    "print(\"List of supplemental group ids: \",os.getgroups())\n",
    "print()"
   ]
  },
  {
   "cell_type": "code",
   "execution_count": 109,
   "id": "4566cab9",
   "metadata": {},
   "outputs": [
    {
     "name": "stdout",
     "output_type": "stream",
     "text": [
      "environ({'ALLUSERSPROFILE': 'C:\\\\ProgramData', 'APPDATA': 'C:\\\\Users\\\\HalwaShubham.SEASIAINFOTECH\\\\AppData\\\\Roaming', 'COMMONPROGRAMFILES': 'C:\\\\Program Files\\\\Common Files', 'COMMONPROGRAMFILES(X86)': 'C:\\\\Program Files (x86)\\\\Common Files', 'COMMONPROGRAMW6432': 'C:\\\\Program Files\\\\Common Files', 'COMPUTERNAME': 'SHUBHAM-DEVOPS', 'COMSPEC': 'C:\\\\Windows\\\\system32\\\\cmd.exe', 'CONDA_DEFAULT_ENV': 'base', 'CONDA_EXE': 'C:\\\\Users\\\\HalwaShubham.SEASIAINFOTECH\\\\Anaconda3\\\\Scripts\\\\conda.exe', 'CONDA_PROMPT_MODIFIER': '(base) ', 'CONDA_PYTHON_EXE': 'C:\\\\Users\\\\HalwaShubham.SEASIAINFOTECH\\\\Anaconda3\\\\python.exe', 'CONDA_SHLVL': '1', 'DRIVERDATA': 'C:\\\\Windows\\\\System32\\\\Drivers\\\\DriverData', 'FPS_BROWSER_APP_PROFILE_STRING': 'Internet Explorer', 'FPS_BROWSER_USER_PROFILE_STRING': 'Default', 'HOMEDRIVE': 'C:', 'HOMEPATH': '\\\\Users\\\\HalwaShubham.SEASIAINFOTECH', 'JD2_HOME': 'C:\\\\Users\\\\HalwaShubham.SEASIAINFOTECH\\\\AppData\\\\Local\\\\JDownloader 2.0', 'LOCALAPPDATA': 'C:\\\\Users\\\\HalwaShubham.SEASIAINFOTECH\\\\AppData\\\\Local', 'LOGONSERVER': '\\\\\\\\WIN-FSMO', 'NUMBER_OF_PROCESSORS': '8', 'ONEDRIVE': 'C:\\\\Users\\\\HalwaShubham.SEASIAINFOTECH\\\\OneDrive', 'OS': 'Windows_NT', 'PATH': 'C:\\\\Users\\\\HalwaShubham.SEASIAINFOTECH\\\\Anaconda3;C:\\\\Users\\\\HalwaShubham.SEASIAINFOTECH\\\\Anaconda3\\\\Library\\\\mingw-w64\\\\bin;C:\\\\Users\\\\HalwaShubham.SEASIAINFOTECH\\\\Anaconda3\\\\Library\\\\usr\\\\bin;C:\\\\Users\\\\HalwaShubham.SEASIAINFOTECH\\\\Anaconda3\\\\Library\\\\bin;C:\\\\Users\\\\HalwaShubham.SEASIAINFOTECH\\\\Anaconda3\\\\Scripts;C:\\\\Users\\\\HalwaShubham.SEASIAINFOTECH\\\\Anaconda3\\\\bin;C:\\\\Users\\\\HalwaShubham.SEASIAINFOTECH\\\\Anaconda3\\\\condabin;C:\\\\Users\\\\HalwaShubham.SEASIAINFOTECH\\\\Anaconda3;C:\\\\Users\\\\HalwaShubham.SEASIAINFOTECH\\\\Anaconda3\\\\Library\\\\mingw-w64\\\\bin;C:\\\\Users\\\\HalwaShubham.SEASIAINFOTECH\\\\Anaconda3\\\\Library\\\\usr\\\\bin;C:\\\\Users\\\\HalwaShubham.SEASIAINFOTECH\\\\Anaconda3\\\\Library\\\\bin;C:\\\\Users\\\\HalwaShubham.SEASIAINFOTECH\\\\Anaconda3\\\\Scripts;C:\\\\Program Files (x86)\\\\VMware\\\\VMware Player\\\\bin;C:\\\\Program Files (x86)\\\\Microsoft SDKs\\\\Azure\\\\CLI2\\\\wbin;C:\\\\Program Files\\\\Python310\\\\Scripts;C:\\\\Program Files\\\\Python310;C:\\\\Windows\\\\system32;C:\\\\Windows;C:\\\\Windows\\\\System32\\\\Wbem;C:\\\\Windows\\\\System32\\\\WindowsPowerShell\\\\v1.0;C:\\\\Windows\\\\System32\\\\OpenSSH;C:\\\\Program Files\\\\Amazon\\\\AWSCLIV2;C:\\\\Users\\\\HalwaShubham.SEASIAINFOTECH\\\\AppData\\\\Local\\\\Microsoft\\\\WindowsApps;C:\\\\Users\\\\HalwaShubham.SEASIAINFOTECH\\\\AppData\\\\Local\\\\Programs\\\\Microsoft VS Code\\\\bin;C:\\\\Program Files\\\\terraform_1.1.9_windows_amd64;C:\\\\Users\\\\HalwaShubham.SEASIAINFOTECH\\\\AppData\\\\Local\\\\atom\\\\bin', 'PATHEXT': '.COM;.EXE;.BAT;.CMD;.VBS;.VBE;.JS;.JSE;.WSF;.WSH;.MSC;.PY;.PYW', 'PROCESSOR_ARCHITECTURE': 'AMD64', 'PROCESSOR_IDENTIFIER': 'Intel64 Family 6 Model 158 Stepping 9, GenuineIntel', 'PROCESSOR_LEVEL': '6', 'PROCESSOR_REVISION': '9e09', 'PROGRAMDATA': 'C:\\\\ProgramData', 'PROGRAMFILES': 'C:\\\\Program Files', 'PROGRAMFILES(X86)': 'C:\\\\Program Files (x86)', 'PROGRAMW6432': 'C:\\\\Program Files', 'PROMPT': '(base) $P$G', 'PSMODULEPATH': 'C:\\\\Program Files\\\\WindowsPowerShell\\\\Modules;C:\\\\Windows\\\\system32\\\\WindowsPowerShell\\\\v1.0\\\\Modules', 'PUBLIC': 'C:\\\\Users\\\\Public', 'SESSIONNAME': 'Console', 'SYSTEMDRIVE': 'C:', 'SYSTEMROOT': 'C:\\\\Windows', 'TABLEAU_SERVER_CONFIG_NAME': 'tabsvc', 'TABLEAU_SERVER_DATA_DIR': 'C:\\\\ProgramData\\\\Tableau\\\\Tableau Server', 'TABLEAU_SERVER_DATA_DIR_VERSION': '20214.22.1017.0914', 'TABLEAU_SERVER_INSTALL_DIR': 'C:\\\\Program Files\\\\Tableau\\\\Tableau server', 'TABLEAU_SERVER_MSI': '21.4.3018', 'TEMP': 'C:\\\\Users\\\\HALWAS~1.SEA\\\\AppData\\\\Local\\\\Temp', 'TMP': 'C:\\\\Users\\\\HALWAS~1.SEA\\\\AppData\\\\Local\\\\Temp', 'TSM_CLEAN_INSTALL_FAILURE': '1', 'USERDNSDOMAIN': 'SEASIAINFOTECH.COM', 'USERDOMAIN': 'SEASIAINFOTECH', 'USERDOMAIN_ROAMINGPROFILE': 'SEASIAINFOTECH', 'USERNAME': 'HalwaShubham', 'USERPROFILE': 'C:\\\\Users\\\\HalwaShubham.SEASIAINFOTECH', 'VBOX_MSI_INSTALL_PATH': 'C:\\\\Program Files\\\\Oracle\\\\VirtualBox\\\\', 'WINDIR': 'C:\\\\Windows', 'ZES_ENABLE_SYSMAN': '1', 'CONDA_PREFIX': 'C:\\\\Users\\\\HalwaShubham.SEASIAINFOTECH\\\\Anaconda3', 'CONDA_ROOT': 'C:\\\\Users\\\\HalwaShubham.SEASIAINFOTECH\\\\Anaconda3', 'PYDEVD_USE_FRAME_EVAL': 'NO', 'JPY_INTERRUPT_EVENT': '2508', 'IPY_INTERRUPT_EVENT': '2508', 'JPY_PARENT_PID': '2496', 'TERM': 'xterm-color', 'CLICOLOR': '1', 'PAGER': 'cat', 'GIT_PAGER': 'cat', 'MPLBACKEND': 'module://matplotlib_inline.backend_inline', 'QT_API': 'pyqt5'})\n"
     ]
    }
   ],
   "source": [
    "# 105. get the users environment.\n",
    "import os\n",
    "print(os.environ)"
   ]
  },
  {
   "cell_type": "code",
   "execution_count": 110,
   "id": "87bb8e3d",
   "metadata": {},
   "outputs": [
    {
     "name": "stdout",
     "output_type": "stream",
     "text": [
      "\"test.txt\" : ('test', '.txt')\n",
      "\"filename\" : ('filename', '')\n",
      "\"/user/system/test.txt\" : ('/user/system/test', '.txt')\n",
      "\"/\" : ('/', '')\n",
      "\"\" : ('', '')\n",
      "\"shubham.py\" : ('shubham', '.py')\n",
      "\"sourabh.json\" : ('sourabh', '.json')\n"
     ]
    }
   ],
   "source": [
    "# 106.  divide a path on the extension separator\n",
    "import os.path\n",
    "for path in [ 'test.txt', 'filename', '/user/system/test.txt', '/', '', \"shubham.py\", \"sourabh.json\" ]:\n",
    "    print('\"%s\" :' % path, os.path.splitext(path))"
   ]
  },
  {
   "cell_type": "code",
   "execution_count": 111,
   "id": "dba7ae5c",
   "metadata": {},
   "outputs": [
    {
     "ename": "NameError",
     "evalue": "name '__file__' is not defined",
     "output_type": "error",
     "traceback": [
      "\u001b[1;31m---------------------------------------------------------------------------\u001b[0m",
      "\u001b[1;31mNameError\u001b[0m                                 Traceback (most recent call last)",
      "Input \u001b[1;32mIn [111]\u001b[0m, in \u001b[0;36m<cell line: 5>\u001b[1;34m()\u001b[0m\n\u001b[0;32m      2\u001b[0m \u001b[38;5;28;01mimport\u001b[39;00m \u001b[38;5;21;01mos\u001b[39;00m\u001b[38;5;21;01m.\u001b[39;00m\u001b[38;5;21;01mpath\u001b[39;00m\n\u001b[0;32m      3\u001b[0m \u001b[38;5;28;01mimport\u001b[39;00m \u001b[38;5;21;01mtime\u001b[39;00m\n\u001b[1;32m----> 5\u001b[0m \u001b[38;5;28mprint\u001b[39m(\u001b[38;5;124m'\u001b[39m\u001b[38;5;124mFile         :\u001b[39m\u001b[38;5;124m'\u001b[39m, \u001b[38;5;18;43m__file__\u001b[39;49m)\n\u001b[0;32m      6\u001b[0m \u001b[38;5;28mprint\u001b[39m(\u001b[38;5;124m'\u001b[39m\u001b[38;5;124mAccess time  :\u001b[39m\u001b[38;5;124m'\u001b[39m, time\u001b[38;5;241m.\u001b[39mctime(os\u001b[38;5;241m.\u001b[39mpath\u001b[38;5;241m.\u001b[39mgetatime(\u001b[38;5;18m__file__\u001b[39m)))\n\u001b[0;32m      7\u001b[0m \u001b[38;5;28mprint\u001b[39m(\u001b[38;5;124m'\u001b[39m\u001b[38;5;124mModified time:\u001b[39m\u001b[38;5;124m'\u001b[39m, time\u001b[38;5;241m.\u001b[39mctime(os\u001b[38;5;241m.\u001b[39mpath\u001b[38;5;241m.\u001b[39mgetmtime(\u001b[38;5;18m__file__\u001b[39m)))\n",
      "\u001b[1;31mNameError\u001b[0m: name '__file__' is not defined"
     ]
    }
   ],
   "source": [
    "# 107.retrieve file properties\n",
    "import os.path\n",
    "import time\n",
    "\n",
    "print('File         :', __file__)\n",
    "print('Access time  :', time.ctime(os.path.getatime(__file__)))\n",
    "print('Modified time:', time.ctime(os.path.getmtime(__file__)))\n",
    "print('Change time  :', time.ctime(os.path.getctime(__file__)))\n",
    "print('Size         :', os.path.getsize(__file__))"
   ]
  },
  {
   "cell_type": "code",
   "execution_count": 112,
   "id": "25211bc0",
   "metadata": {},
   "outputs": [
    {
     "ename": "NameError",
     "evalue": "name '__file__' is not defined",
     "output_type": "error",
     "traceback": [
      "\u001b[1;31m---------------------------------------------------------------------------\u001b[0m",
      "\u001b[1;31mNameError\u001b[0m                                 Traceback (most recent call last)",
      "Input \u001b[1;32mIn [112]\u001b[0m, in \u001b[0;36m<cell line: 4>\u001b[1;34m()\u001b[0m\n\u001b[0;32m      1\u001b[0m \u001b[38;5;66;03m# 108. find path refers to a file or directory when you encounter a path name\u001b[39;00m\n\u001b[0;32m      3\u001b[0m \u001b[38;5;28;01mimport\u001b[39;00m \u001b[38;5;21;01mos\u001b[39;00m\u001b[38;5;21;01m.\u001b[39;00m\u001b[38;5;21;01mpath\u001b[39;00m\n\u001b[1;32m----> 4\u001b[0m \u001b[38;5;28;01mfor\u001b[39;00m file \u001b[38;5;129;01min\u001b[39;00m [\u001b[38;5;18;43m__file__\u001b[39;49m, os\u001b[38;5;241m.\u001b[39mpath\u001b[38;5;241m.\u001b[39mdirname(\u001b[38;5;18m__file__\u001b[39m), \u001b[38;5;124m'\u001b[39m\u001b[38;5;124m/\u001b[39m\u001b[38;5;124m'\u001b[39m, \u001b[38;5;124m'\u001b[39m\u001b[38;5;124m./broken_link\u001b[39m\u001b[38;5;124m'\u001b[39m]:\n\u001b[0;32m      5\u001b[0m     \u001b[38;5;28mprint\u001b[39m(\u001b[38;5;124m\"\u001b[39m\u001b[38;5;124mfile\u001b[39m\u001b[38;5;124m\"\u001b[39m, file)\n\u001b[0;32m      6\u001b[0m     \u001b[38;5;28mprint\u001b[39m(\u001b[38;5;124m'\u001b[39m\u001b[38;5;124mAbsolute    :\u001b[39m\u001b[38;5;124m'\u001b[39m, os\u001b[38;5;241m.\u001b[39mpath\u001b[38;5;241m.\u001b[39misabs(file))\n",
      "\u001b[1;31mNameError\u001b[0m: name '__file__' is not defined"
     ]
    }
   ],
   "source": [
    "# 108. find path refers to a file or directory when you encounter a path name\n",
    "\n",
    "import os.path\n",
    "for file in [__file__, os.path.dirname(__file__), '/', './broken_link']:\n",
    "    print(\"file\", file)\n",
    "    print('Absolute    :', os.path.isabs(file))\n",
    "    print('Is File?    :', os.path.isfile(file))\n",
    "    print('Is Dir?     :', os.path.isdir(file))\n",
    "    print('Is Link?    :', os.path.islink(file))\n",
    "    print('Exists?     :', os.path.exists(file))\n",
    "    print('Link Exists?:', os.path.lexists(file))"
   ]
  },
  {
   "cell_type": "code",
   "execution_count": 113,
   "id": "cb86d21f",
   "metadata": {},
   "outputs": [
    {
     "name": "stdout",
     "output_type": "stream",
     "text": [
      "Enter the value of x:\n",
      "5\n",
      "x is positive\n"
     ]
    }
   ],
   "source": [
    "# 109. check if a number is positive, negative or zero\n",
    "\n",
    "x = int(input(\"Enter the value of x:\\n\"))\n",
    "if x>0:\n",
    "    print(\"x is positive\")\n",
    "elif x<0:\n",
    "    print(\"x is not positive\")\n",
    "elif x==0:\n",
    "    print(\"x is equal to zero\")"
   ]
  },
  {
   "cell_type": "code",
   "execution_count": 114,
   "id": "77fa78e0",
   "metadata": {},
   "outputs": [
    {
     "ename": "TypeError",
     "evalue": "'list' object is not callable",
     "output_type": "error",
     "traceback": [
      "\u001b[1;31m---------------------------------------------------------------------------\u001b[0m",
      "\u001b[1;31mTypeError\u001b[0m                                 Traceback (most recent call last)",
      "Input \u001b[1;32mIn [114]\u001b[0m, in \u001b[0;36m<cell line: 4>\u001b[1;34m()\u001b[0m\n\u001b[0;32m      1\u001b[0m \u001b[38;5;66;03m# 110. get numbers divisible by fifteen from a list using an anonymous function\u001b[39;00m\n\u001b[0;32m      3\u001b[0m list_val \u001b[38;5;241m=\u001b[39m [\u001b[38;5;241m10\u001b[39m, \u001b[38;5;241m15\u001b[39m, \u001b[38;5;241m25\u001b[39m,\u001b[38;5;241m45\u001b[39m,\u001b[38;5;241m88\u001b[39m,\u001b[38;5;241m60\u001b[39m,\u001b[38;5;241m75\u001b[39m,\u001b[38;5;241m100\u001b[39m,\u001b[38;5;241m115\u001b[39m,\u001b[38;5;241m155\u001b[39m,\u001b[38;5;241m300\u001b[39m,\u001b[38;5;241m555\u001b[39m,\u001b[38;5;241m455\u001b[39m,\u001b[38;5;241m355\u001b[39m,\u001b[38;5;241m255\u001b[39m]\n\u001b[1;32m----> 4\u001b[0m result \u001b[38;5;241m=\u001b[39m \u001b[38;5;28;43mlist\u001b[39;49m\u001b[43m(\u001b[49m\u001b[38;5;28;43mfilter\u001b[39;49m\u001b[43m(\u001b[49m\u001b[38;5;28;43;01mlambda\u001b[39;49;00m\u001b[43m \u001b[49m\u001b[43mx\u001b[49m\u001b[43m:\u001b[49m\u001b[43m \u001b[49m\u001b[43m(\u001b[49m\u001b[43mx\u001b[49m\u001b[38;5;241;43m%\u001b[39;49m\u001b[38;5;241;43m15\u001b[39;49m\u001b[38;5;241;43m==\u001b[39;49m\u001b[38;5;241;43m0\u001b[39;49m\u001b[43m)\u001b[49m\u001b[43m,\u001b[49m\u001b[43m \u001b[49m\u001b[43mlist_val\u001b[49m\u001b[43m)\u001b[49m\u001b[43m)\u001b[49m\n\u001b[0;32m      5\u001b[0m \u001b[38;5;28mprint\u001b[39m(result)\n",
      "\u001b[1;31mTypeError\u001b[0m: 'list' object is not callable"
     ]
    }
   ],
   "source": [
    "# 110. get numbers divisible by fifteen from a list using an anonymous function\n",
    "\n",
    "list_val = [10, 15, 25,45,88,60,75,100,115,155,300,555,455,355,255]\n",
    "result = list(filter(lambda x: (x%15==0), list_val))\n",
    "print(result)\n"
   ]
  },
  {
   "cell_type": "code",
   "execution_count": 115,
   "id": "334b160a",
   "metadata": {},
   "outputs": [
    {
     "name": "stdout",
     "output_type": "stream",
     "text": [
      "['1 twinkle twinkle poem.ipynb', 'area of the circle.ipynb', 'bro.txt', 'calendar.ipynb', 'class-practice.py', 'convert to the list and tuple.ipynb', 'date and time.ipynb', 'extension print.ipynb', 'file-handling.py', 'file1.py', 'file1.txt', 'file2.py', 'file2.txt', 'first program.ipynb', 'is-present.py', 'multiline-strings.ipynb', 'name in reverse order (1).ipynb', 'name in reverse order.ipynb', 'new.py', 'poem.py', 'python assignment.ipynb', 'python version (1).ipynb', 'python version.ipynb', 'README.md', 'replace.ipynb', 'subtrackanddoubledifference.py', '_replace prog.ipynb']\n",
      "['class-practice.py', 'file-handling.py', 'file1.py', 'file2.py', 'is-present.py', 'new.py', 'poem.py', 'subtrackanddoubledifference.py']\n"
     ]
    }
   ],
   "source": [
    "# 111. make file lists from current directory using a wildcard\n",
    "import glob\n",
    "file_list = glob.glob('*.*')\n",
    "print(file_list)\n",
    "print(glob.glob('*.py'))"
   ]
  },
  {
   "cell_type": "code",
   "execution_count": 116,
   "id": "9a39444e",
   "metadata": {},
   "outputs": [
    {
     "name": "stdout",
     "output_type": "stream",
     "text": [
      "Before removing color\n",
      "['Red', 'Black', 'Green', 'White', 'Orange']\n",
      "After removing color\n",
      "['Black', 'Green', 'White', 'Orange']\n"
     ]
    }
   ],
   "source": [
    "# 112. remove the first item from a specified list\n",
    "color = [\"Red\", \"Black\", \"Green\", \"White\", \"Orange\"]\n",
    "print(\"Before removing color\")\n",
    "print(color)\n",
    "del color[0]\n",
    "print (\"After removing color\")\n",
    "print (color)"
   ]
  },
  {
   "cell_type": "code",
   "execution_count": 117,
   "id": "fa1cbbbe",
   "metadata": {},
   "outputs": [
    {
     "name": "stdout",
     "output_type": "stream",
     "text": [
      "Input a number: 5\n"
     ]
    }
   ],
   "source": [
    "# 113. input a number, if it is not a number generates an error message\n",
    "while True:\n",
    "    try:\n",
    "        a = int(input(\"Input a number: \"))\n",
    "        break\n",
    "    except ValueError:\n",
    "        print(\"\\nThis is not a number. Try again...\")\n",
    "        print()"
   ]
  },
  {
   "cell_type": "code",
   "execution_count": 118,
   "id": "3f566774",
   "metadata": {},
   "outputs": [
    {
     "ename": "TypeError",
     "evalue": "'list' object is not callable",
     "output_type": "error",
     "traceback": [
      "\u001b[1;31m---------------------------------------------------------------------------\u001b[0m",
      "\u001b[1;31mTypeError\u001b[0m                                 Traceback (most recent call last)",
      "Input \u001b[1;32mIn [118]\u001b[0m, in \u001b[0;36m<cell line: 4>\u001b[1;34m()\u001b[0m\n\u001b[0;32m      2\u001b[0m \u001b[38;5;28;01mimport\u001b[39;00m \u001b[38;5;21;01mos\u001b[39;00m\n\u001b[0;32m      3\u001b[0m my_list \u001b[38;5;241m=\u001b[39m [\u001b[38;5;241m2\u001b[39m,\u001b[38;5;241m4\u001b[39m,\u001b[38;5;241m6\u001b[39m,\u001b[38;5;241m7\u001b[39m,\u001b[38;5;241m8\u001b[39m,\u001b[38;5;241m-\u001b[39m\u001b[38;5;241m1\u001b[39m,\u001b[38;5;241m-\u001b[39m\u001b[38;5;241m5\u001b[39m,\u001b[38;5;241m0\u001b[39m,\u001b[38;5;241m4\u001b[39m,\u001b[38;5;241m6\u001b[39m,\u001b[38;5;241m-\u001b[39m\u001b[38;5;241m10\u001b[39m,\u001b[38;5;241m3\u001b[39m]\n\u001b[1;32m----> 4\u001b[0m a \u001b[38;5;241m=\u001b[39m \u001b[38;5;28;43mlist\u001b[39;49m\u001b[43m(\u001b[49m\u001b[38;5;28;43mfilter\u001b[39;49m\u001b[43m(\u001b[49m\u001b[38;5;28;43;01mlambda\u001b[39;49;00m\u001b[43m \u001b[49m\u001b[43mx\u001b[49m\u001b[43m:\u001b[49m\u001b[43m(\u001b[49m\u001b[43mx\u001b[49m\u001b[38;5;241;43m>\u001b[39;49m\u001b[38;5;241;43m0\u001b[39;49m\u001b[43m)\u001b[49m\u001b[43m,\u001b[49m\u001b[43m \u001b[49m\u001b[43mmy_list\u001b[49m\u001b[43m)\u001b[49m\u001b[43m)\u001b[49m\n\u001b[0;32m      5\u001b[0m \u001b[38;5;28mprint\u001b[39m (a)\n",
      "\u001b[1;31mTypeError\u001b[0m: 'list' object is not callable"
     ]
    }
   ],
   "source": [
    "# 114.  filter the positive numbers from a list\n",
    "import os\n",
    "my_list = [2,4,6,7,8,-1,-5,0,4,6,-10,3]\n",
    "a = list(filter(lambda x:(x>0), my_list))\n",
    "print (a)"
   ]
  },
  {
   "cell_type": "code",
   "execution_count": 119,
   "id": "a1ad5970",
   "metadata": {},
   "outputs": [
    {
     "name": "stdout",
     "output_type": "stream",
     "text": [
      "12496275000\n"
     ]
    }
   ],
   "source": [
    "# 115. compute the product of a list of integers (without using for loop)\n",
    "from functools import reduce\n",
    "a = [15,20,30,55,99,255]\n",
    "result = (reduce(lambda x, y:(x * y), a))\n",
    "print(result)"
   ]
  },
  {
   "cell_type": "code",
   "execution_count": 120,
   "id": "208c1b2e",
   "metadata": {},
   "outputs": [
    {
     "name": "stdout",
     "output_type": "stream",
     "text": [
      "Python Exercises - w3resource\n"
     ]
    }
   ],
   "source": [
    "# 116. print Unicode characters\n",
    "str = u'\\u0050\\u0079\\u0074\\u0068\\u006f\\u006e \\u0045\\u0078\\u0065\\u0072\\u0063\\u0069\\u0073\\u0065\\u0073 \\u002d \\u0077\\u0033\\u0072\\u0065\\u0073\\u006f\\u0075\\u0072\\u0063\\u0065'\n",
    "print(str)"
   ]
  },
  {
   "cell_type": "code",
   "execution_count": 121,
   "id": "bbcbd379",
   "metadata": {},
   "outputs": [
    {
     "ename": "TypeError",
     "evalue": "'str' object is not callable",
     "output_type": "error",
     "traceback": [
      "\u001b[1;31m---------------------------------------------------------------------------\u001b[0m",
      "\u001b[1;31mTypeError\u001b[0m                                 Traceback (most recent call last)",
      "Input \u001b[1;32mIn [121]\u001b[0m, in \u001b[0;36m<cell line: 5>\u001b[1;34m()\u001b[0m\n\u001b[0;32m      2\u001b[0m str1 \u001b[38;5;241m=\u001b[39m \u001b[38;5;124m\"\u001b[39m\u001b[38;5;124mPython\u001b[39m\u001b[38;5;124m\"\u001b[39m\n\u001b[0;32m      3\u001b[0m str2 \u001b[38;5;241m=\u001b[39m \u001b[38;5;124m\"\u001b[39m\u001b[38;5;124mPython\u001b[39m\u001b[38;5;124m\"\u001b[39m\n\u001b[1;32m----> 5\u001b[0m \u001b[38;5;28mprint\u001b[39m(\u001b[38;5;124m\"\u001b[39m\u001b[38;5;130;01m\\n\u001b[39;00m\u001b[38;5;124mMemory location of str1 =\u001b[39m\u001b[38;5;124m\"\u001b[39m, \u001b[38;5;28;43mstr\u001b[39;49m\u001b[43m(\u001b[49m\u001b[38;5;28;43mid\u001b[39;49m\u001b[43m(\u001b[49m\u001b[43mstr1\u001b[49m\u001b[43m)\u001b[49m\u001b[43m)\u001b[49m)\n\u001b[0;32m      6\u001b[0m \u001b[38;5;28mprint\u001b[39m(\u001b[38;5;124m\"\u001b[39m\u001b[38;5;130;01m\\n\u001b[39;00m\u001b[38;5;124mMemory location of str1 =\u001b[39m\u001b[38;5;124m\"\u001b[39m, \u001b[38;5;28mhex\u001b[39m(\u001b[38;5;28mid\u001b[39m(str1)))\n\u001b[0;32m      7\u001b[0m \u001b[38;5;28mprint\u001b[39m(\u001b[38;5;124m\"\u001b[39m\u001b[38;5;124mMemory location of str2 =\u001b[39m\u001b[38;5;124m\"\u001b[39m, \u001b[38;5;28mstr\u001b[39m(\u001b[38;5;28mid\u001b[39m(str2)))\n",
      "\u001b[1;31mTypeError\u001b[0m: 'str' object is not callable"
     ]
    }
   ],
   "source": [
    "# 117. prove that two string variables of same value point same memory location\n",
    "str1 = \"Python\"\n",
    "str2 = \"Python\"\n",
    " \n",
    "print(\"\\nMemory location of str1 =\", str(id(str1)))\n",
    "print(\"\\nMemory location of str1 =\", hex(id(str1)))\n",
    "print(\"Memory location of str2 =\", str(id(str2)))\n",
    "print(\"Memory location of str2 =\", hex(id(str2)))\n",
    "print()"
   ]
  },
  {
   "cell_type": "code",
   "execution_count": 122,
   "id": "f5f0fd73",
   "metadata": {},
   "outputs": [
    {
     "name": "stdout",
     "output_type": "stream",
     "text": [
      "10\n",
      "20\n",
      "56\n",
      "35\n",
      "17\n",
      "99\n",
      "255\n"
     ]
    }
   ],
   "source": [
    "# 118. create a bytearray from a list\n",
    "\n",
    "nums = [10, 20, 56, 35, 17, 99, 255]\n",
    "# Create bytearray from list of integers.\n",
    "values = bytearray(nums)\n",
    "for x in values:\n",
    "    print(x)"
   ]
  },
  {
   "cell_type": "code",
   "execution_count": 123,
   "id": "2cbfb097",
   "metadata": {},
   "outputs": [
    {
     "name": "stdout",
     "output_type": "stream",
     "text": [
      "Enter your number here:\n",
      "5\n",
      "5.000000\n",
      "5.00\n"
     ]
    }
   ],
   "source": [
    "# 119.  round a floating-point number to specified number decimal places\n",
    "x = float(input(\"Enter your number here:\\n\"))\n",
    "print(\"%f\"% x)\n",
    "print(\"%.2f\"% x)"
   ]
  },
  {
   "cell_type": "code",
   "execution_count": 124,
   "id": "6e391719",
   "metadata": {},
   "outputs": [
    {
     "name": "stdout",
     "output_type": "stream",
     "text": [
      "Original string: 78987132653311374\n",
      "789871\n",
      "789871326\n",
      "7898713265\n"
     ]
    }
   ],
   "source": [
    "# 120. format a specified string limiting the length of a string\n",
    "a = \"78987132653311374\"\n",
    "print(\"Original string: %s\" % a)\n",
    "print('%.6s' % a)\n",
    "print('%.9s' % a)\n",
    "print('%.10s' % a)"
   ]
  },
  {
   "cell_type": "code",
   "execution_count": 126,
   "id": "2dcfc66a",
   "metadata": {},
   "outputs": [
    {
     "name": "stdout",
     "output_type": "stream",
     "text": [
      "Variable is defined.\n",
      "Variable is defined.\n"
     ]
    }
   ],
   "source": [
    "# 121. determine whether variable is defined or not]\n",
    "x =\"\"\n",
    "y = \"\"\n",
    "try:\n",
    "  x = 1\n",
    "except NameError:\n",
    "  print(\"Variable is not defined....!\")\n",
    "else:\n",
    "  print(\"Variable is defined.\")\n",
    "try:\n",
    "  y\n",
    "except NameError:\n",
    "  print(\"Variable is not defined....!\")\n",
    "else:\n",
    "  print(\"Variable is defined.\")"
   ]
  },
  {
   "cell_type": "code",
   "execution_count": 127,
   "id": "ed7a38e9",
   "metadata": {},
   "outputs": [
    {
     "name": "stdout",
     "output_type": "stream",
     "text": [
      "0\n",
      "{}\n",
      "[]\n",
      "()\n"
     ]
    }
   ],
   "source": [
    "# 122. empty a variable without destroying it\n",
    "n = 20\n",
    "d = {\"x\":200}\n",
    "l = [1,3,5]\n",
    "t= (5,7,8)\n",
    "print(type(n)())\n",
    "print(type(d)())\n",
    "print(type(l)())\n",
    "print(type(t)())"
   ]
  },
  {
   "cell_type": "code",
   "execution_count": 128,
   "id": "0290210f",
   "metadata": {},
   "outputs": [
    {
     "name": "stdout",
     "output_type": "stream",
     "text": [
      "Float value information:  sys.float_info(max=1.7976931348623157e+308, max_exp=1024, max_10_exp=308, min=2.2250738585072014e-308, min_exp=-1021, min_10_exp=-307, dig=15, mant_dig=53, epsilon=2.220446049250313e-16, radix=2, rounds=1)\n",
      "\n",
      "Integer value information:  sys.int_info(bits_per_digit=30, sizeof_digit=4)\n",
      "\n",
      "Maximum size of an integer:  9223372036854775807\n"
     ]
    }
   ],
   "source": [
    "# 123.  determine the largest and smallest integers, longs, floats.\n",
    "import sys\n",
    "print(\"Float value information: \",sys.float_info)\n",
    "print(\"\\nInteger value information: \",sys.int_info)\n",
    "print(\"\\nMaximum size of an integer: \",sys.maxsize) "
   ]
  },
  {
   "cell_type": "code",
   "execution_count": 129,
   "id": "693a8810",
   "metadata": {},
   "outputs": [
    {
     "name": "stdout",
     "output_type": "stream",
     "text": [
      "All varialbes have same values\n"
     ]
    }
   ],
   "source": [
    "# 124. check whether multiple variables have the same value\n",
    "x = 14\n",
    "y = 14\n",
    "z = 14\n",
    "\n",
    "if x==y==z==14:\n",
    "    print(\"All varialbes have same values\")"
   ]
  },
  {
   "cell_type": "code",
   "execution_count": 1,
   "id": "bec888c3",
   "metadata": {},
   "outputs": [
    {
     "name": "stdout",
     "output_type": "stream",
     "text": [
      "20\n",
      "20\n"
     ]
    }
   ],
   "source": [
    "# 125 Sum of all counts in a collections\n",
    "from cmath import sqrt\n",
    "import collections\n",
    "\n",
    "import flask\n",
    "numbers = [2,3,5,6,7,8,21,45,65,12,63,345,1355,366,346,765,45,235,645,234]\n",
    "print(sum(collections.Counter(numbers).values()))\n",
    "\n",
    "# method 2nd\n",
    "print(len(numbers))"
   ]
  },
  {
   "cell_type": "code",
   "execution_count": 2,
   "id": "b0a66f14",
   "metadata": {},
   "outputs": [
    {
     "name": "stdout",
     "output_type": "stream",
     "text": [
      "<module 'cmath' (built-in)>\n",
      "<module 'flask' from 'C:\\\\Users\\\\HalwaShubham.SEASIAINFOTECH\\\\Anaconda3\\\\lib\\\\site-packages\\\\flask\\\\__init__.py'>\n",
      "<module '__main__'>\n"
     ]
    }
   ],
   "source": [
    "# 126. get the actual module object for a given object\n",
    "import inspect\n",
    "print(inspect.getmodule(sqrt))\n",
    "print(inspect.getmodule(flask))\n",
    "\n",
    "import inspect\n",
    "def addition(x, y):\n",
    "    return x + y\n",
    "print(inspect.getmodule(addition))"
   ]
  },
  {
   "cell_type": "code",
   "execution_count": 3,
   "id": "021c5f52",
   "metadata": {},
   "outputs": [
    {
     "name": "stdout",
     "output_type": "stream",
     "text": [
      "64\n",
      "64\n"
     ]
    }
   ],
   "source": [
    "# 127. check whether an integer fits in 64 bits\n",
    "int_num = 6498476587686213561\n",
    "if int_num.bit_length() <= 63:\n",
    "    print((-2 ** 63).bit_length())\n",
    "    print((2 ** 63).bit_length())"
   ]
  },
  {
   "cell_type": "code",
   "execution_count": 4,
   "id": "e521dee4",
   "metadata": {},
   "outputs": [
    {
     "name": "stdout",
     "output_type": "stream",
     "text": [
      "True\n"
     ]
    }
   ],
   "source": [
    "# 128. check whether lowercase letters exist in a string\n",
    "def lower_case_str(text):\n",
    "    ctr = 0\n",
    "    for char in text:\n",
    "       if(ord(char) >= 97 and ord(char) <= 122):\n",
    "           ctr = ctr + 1\n",
    "    if (ctr>0):\n",
    "       return True\n",
    "   \n",
    "print(lower_case_str(\"ARASDHGHDRTRSTaYTY\"))"
   ]
  },
  {
   "cell_type": "code",
   "execution_count": 5,
   "id": "9e84b5c7",
   "metadata": {},
   "outputs": [
    {
     "name": "stdout",
     "output_type": "stream",
     "text": [
      "323.46345300000\n"
     ]
    }
   ],
   "source": [
    "# 129. add leading zeroes to a string\n",
    "num = '323.463453'\n",
    "num = num.ljust(15, '0')\n",
    "print(num)\n"
   ]
  },
  {
   "cell_type": "code",
   "execution_count": 6,
   "id": "4bc98e74",
   "metadata": {},
   "outputs": [
    {
     "name": "stdout",
     "output_type": "stream",
     "text": [
      "\"My name is shubham\"\n"
     ]
    }
   ],
   "source": [
    "# 130. use double quotes to display strings\n",
    "print('''\"My name is shubham\"''')"
   ]
  },
  {
   "cell_type": "code",
   "execution_count": 7,
   "id": "3359b2e2",
   "metadata": {},
   "outputs": [
    {
     "name": "stdout",
     "output_type": "stream",
     "text": [
      "a b c\n"
     ]
    }
   ],
   "source": [
    "# 131. split a variable length string into variables\n",
    "var_list = ['a', 'b', 'c']\n",
    "x, y, z = var_list\n",
    "print(x,y,z)"
   ]
  },
  {
   "cell_type": "code",
   "execution_count": 8,
   "id": "6de2d54f",
   "metadata": {},
   "outputs": [
    {
     "name": "stdout",
     "output_type": "stream",
     "text": [
      "C:\\Users\\HalwaShubham.SEASIAINFOTECH\n"
     ]
    }
   ],
   "source": [
    "# 132. list home directory without absolute path\n",
    "import os.path\n",
    "print(os.path.expanduser('~'))"
   ]
  },
  {
   "cell_type": "code",
   "execution_count": 10,
   "id": "242c491c",
   "metadata": {},
   "outputs": [
    {
     "name": "stdout",
     "output_type": "stream",
     "text": [
      "Enter the value of x:\n",
      "5\n",
      "0\n",
      "1\n",
      "2\n",
      "3\n",
      "4\n",
      "0.000997304916381836\n"
     ]
    }
   ],
   "source": [
    "# 133. calculate the time runs (difference between start and current time) of a program\n",
    "import time\n",
    "n = int(input(\"Enter the value of x:\\n\"))\n",
    "start = time.time()\n",
    "for row in range(0,n):\n",
    "    print(row)\n",
    "end = time.time()\n",
    "print(end - start)"
   ]
  },
  {
   "cell_type": "code",
   "execution_count": 12,
   "id": "eefffd8e",
   "metadata": {},
   "outputs": [
    {
     "name": "stdout",
     "output_type": "stream",
     "text": [
      "Enter the value of x and y\n",
      "6,9\n",
      "the value of x and y are <class 'int'> ['6,9']\n",
      "<class 'int'>\n",
      "['6,9']\n"
     ]
    }
   ],
   "source": [
    "# 134.  input two integers in a single line\n",
    "print(\"Enter the value of x and y\")\n",
    "x, y = (int,input().split())\n",
    "print(\"the value of x and y are\", x, y)\n",
    "print(x)\n",
    "print(y)\n",
    "\n",
    "# method - 2\n",
    "\n",
    "# x, y = int(input(\"Enter the value of x\")), int(input(\"Enter the value of x\"))\n",
    "# print(x)\n",
    "# print(y)"
   ]
  },
  {
   "cell_type": "code",
   "execution_count": 13,
   "id": "52f89fca",
   "metadata": {},
   "outputs": [
    {
     "name": "stdout",
     "output_type": "stream",
     "text": [
      "The value of x is \"30\"\n"
     ]
    }
   ],
   "source": [
    "# 135. variable without spaces between values\n",
    "x=30\n",
    "print(f'The value of x is \"{x}\"')"
   ]
  },
  {
   "cell_type": "code",
   "execution_count": 14,
   "id": "69e1a27e",
   "metadata": {},
   "outputs": [
    {
     "ename": "FileNotFoundError",
     "evalue": "[WinError 3] The system cannot find the path specified: 'C:\\\\Users\\\\DEVIL\\\\Downloads\\\\Documents'",
     "output_type": "error",
     "traceback": [
      "\u001b[1;31m---------------------------------------------------------------------------\u001b[0m",
      "\u001b[1;31mFileNotFoundError\u001b[0m                         Traceback (most recent call last)",
      "Input \u001b[1;32mIn [14]\u001b[0m, in \u001b[0;36m<cell line: 3>\u001b[1;34m()\u001b[0m\n\u001b[0;32m      1\u001b[0m \u001b[38;5;66;03m# 136. find files and skip directories of a given directory\u001b[39;00m\n\u001b[0;32m      2\u001b[0m \u001b[38;5;28;01mimport\u001b[39;00m \u001b[38;5;21;01mos\u001b[39;00m\n\u001b[1;32m----> 3\u001b[0m \u001b[38;5;28mprint\u001b[39m([f \u001b[38;5;28;01mfor\u001b[39;00m f \u001b[38;5;129;01min\u001b[39;00m \u001b[43mos\u001b[49m\u001b[38;5;241;43m.\u001b[39;49m\u001b[43mlistdir\u001b[49m\u001b[43m(\u001b[49m\u001b[38;5;124;43m'\u001b[39;49m\u001b[38;5;124;43mC:\u001b[39;49m\u001b[38;5;130;43;01m\\\\\u001b[39;49;00m\u001b[38;5;124;43mUsers\u001b[39;49m\u001b[38;5;130;43;01m\\\\\u001b[39;49;00m\u001b[38;5;124;43mDEVIL\u001b[39;49m\u001b[38;5;130;43;01m\\\\\u001b[39;49;00m\u001b[38;5;124;43mDownloads\u001b[39;49m\u001b[38;5;130;43;01m\\\\\u001b[39;49;00m\u001b[38;5;124;43mDocuments\u001b[39;49m\u001b[38;5;124;43m'\u001b[39;49m\u001b[43m)\u001b[49m \u001b[38;5;28;01mif\u001b[39;00m os\u001b[38;5;241m.\u001b[39mpath\u001b[38;5;241m.\u001b[39misfile(os\u001b[38;5;241m.\u001b[39mpath\u001b[38;5;241m.\u001b[39mjoin(\u001b[38;5;124m'\u001b[39m\u001b[38;5;124mC:\u001b[39m\u001b[38;5;130;01m\\\\\u001b[39;00m\u001b[38;5;124mUsers\u001b[39m\u001b[38;5;130;01m\\\\\u001b[39;00m\u001b[38;5;124mDEVIL\u001b[39m\u001b[38;5;130;01m\\\\\u001b[39;00m\u001b[38;5;124mDownloads\u001b[39m\u001b[38;5;130;01m\\\\\u001b[39;00m\u001b[38;5;124mDocuments\u001b[39m\u001b[38;5;124m'\u001b[39m, f))])\n",
      "\u001b[1;31mFileNotFoundError\u001b[0m: [WinError 3] The system cannot find the path specified: 'C:\\\\Users\\\\DEVIL\\\\Downloads\\\\Documents'"
     ]
    }
   ],
   "source": [
    "# 136. find files and skip directories of a given directory\n",
    "import os\n",
    "print([f for f in os.listdir('C:\\\\Users\\\\DEVIL\\\\Downloads\\\\Documents') if os.path.isfile(os.path.join('C:\\\\Users\\\\DEVIL\\\\Downloads\\\\Documents', f))])"
   ]
  },
  {
   "cell_type": "code",
   "execution_count": 15,
   "id": "a726b8c9",
   "metadata": {},
   "outputs": [
    {
     "name": "stdout",
     "output_type": "stream",
     "text": [
      "{'name': 'shubham', 'location': 'mohali'}\n",
      "location mohali\n"
     ]
    }
   ],
   "source": [
    "# 137. extract single key-value pair of a dictionary in variables\n",
    "mydict = {'name':'shubham', 'location':'mohali'}\n",
    "print(mydict)\n",
    "x, y = list(mydict.items())[1]\n",
    "print(x, y)"
   ]
  },
  {
   "cell_type": "code",
   "execution_count": 16,
   "id": "292d3de6",
   "metadata": {},
   "outputs": [
    {
     "name": "stdout",
     "output_type": "stream",
     "text": [
      "choose 0 or 1\n",
      "Enter the value of n:\n",
      "0\n",
      "False\n"
     ]
    }
   ],
   "source": [
    "# 138. convert true to 1 and false to 0\n",
    "print(\"choose 0 or 1\")\n",
    "n = int(input(\"Enter the value of n:\\n\"))\n",
    "if n==1:\n",
    "    print(True)\n",
    "elif n==0:\n",
    "    print(False)"
   ]
  },
  {
   "cell_type": "code",
   "execution_count": 17,
   "id": "2c9f3530",
   "metadata": {},
   "outputs": [
    {
     "name": "stdout",
     "output_type": "stream",
     "text": [
      "Valid IP\n"
     ]
    }
   ],
   "source": [
    "# 139. valid a IP address\n",
    "import socket\n",
    "addr = '192.168.1.1'\n",
    "try:\n",
    "    socket.inet_aton(addr)\n",
    "    print(\"Valid IP\")\n",
    "except socket.error:\n",
    "    print(\"Invalid IP\")\n"
   ]
  },
  {
   "cell_type": "code",
   "execution_count": 18,
   "id": "1e3f9707",
   "metadata": {},
   "outputs": [
    {
     "name": "stdout",
     "output_type": "stream",
     "text": [
      "0001100100\n",
      "000000001100100\n"
     ]
    }
   ],
   "source": [
    "# 140 convert an integer to binary keep leading zeros\n",
    "x = 100\n",
    "print(format(x, '010b'))\n",
    "print(format(x, '015b'))\n"
   ]
  },
  {
   "cell_type": "code",
   "execution_count": 19,
   "id": "f34aee28",
   "metadata": {},
   "outputs": [
    {
     "name": "stdout",
     "output_type": "stream",
     "text": [
      "00000003e8\n"
     ]
    }
   ],
   "source": [
    "# 141. convert decimal to hexadecimal.\n",
    "x = 1000\n",
    "print(format(x, '010x'))"
   ]
  },
  {
   "cell_type": "code",
   "execution_count": 20,
   "id": "41e1d1f3",
   "metadata": {},
   "outputs": [],
   "source": [
    "# 142. ******************************************************"
   ]
  },
  {
   "cell_type": "code",
   "execution_count": 21,
   "id": "1520e05d",
   "metadata": {},
   "outputs": [
    {
     "name": "stdout",
     "output_type": "stream",
     "text": [
      "64\n"
     ]
    }
   ],
   "source": [
    "# 143.  determine if the python shell is executing in 32bit or 64bit mode on operating system\n",
    "import struct\n",
    "print(struct.calcsize(\"P\") * 8)"
   ]
  },
  {
   "cell_type": "code",
   "execution_count": 22,
   "id": "e11241c5",
   "metadata": {},
   "outputs": [
    {
     "name": "stdout",
     "output_type": "stream",
     "text": [
      "Enter the value of x:\n",
      "3\n",
      "True\n"
     ]
    }
   ],
   "source": [
    "# 144. check whether variable is integer or string\n",
    "x = int(input(\"Enter the value of x:\\n\"))\n",
    "if x==int(x) or x==str(x):\n",
    "    print(True)\n",
    "else:\n",
    "    print(False)"
   ]
  },
  {
   "cell_type": "code",
   "execution_count": 23,
   "id": "858dcda7",
   "metadata": {},
   "outputs": [
    {
     "name": "stdout",
     "output_type": "stream",
     "text": [
      "<class 'tuple'>\n",
      "<class 'set'>\n",
      "<class 'list'>\n"
     ]
    }
   ],
   "source": [
    "# 145. test if a variable is a list or tuple or a set\n",
    "x = (2,3,4,5,6)\n",
    "y = {2,3,4,5,6}\n",
    "z = [2,3,4,5,6]\n",
    "print(type(x))\n",
    "print(type(y))\n",
    "print(type(z))"
   ]
  },
  {
   "cell_type": "code",
   "execution_count": 24,
   "id": "4b7913d3",
   "metadata": {},
   "outputs": [
    {
     "name": "stdout",
     "output_type": "stream",
     "text": [
      "module source: (<_io.TextIOWrapper name='C:\\\\Users\\\\HalwaShubham.SEASIAINFOTECH\\\\Anaconda3\\\\lib\\\\os.py' mode='r' encoding='utf-8'>, 'C:\\\\Users\\\\HalwaShubham.SEASIAINFOTECH\\\\Anaconda3\\\\lib\\\\os.py', ('.py', 'r', 1))\n"
     ]
    }
   ],
   "source": [
    "# 146. find the location of Python module sources\n",
    "import imp\n",
    "from importlib import import_module\n",
    "print(\"module source:\", imp.find_module('os'))"
   ]
  },
  {
   "cell_type": "code",
   "execution_count": 26,
   "id": "0cdce3b5",
   "metadata": {},
   "outputs": [
    {
     "name": "stdout",
     "output_type": "stream",
     "text": [
      "True\n"
     ]
    }
   ],
   "source": [
    "# 147.check whether a number is divisible by another number. Accept two integers values form the user\n",
    "def devisible(x, y):\n",
    "    if x%y==0:\n",
    "        print(True)\n",
    "    else:\n",
    "        print(False)\n",
    "        \n",
    "devisible(30,2)"
   ]
  },
  {
   "cell_type": "code",
   "execution_count": 27,
   "id": "32dbec3e",
   "metadata": {},
   "outputs": [
    {
     "name": "stdout",
     "output_type": "stream",
     "text": [
      "(75, -5)\n"
     ]
    }
   ],
   "source": [
    "# 148. find the maximum and minimum numbers from a sequence of numbers\n",
    "def max_min(data):\n",
    "    l = data[0]\n",
    "    s = data[0]\n",
    "    for num in data:\n",
    "        if num> l:\n",
    "            l = num\n",
    "        elif num< s:\n",
    "            s = num\n",
    "    return l, s\n",
    "\n",
    "print(max_min([0, 10, 15, 40, -5, 42, 17, 28, 75]))"
   ]
  },
  {
   "cell_type": "code",
   "execution_count": 28,
   "id": "77356985",
   "metadata": {},
   "outputs": [
    {
     "name": "stdout",
     "output_type": "stream",
     "text": [
      "36100\n"
     ]
    }
   ],
   "source": [
    "# 149. takes a positive integer and returns the sum of the cube of all the positive integers smaller than the specified number\n",
    "def integer(n):\n",
    "    n -= 1\n",
    "    total = 0\n",
    "    while n>0:\n",
    "        total += n*n*n\n",
    "        n -=1\n",
    "    return total\n",
    "print(integer(20))"
   ]
  },
  {
   "cell_type": "code",
   "execution_count": 29,
   "id": "dfe0b3db",
   "metadata": {},
   "outputs": [
    {
     "name": "stdout",
     "output_type": "stream",
     "text": [
      "False\n"
     ]
    }
   ],
   "source": [
    "# 150. check whether a distinct pair of numbers whose product is odd present in a sequence of integer values\n",
    "# def odd_product(nums):\n",
    "#         for i in range(len(nums)):\n",
    "#             for j in range(len(nums)):\n",
    "#                 if  i != j:\n",
    "#                     product = nums[i] * nums[j]\n",
    "#                     if product & 1:\n",
    "#                         return True\n",
    "#         return False          \n",
    "# dt1 = [2, 4, 6, 8]\n",
    "# dt2 = [1, 6, 4, 7, 8]\n",
    "# dt3 = [1, 3, 5, 7, 9]\n",
    "\n",
    "\n",
    "def findOdd(numbers):\n",
    "    for i in range(len(numbers)):\n",
    "        for j in range(len(numbers)):\n",
    "            if i != j:\n",
    "                product = numbers[i] * numbers[j]\n",
    "                if product & 1:\n",
    "                    return True\n",
    "    return False\n",
    "numbers = ([2, 6, 4, 8, 8])\n",
    "# numbers = ([1, 6, 4, 7, 8])\n",
    "# numbers = ([1, 3, 5, 7, 9])\n",
    "print(findOdd(numbers))                "
   ]
  },
  {
   "cell_type": "code",
   "execution_count": null,
   "id": "61f7c561",
   "metadata": {},
   "outputs": [],
   "source": []
  }
 ],
 "metadata": {
  "kernelspec": {
   "display_name": "Python 3 (ipykernel)",
   "language": "python",
   "name": "python3"
  },
  "language_info": {
   "codemirror_mode": {
    "name": "ipython",
    "version": 3
   },
   "file_extension": ".py",
   "mimetype": "text/x-python",
   "name": "python",
   "nbconvert_exporter": "python",
   "pygments_lexer": "ipython3",
   "version": "3.9.12"
  }
 },
 "nbformat": 4,
 "nbformat_minor": 5
}
